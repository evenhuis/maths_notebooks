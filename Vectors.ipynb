{
 "cells": [
  {
   "cell_type": "markdown",
   "metadata": {},
   "source": [
    "# Vectors"
   ]
  },
  {
   "cell_type": "code",
   "execution_count": 3,
   "metadata": {},
   "outputs": [
    {
     "name": "stdout",
     "output_type": "stream",
     "text": [
      "Version of sympy: \t1.3\n",
      "Version of matplotlib: \t3.0.3\n",
      "Version of numpy: \t1.16.2\n"
     ]
    }
   ],
   "source": [
    "import sympy\n",
    "import matplotlib\n",
    "import matplotlib.pyplot as plt\n",
    "import numpy as np\n",
    "import matplotlib.cm as cm\n",
    "my_cmap = cm.Pastel2\n",
    "\n",
    "# Versions: So you know which documentation to look at\n",
    "print(\"Version of sympy: \\t\" + str(sympy.__version__)) \n",
    "print(\"Version of matplotlib: \\t\" + str(matplotlib.__version__)) \n",
    "print(\"Version of numpy: \\t\" + str(np.__version__))\n",
    "\n",
    "# Make things from sympy print nicely.\n",
    "sympy.init_printing() \n",
    "\n",
    "# Output of this cell may change depending on which computer you run it on."
   ]
  },
  {
   "cell_type": "markdown",
   "metadata": {},
   "source": [
    "# Vectors"
   ]
  },
  {
   "cell_type": "code",
   "execution_count": 4,
   "metadata": {},
   "outputs": [
    {
     "data": {
      "image/png": "[encoded data removed]",
      "text/latex": [
       "$$(3)\\mathbf{\\hat{i}_{N}} + (4)\\mathbf{\\hat{j}_{N}}$$"
      ],
      "text/plain": [
       "3*N.i + 4*N.j"
      ]
     },
     "execution_count": 4,
     "metadata": {},
     "output_type": "execute_result"
    }
   ],
   "source": [
    "from sympy.vector import CoordSys3D\n",
    "# Create our coordinate system, call it N.\n",
    "N = CoordSys3D('N') \n",
    "\n",
    "# Make a vector\n",
    "v1 = 3*N.i + 4*N.j\n",
    "# Print it out\n",
    "v1"
   ]
  },
  {
   "cell_type": "markdown",
   "metadata": {},
   "source": [
    "## Find the magnitude of the vector\n",
    "\n",
    "$$\n",
    "    \\| \\mathbf{v} \\| = \\sqrt{ v^2_1 + v^2_2 + \\ldots + v^2_n}\n",
    "$$"
   ]
  },
  {
   "cell_type": "code",
   "execution_count": 5,
   "metadata": {},
   "outputs": [
    {
     "data": {
      "image/png": "[encoded data removed]",
      "text/latex": [
       "$$5$$"
      ],
      "text/plain": [
       "5"
      ]
     },
     "execution_count": 5,
     "metadata": {},
     "output_type": "execute_result"
    }
   ],
   "source": [
    "v1.magnitude()"
   ]
  },
  {
   "cell_type": "markdown",
   "metadata": {},
   "source": [
    "## Finding the unit-vector\n",
    "\n",
    "$$\n",
    "    \\hat{\\mathbf{v}} = \\frac{\\mathbf{v}}{\\| \\mathbf{v} \\|}\n",
    "$$"
   ]
  },
  {
   "cell_type": "code",
   "execution_count": 6,
   "metadata": {},
   "outputs": [
    {
     "data": {
      "image/png": "[encoded data removed]",
      "text/latex": [
       "$$(\\frac{3}{5})\\mathbf{\\hat{i}_{N}} + (\\frac{4}{5})\\mathbf{\\hat{j}_{N}}$$"
      ],
      "text/plain": [
       "3/5*N.i + 4/5*N.j"
      ]
     },
     "execution_count": 6,
     "metadata": {},
     "output_type": "execute_result"
    }
   ],
   "source": [
    "v_hat = v1 / v1.magnitude()\n",
    "v_hat"
   ]
  },
  {
   "cell_type": "markdown",
   "metadata": {},
   "source": [
    "This is also called 'normalising' and can be done using the `normalize()` method."
   ]
  },
  {
   "cell_type": "code",
   "execution_count": 7,
   "metadata": {},
   "outputs": [
    {
     "data": {
      "image/png": "[encoded data removed]",
      "text/latex": [
       "$$(\\frac{3}{5})\\mathbf{\\hat{i}_{N}} + (\\frac{4}{5})\\mathbf{\\hat{j}_{N}}$$"
      ],
      "text/plain": [
       "3/5*N.i + 4/5*N.j"
      ]
     },
     "execution_count": 7,
     "metadata": {},
     "output_type": "execute_result"
    }
   ],
   "source": [
    "v_normalised = v1.normalize()\n",
    "v_normalised"
   ]
  },
  {
   "cell_type": "markdown",
   "metadata": {},
   "source": [
    "You can even use python to check that they are the same:"
   ]
  },
  {
   "cell_type": "code",
   "execution_count": 8,
   "metadata": {},
   "outputs": [
    {
     "name": "stdout",
     "output_type": "stream",
     "text": [
      "They're the same!\n"
     ]
    }
   ],
   "source": [
    "if v_normalised == v_hat:\n",
    "    print(\"They're the same!\")\n",
    "else:\n",
    "    print(\"They're NOT the same!\")"
   ]
  },
  {
   "cell_type": "code",
   "execution_count": 9,
   "metadata": {},
   "outputs": [
    {
     "data": {
      "image/png": "[encoded data removed]",
      "text/latex": [
       "$$3$$"
      ],
      "text/plain": [
       "3"
      ]
     },
     "execution_count": 9,
     "metadata": {},
     "output_type": "execute_result"
    }
   ],
   "source": [
    "(v1.components)[N.i]"
   ]
  },
  {
   "cell_type": "markdown",
   "metadata": {},
   "source": [
    "### Function to plot vectors at origin in 2D"
   ]
  },
  {
   "cell_type": "code",
   "execution_count": 10,
   "metadata": {},
   "outputs": [],
   "source": [
    "\"\"\"\n",
    "Takes in a list of vectors and plots them on a 2D cartesian plane with starting points at the origin.\n",
    "Colour will be different for each vector.\n",
    "\"\"\"\n",
    "def plot_vecs_2D(v_list):\n",
    "    x = [int(vec.components[N.i]) for vec in v_list]\n",
    "    y = [int(vec.components[N.j]) for vec in v_list]\n",
    "    x_pos = [0 for el in x]\n",
    "    y_pos = [0 for el in y]\n",
    "    # soa = np.array([[0, 0, 3, 2], [0, 0, 1, 1], [0, 0, 9, 9]])\n",
    "    # X, Y, U, V = zip(*soa) # unzipping\n",
    "    plt.figure()\n",
    "    ax = plt.gca()\n",
    "    colours = np.linspace(1,2,2*len(x))\n",
    "    ax.quiver(x_pos, y_pos, x, y, [colours], angles='xy', scale_units='xy', scale=1, cmap=my_cmap)\n",
    "    lower_x = min([0, 1.2*min(x)])\n",
    "    lower_y = min([0, 1.2*min(y)])\n",
    "    upper_x = max([10, 1.2*max(x)])\n",
    "    upper_y = max([10, 1.2*max(y)])\n",
    "    ax.set_xlim([lower_x, upper_x])\n",
    "    ax.set_ylim([lower_y, upper_y])\n",
    "    plt.xlabel(\"$x$-component\")\n",
    "    plt.ylabel(\"$y$-component\")\n",
    "    plt.grid()\n",
    "    plt.show()"
   ]
  },
  {
   "cell_type": "code",
   "execution_count": 11,
   "metadata": {},
   "outputs": [
    {
     "data": {
      "image/png": "[encoded data removed]",
      "text/plain": [
       "<Figure size 432x288 with 1 Axes>"
      ]
     },
     "metadata": {
      "needs_background": "light"
     },
     "output_type": "display_data"
    }
   ],
   "source": [
    "v2 = -5*N.i + -7*N.j\n",
    "v3 = 6*N.i + -100*N.j\n",
    "v4 = -1 * v3\n",
    "plot_vecs_2D([v1, v2,v3, v4])"
   ]
  },
  {
   "cell_type": "markdown",
   "metadata": {},
   "source": [
    "## Graphically proving the parallelogram law"
   ]
  },
  {
   "cell_type": "code",
   "execution_count": 18,
   "metadata": {},
   "outputs": [],
   "source": [
    "\"\"\"\n",
    "Pass in two vectors, 2D..\n",
    "\"\"\"\n",
    "def parallelogram_law(v_1, v_2):\n",
    "    x =    [float(v1.components[N.i]),\n",
    "            float(v2.components[N.i]),\n",
    "            float(v1.components[N.i]),\n",
    "            float(v2.components[N.i])]\n",
    "    y =    [float(v1.components[N.j]),\n",
    "            float(v2.components[N.j]),\n",
    "            float(v1.components[N.j]),\n",
    "            float(v2.components[N.j])]\n",
    "    x_pos = [0,0,float(v2.components[N.i]),float(v1.components[N.i])]\n",
    "    y_pos = [0,0,float(v2.components[N.j]),float(v1.components[N.j])]\n",
    "    # soa = np.array([[0, 0, 3, 2], [0, 0, 1, 1], [0, 0, 9, 9]])\n",
    "    # X, Y, U, V = zip(*soa) # unzipping\n",
    "    plt.figure()\n",
    "    ax = plt.gca()\n",
    "    \n",
    "    ax.quiver(x_pos, y_pos, x, y, [1,2,1,2], angles='xy', scale_units='xy', scale=1, cmap=my_cmap)\n",
    "    lower_x = min([0,  1.2 * (v1.components[N.i]+v2.components[N.i]) ])\n",
    "    lower_y = min([0,  1.2 * (v1.components[N.j]+v2.components[N.j]) ])\n",
    "    upper_x = max([10, 1.2 * (v1.components[N.i]+v2.components[N.i]) ])\n",
    "    upper_y = max([10, 1.2 * (v1.components[N.j]+v2.components[N.j]) ])\n",
    "    print(lower_x, lower_y, upper_x, upper_y)\n",
    "    ax.set_xlim([int(lower_x), int(upper_x)])\n",
    "    ax.set_ylim([int(lower_y), int(upper_y)])\n",
    "    plt.xlabel(\"$x$-component\")\n",
    "    plt.ylabel(\"$y$-component\")\n",
    "    plt.grid()\n",
    "    plt.show()"
   ]
  },
  {
   "cell_type": "code",
   "execution_count": 19,
   "metadata": {},
   "outputs": [
    {
     "name": "stdout",
     "output_type": "stream",
     "text": [
      "0 0 10 124.800000000000\n"
     ]
    },
    {
     "data": {
      "image/png": "[encoded data removed]",
      "text/plain": [
       "<Figure size 432x288 with 1 Axes>"
      ]
     },
     "metadata": {
      "needs_background": "light"
     },
     "output_type": "display_data"
    }
   ],
   "source": [
    "v1 = 3*N.i + 4*N.j\n",
    "v2 = 2*N.i + 100*N.j\n",
    "parallelogram_law(v1, v2)"
   ]
  },
  {
   "cell_type": "markdown",
   "metadata": {},
   "source": [
    "# -------- Questions --------"
   ]
  },
  {
   "cell_type": "markdown",
   "metadata": {},
   "source": [
    "## Question 1:\n",
    "\n"
   ]
  },
  {
   "cell_type": "markdown",
   "metadata": {},
   "source": [
    "## Answer 1:\n"
   ]
  },
  {
   "cell_type": "code",
   "execution_count": null,
   "metadata": {},
   "outputs": [],
   "source": []
  },
  {
   "cell_type": "markdown",
   "metadata": {},
   "source": [
    "## Question 2:\n",
    "\n"
   ]
  },
  {
   "cell_type": "markdown",
   "metadata": {},
   "source": [
    "## Answer 2:"
   ]
  },
  {
   "cell_type": "code",
   "execution_count": null,
   "metadata": {},
   "outputs": [],
   "source": []
  },
  {
   "cell_type": "markdown",
   "metadata": {},
   "source": [
    "## Question 3:\n",
    "\n"
   ]
  },
  {
   "cell_type": "markdown",
   "metadata": {},
   "source": [
    "## Answer 3:"
   ]
  },
  {
   "cell_type": "code",
   "execution_count": null,
   "metadata": {},
   "outputs": [],
   "source": []
  },
  {
   "cell_type": "markdown",
   "metadata": {},
   "source": [
    "## Question $n$:\n",
    "\n"
   ]
  },
  {
   "cell_type": "markdown",
   "metadata": {},
   "source": [
    "## Answer $n$:"
   ]
  },
  {
   "cell_type": "code",
   "execution_count": null,
   "metadata": {},
   "outputs": [],
   "source": []
  }
 ],
 "metadata": {
  "kernelspec": {
   "display_name": "Python 3",
   "language": "python",
   "name": "python3"
  },
  "language_info": {
   "codemirror_mode": {
    "name": "ipython",
    "version": 3
   },
   "file_extension": ".py",
   "mimetype": "text/x-python",
   "name": "python",
   "nbconvert_exporter": "python",
   "pygments_lexer": "ipython3",
   "version": "3.7.3"
  }
 },
 "nbformat": 4,
 "nbformat_minor": 2
}
