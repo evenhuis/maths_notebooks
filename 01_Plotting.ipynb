{
 "cells": [
  {
   "cell_type": "markdown",
   "metadata": {},
   "source": [
    "# Plotting"
   ]
  },
  {
   "cell_type": "markdown",
   "metadata": {},
   "source": [
    "## Simple `sympy` plotting"
   ]
  },
  {
   "cell_type": "code",
   "execution_count": null,
   "metadata": {},
   "outputs": [],
   "source": [
    "# Setup\n",
    "from sympy import plot, Symbol, sqrt\n",
    "from sympy.plotting import plot3d, plot_parametric, plot3d_parametric_line"
   ]
  },
  {
   "cell_type": "markdown",
   "metadata": {},
   "source": [
    "### A line on a cartesian plane"
   ]
  },
  {
   "cell_type": "code",
   "execution_count": null,
   "metadata": {},
   "outputs": [],
   "source": [
    "# Make the line\n",
    "x = Symbol('x')   # Independent variable, x.\n",
    "y = 2*x+3\n",
    "\n",
    "# You may have to evaluate (hit Shift+Enter) this cell twice to make the plot pop-up.\n",
    "plot(y)"
   ]
  },
  {
   "cell_type": "markdown",
   "metadata": {},
   "source": [
    "## A more exotic plot\n",
    "\n",
    "Plotting more complex functions is just as easy, we simply have to ensure we know how to represent exponentiation!\n",
    "\n",
    "e.g.\n",
    "\n",
    "$$ \n",
    "f(x) = \\frac{1}{\\sqrt{1+x^4}}\n",
    "$$\n",
    "\n",
    "In python, exponentiation is indicated by two asterisks. \n",
    "\n",
    "$x^2$ = `x**2`"
   ]
  },
  {
   "cell_type": "code",
   "execution_count": null,
   "metadata": {},
   "outputs": [],
   "source": [
    "f = 1/sqrt(1+x**4)\n",
    "plot(f)"
   ]
  },
  {
   "cell_type": "code",
   "execution_count": null,
   "metadata": {},
   "outputs": [],
   "source": [
    "from sympy import plot, Symbol, sqrt, sin"
   ]
  },
  {
   "cell_type": "code",
   "execution_count": null,
   "metadata": {},
   "outputs": [],
   "source": [
    "f = sin(x)/x"
   ]
  },
  {
   "cell_type": "code",
   "execution_count": null,
   "metadata": {},
   "outputs": [],
   "source": [
    "plot(f)"
   ]
  },
  {
   "cell_type": "markdown",
   "metadata": {},
   "source": [
    "## The Folium of Descartes\n",
    "A famous graph. "
   ]
  },
  {
   "cell_type": "code",
   "execution_count": null,
   "metadata": {},
   "outputs": [],
   "source": [
    "t = Symbol('t')\n",
    "plot_parametric(3*t/(1+t**3),3*t**2/(1+t**3), (t, -0.3,90))"
   ]
  },
  {
   "cell_type": "markdown",
   "metadata": {},
   "source": [
    "### Aside: Parametric Functions\n",
    "\n",
    "You might wonder what a 'parametric' graph really means. You also might think it peculiar that there are two expressions passed into the `plot_parametric` function. \n",
    "\n",
    "In the simplest case, parametric equations have components specified by a single 'parameter', here our parameter is $t$. \n",
    "\n",
    "We then use $t$ to generate functions for $x$ and $y$ coordinates and those are the functions we've used to plot it.\n",
    "\n",
    "e.g. for the 'Folium of Descartes' we have:\n",
    "\n",
    "$$\n",
    "x \n",
    "= \n",
    "\\frac{3t}{1+t^3}\n",
    "\\qquad\n",
    "y\n",
    "=\n",
    "\\frac{3t^2}{1+t^3}\n",
    "$$\n",
    "\n",
    "> ```plot_parametric(3*t/(1+t**3),3*t**2/(1+t**3), (t, -0.3,90))```\n",
    "\n",
    "\n",
    "For more on the 'Folium of Descartes', there is a good discussion of the object [here](https://en.wikipedia.org/wiki/Folium_of_Descartes)."
   ]
  },
  {
   "cell_type": "markdown",
   "metadata": {},
   "source": [
    "### A plane on a 3D coordinate system"
   ]
  },
  {
   "cell_type": "code",
   "execution_count": null,
   "metadata": {},
   "outputs": [],
   "source": [
    "# Make 'y' a variable as well.\n",
    "y = Symbol('y')\n",
    "\n",
    "# Plot the plane(s), but don't make them show yet. Also, remove their axes.\n",
    "p = plot3d(2*x+3*y)\n",
    "plot3d(x*y)\n",
    "plot3d(-x*y)"
   ]
  },
  {
   "cell_type": "code",
   "execution_count": null,
   "metadata": {},
   "outputs": [],
   "source": [
    "# Make the plane\n",
    "y = Symbol('y')\n",
    "\n",
    "# Plot the plane(s), but don't make them show yet. Also, remove their axes for visual appeal.\n",
    "p1 = plot3d(2*x+3*y,  show=False, axis=False)   \n",
    "p2 = plot3d(-x*y,     show=False, axis=False)\n",
    "p3 = plot3d(x*y,      show=False, axis=False)\n",
    "\n",
    "# Add visual contents of p2 and p3 to p1 -- essentially plots them on the same figure.\n",
    "p1.append(p2[0])\n",
    "p1.append(p3[0])\n",
    "\n",
    "# Make p1 appear.\n",
    "p1.show()"
   ]
  },
  {
   "cell_type": "markdown",
   "metadata": {},
   "source": [
    "### A line in 3D space"
   ]
  },
  {
   "cell_type": "code",
   "execution_count": null,
   "metadata": {},
   "outputs": [],
   "source": [
    "t = Symbol('t')\n",
    "\n",
    "# Make the two plots, but don't show them yet.\n",
    "p1 = plot3d_parametric_line(1*t, 2*t, 3*t, (t, -10, 10))"
   ]
  },
  {
   "cell_type": "markdown",
   "metadata": {},
   "source": [
    "### Multiple lines with `sympy`"
   ]
  },
  {
   "cell_type": "code",
   "execution_count": null,
   "metadata": {},
   "outputs": [],
   "source": [
    "t = Symbol('t')\n",
    "\n",
    "# Make the two plots, but don't show them yet.\n",
    "p1 = plot3d_parametric_line(1*t, 2*t, 3*t, (t, -10, 10), show=False)\n",
    "p2 = plot3d_parametric_line(4*t, 5*t, 6*t, show=False)\n",
    "\n",
    "# Put the second plot (p2) in the same object as the first plot.\n",
    "p1.append(p2[0])\n",
    "\n",
    "# Color the lines differently\n",
    "p1[0].line_color = 'r'\n",
    "\n",
    "# Because we said 'show=False' earlier, we now have to call the 'show()' method.\n",
    "p1.show()"
   ]
  },
  {
   "cell_type": "markdown",
   "metadata": {},
   "source": [
    "### Limitations of `sympy` plotting\n",
    "\n",
    "The `sympy` plotting utilities are written on top of the `matplotlib` utilities. Simple plots like these are useful for functions that we are mildly familiar with, but are not the best approach, because:\n",
    "\n",
    "* `sympy` abstracts away how points are formed and plotted -- a feature that is useful for speed, but will inhibit you from working with any real significant data. \n",
    "* Shelter the user from the use of advanced tools available to us from `matplotlib` -- animations, vector-field plots, qualitative/descriptive visualisations.\n",
    "* The manner in which multiple things are plotted is rather unintuitive and clunky -- the `append()` method has to be used if the plots are generated separately.\n"
   ]
  },
  {
   "cell_type": "markdown",
   "metadata": {},
   "source": [
    "## Basic `matplotlib` plotting"
   ]
  },
  {
   "cell_type": "markdown",
   "metadata": {},
   "source": [
    "We will use `numpy` to create our points and `matplotlib` to place those points on graphs in (hopefully) a meaningful way."
   ]
  },
  {
   "cell_type": "code",
   "execution_count": null,
   "metadata": {},
   "outputs": [],
   "source": [
    "# It is standard practise to import numpy as np. \n",
    "import numpy as np   \n",
    "# Python plots (or 'pyplots') is a class within matplotlib, and must be imported accordingly.\n",
    "import matplotlib.pyplot as plt   \n",
    "\n",
    "# Get versions to know which documentation to look up\n",
    "from matplotlib import __version__ as plt_version\n",
    "from numpy import __version__ as np_version\n",
    "print('matplotlib is version: \\t' + str(plt_version))\n",
    "print('numpy is version: \\t' + str(np_version))"
   ]
  },
  {
   "cell_type": "markdown",
   "metadata": {},
   "source": [
    "We will use both `plt.scatter()` and `plt.plot()` for our plotting. The only difference between them is that `scatter` treats data like individual points and `plot` attempts to join the dots to create a line."
   ]
  },
  {
   "cell_type": "markdown",
   "metadata": {},
   "source": [
    "## Plot a single point"
   ]
  },
  {
   "cell_type": "code",
   "execution_count": null,
   "metadata": {},
   "outputs": [],
   "source": [
    "x = 3\n",
    "y = 3\n",
    "\n",
    "plt.scatter(x,y) # Axis will auto-scale."
   ]
  },
  {
   "cell_type": "markdown",
   "metadata": {},
   "source": [
    "## Plot a multiple points"
   ]
  },
  {
   "cell_type": "code",
   "execution_count": null,
   "metadata": {},
   "outputs": [],
   "source": [
    "np.linspace(0,10, 5)"
   ]
  },
  {
   "cell_type": "code",
   "execution_count": null,
   "metadata": {
    "scrolled": true
   },
   "outputs": [],
   "source": [
    "x = np.linspace(0,3, 5)  # Make 5 linearly spaced points between 0 and 3\n",
    "y = np.linspace(0,3, 5)\n",
    "\n",
    "plt.scatter(x,y)"
   ]
  },
  {
   "cell_type": "markdown",
   "metadata": {},
   "source": [
    "### A line on a cartesian plane"
   ]
  },
  {
   "cell_type": "code",
   "execution_count": null,
   "metadata": {},
   "outputs": [],
   "source": [
    "x = np.linspace(0,3)\n",
    "display(x)\n",
    "display(2*x)"
   ]
  },
  {
   "cell_type": "code",
   "execution_count": null,
   "metadata": {},
   "outputs": [],
   "source": [
    " # Generate linearly space points from 0 to 3.\n",
    "x = np.linspace(0, 3, 10)    # By default the function will create 50 points if you don't provide a third argument.\n",
    "y = 2*x\n",
    "\n",
    "plt.plot(x,y)   # Plots the dots and connects the dots.\n",
    "plt.show()"
   ]
  },
  {
   "cell_type": "markdown",
   "metadata": {},
   "source": [
    "### A line in 3D space"
   ]
  },
  {
   "cell_type": "code",
   "execution_count": null,
   "metadata": {
    "scrolled": false
   },
   "outputs": [],
   "source": [
    "# Get the 3D axis.\n",
    "from mpl_toolkits.mplot3d import Axes3D\n",
    "\n",
    "# Create a 'figure' object.\n",
    "fig = plt.figure()\n",
    "\n",
    "# Create an 'axis' object. The 'gca()' method is used to \"get current axis\".\n",
    "ax = fig.gca(projection='3d')\n",
    "\n",
    "# Specify our points in x, y, z\n",
    "x1 = 4*np.linspace(0,10) + 1\n",
    "y1 = 5*np.linspace(0,10) + 2\n",
    "z1 = 6*np.linspace(0,10) + 3\n",
    "\n",
    "# Plot.\n",
    "ax.plot(x1,y1,z1)\n",
    "\n",
    "plt.show()"
   ]
  },
  {
   "cell_type": "markdown",
   "metadata": {},
   "source": [
    "This looks identical to our `sympy` plot. This is because (as previously mentioned) the `sympy` plotting utilities are built on `matplotlib`."
   ]
  },
  {
   "cell_type": "markdown",
   "metadata": {},
   "source": [
    "### A plane on a 3D coordinate system"
   ]
  },
  {
   "cell_type": "code",
   "execution_count": null,
   "metadata": {},
   "outputs": [],
   "source": [
    "fig = plt.figure()\n",
    "ax = fig.gca(projection='3d')\n",
    "\n",
    "\n",
    "# Make the variables\n",
    "x = np.linspace(0,10)      # 'x'-domain\n",
    "y = np.linspace(0, 10)     # 'y'-domain\n",
    "xv, yv = np.meshgrid(x,y)   # Make the domain for the plane.\n",
    "\n",
    "# Equation of the plane.\n",
    "z = 3*xv+2*yv\n",
    "\n",
    "ax.plot_surface(xv, yv, z)"
   ]
  },
  {
   "cell_type": "markdown",
   "metadata": {},
   "source": [
    "## More elaborate `matplotlib` plotting"
   ]
  },
  {
   "cell_type": "markdown",
   "metadata": {},
   "source": [
    "Let's make expanded and more feature-filled versions of our other plots."
   ]
  },
  {
   "cell_type": "markdown",
   "metadata": {},
   "source": [
    "### Plots of lines on a cartesian plane"
   ]
  },
  {
   "cell_type": "code",
   "execution_count": null,
   "metadata": {},
   "outputs": [],
   "source": [
    "x = np.linspace(0,3)\n",
    "y1 = 2*x\n",
    "y2 = 3*x\n",
    "y3 = 4*x-3\n",
    "y4 = 4*x-6\n",
    "\n",
    "plt.plot(x,y1, color='b', label='blue data')\n",
    "plt.plot(x,y2, color='r', label='red data')\n",
    "plt.plot(x,y3, color='g', label='green data')\n",
    "plt.plot(x,y4, color='y', label='yellow data')\n",
    "\n",
    "# Turn a grid on.\n",
    "plt.grid()\n",
    "\n",
    "# Title the plot.\n",
    "plt.title('My Colourful Plot')\n",
    "\n",
    "# Label axes\n",
    "plt.xlabel('x-values')\n",
    "plt.ylabel('y-values')\n",
    "\n",
    "# Make the plot have a legend based on the data 'labels'\n",
    "plt.legend()"
   ]
  },
  {
   "cell_type": "markdown",
   "metadata": {},
   "source": [
    "Quoting the `matplotlib` documentation [here](https://matplotlib.org/3.0.3/gallery/color/color_demo.html), color can be specified with a letter.\n",
    "\n",
    "> ```a single letter string, i.e. one of {'b', 'g', 'r', 'c', 'm', 'y', 'k', 'w'};```"
   ]
  },
  {
   "cell_type": "markdown",
   "metadata": {},
   "source": [
    "### Lines in 3D space"
   ]
  },
  {
   "cell_type": "code",
   "execution_count": null,
   "metadata": {},
   "outputs": [],
   "source": [
    "# Get the 3D axis.\n",
    "from mpl_toolkits.mplot3d import Axes3D\n",
    "\n",
    "# Create a 'figure' object.\n",
    "fig = plt.figure()\n",
    "\n",
    "# Create an 'axis' object.\n",
    "ax = fig.gca(projection='3d')\n",
    "\n",
    "# First line line of data\n",
    "x1 = 1*np.linspace(0,10)\n",
    "y1 = 2*np.linspace(0,10)\n",
    "z1 = 3*np.linspace(0,10)\n",
    "ax.plot(x1,y1,z1, label='Line 1')\n",
    "\n",
    "# Second line of data\n",
    "x2 = 4*np.linspace(0,10) + 1\n",
    "y2 = 5*np.linspace(0,10) + 2\n",
    "z2 = 6*np.linspace(0,10) + 3\n",
    "ax.plot(x2,y2,z2, label='Line 2')\n",
    "\n",
    "# Third line of data\n",
    "x3 = 7*np.linspace(0,10) + 4\n",
    "y3 = 8*np.linspace(0,10) + 5\n",
    "z3 = 9*np.linspace(0,10) + 6\n",
    "ax.plot(x3,y3,z3, label='Line 3')\n",
    "\n",
    "# Specify axis limits\n",
    "ax.set_xlim3d(0, 10)\n",
    "ax.set_ylim3d(0,10)\n",
    "ax.set_zlim3d(0,10)\n",
    "\n",
    "# Label the axes\n",
    "ax.set_xlabel('x-axis')\n",
    "ax.set_ylabel('y-axis')\n",
    "ax.set_zlabel('z-axis')\n",
    "\n",
    "# Specify viewing orientation\n",
    "ax.view_init(5, 20.0)           # (Φ, θ)\n",
    "\n",
    "# Get a legend showing, displaying the labels.\n",
    "plt.legend()\n",
    "\n",
    "# Display the result\n",
    "plt.show()"
   ]
  },
  {
   "cell_type": "markdown",
   "metadata": {},
   "source": [
    "### A plane on a 3D coordinate system"
   ]
  },
  {
   "cell_type": "code",
   "execution_count": null,
   "metadata": {},
   "outputs": [],
   "source": [
    "fig = plt.figure(1)\n",
    "ax = fig.gca(projection='3d')\n",
    "\n",
    "\n",
    "# Make the variables\n",
    "x = np.linspace(0,10)      # 'x'-domain\n",
    "y = np.linspace(0, 10)     # 'y'-domain\n",
    "xv, yv = np.meshgrid(x,y)  # Make the square domain for the plane.\n",
    "\n",
    "# Equation of the plane.\n",
    "z = 3*xv+2*yv\n",
    "\n",
    "# Color maps are used to determine color schemes.\n",
    "my_color_map = plt.cm.CMRmap\n",
    "\n",
    "# Specify viewing orientation.\n",
    "ax.view_init(5, 20)    # (Φ, θ)\n",
    "\n",
    "# Label our axes.\n",
    "ax.set_xlabel('x')\n",
    "ax.set_ylabel('y')\n",
    "ax.set_zlabel('z')\n",
    "\n",
    "# Set a title\n",
    "ax.set_title('My surface')\n",
    "\n",
    "# Plot the surface.\n",
    "ax.plot_surface(xv, yv, z, cmap=my_color_map)"
   ]
  },
  {
   "cell_type": "markdown",
   "metadata": {},
   "source": [
    "# -------- Questions --------"
   ]
  },
  {
   "cell_type": "markdown",
   "metadata": {},
   "source": [
    "## Question 0: (Requires the knowledge of `plotting`)\n",
    "\n",
    "Consider the function:\n",
    "\n",
    "$$\n",
    "    \\sqrt{x} \\cdot \\sin\\left(x\\right) \n",
    "$$\n",
    "\n",
    "Symbolically plot it in blue(`'b'`)  and its derivative in red (`'r'`) on the same plot over the domain $[0,2\\pi]$\n"
   ]
  },
  {
   "cell_type": "code",
   "execution_count": null,
   "metadata": {},
   "outputs": [],
   "source": [
    "from sympy import sqrt, sin, diff, pi\n",
    "from sympy.abc import x\n",
    "\n",
    "f = sqrt(x)*sin(x)\n",
    "f_prime = diff(f, x)\n",
    "\n",
    "p1 = plot(f, (x, 0, 2*pi), show=False)\n",
    "p2 = plot(f_prime, (x, 0, 2*pi), show=False)\n",
    "\n",
    "p1.append(p2[0])\n",
    "p1[1].line_color = 'r'\n",
    "\n",
    "p1.show()"
   ]
  },
  {
   "cell_type": "markdown",
   "metadata": {},
   "source": [
    "----\n",
    "## Question 1:\n",
    "\n",
    "Create a 2D scatter `plt.scatter()` graph of 10 points as per the equation $y=2x+5$. "
   ]
  },
  {
   "cell_type": "markdown",
   "metadata": {},
   "source": [
    "## Answer 1:\n"
   ]
  },
  {
   "cell_type": "code",
   "execution_count": null,
   "metadata": {},
   "outputs": [],
   "source": [
    "import matplotlib.pyplot as plt\n",
    "import numpy as np\n",
    "\n",
    "lower = 0\n",
    "upper = 10\n",
    "nb_points = 10\n",
    "x = np.linspace(lower, upper, nb_points)\n",
    "\n",
    "y = 2*x\n",
    "\n",
    "plt.scatter(x,y)"
   ]
  },
  {
   "cell_type": "markdown",
   "metadata": {},
   "source": [
    "----\n",
    "## Question 2:\n",
    "\n",
    "Create a plot of 8 lines on the same 2D plot, each with a gradient equal to your student number.\n",
    "\n",
    "e.g. If your student number is `12345678` you would plot:\n",
    "\n",
    "$$\n",
    "y_1 = 1x \\\\\n",
    "y_2 = 2x \\\\\n",
    "y_3 = 3x \\\\\n",
    "y_4 = 4x \\\\\n",
    "y_5 = 5x \\\\\n",
    "y_6 = 6x \\\\\n",
    "y_7 = 7x \\\\\n",
    "y_8 = 8x \\\\\n",
    "$$\n",
    "\n",
    "Provide a legend, title and axis labels.\n"
   ]
  },
  {
   "cell_type": "markdown",
   "metadata": {},
   "source": [
    "## Answer 2:"
   ]
  },
  {
   "cell_type": "code",
   "execution_count": null,
   "metadata": {},
   "outputs": [],
   "source": [
    "x = np.linspace(0,10) # Generates 50 points\n",
    "\n",
    "\n",
    "plt.plot(x, 1*x, label='1')\n",
    "plt.plot(x, 2*x, label='2')\n",
    "plt.plot(x, 3*x, label='3')\n",
    "plt.plot(x, 4*x, label='4')\n",
    "plt.plot(x, 5*x, label='5')\n",
    "plt.plot(x, 6*x, label='6')\n",
    "plt.plot(x, 7*x, label='7')\n",
    "plt.plot(x, 8*x, label='8')\n",
    "\n",
    "plt.legend()\n",
    "plt.title(\"My first graph\")\n",
    "\n",
    "plt.xlabel(\"x-axis\")\n",
    "plt.ylabel(\"y-axis\")\n",
    "plt.show()"
   ]
  },
  {
   "cell_type": "markdown",
   "metadata": {},
   "source": [
    "----\n",
    "## Question 3:\n",
    "\n",
    "When using `ax.view_init()` we pass two angles into the function. Play with the values on the detailed `matplotlib` plot. What do these values each respectively do?"
   ]
  },
  {
   "cell_type": "markdown",
   "metadata": {},
   "source": [
    "## Answer 3:"
   ]
  },
  {
   "cell_type": "code",
   "execution_count": null,
   "metadata": {},
   "outputs": [],
   "source": []
  },
  {
   "cell_type": "markdown",
   "metadata": {},
   "source": [
    "----\n",
    "## Question $n$:\n",
    "\n"
   ]
  },
  {
   "cell_type": "markdown",
   "metadata": {},
   "source": [
    "## Answer $n$:"
   ]
  },
  {
   "cell_type": "code",
   "execution_count": null,
   "metadata": {},
   "outputs": [],
   "source": []
  }
 ],
 "metadata": {
  "kernelspec": {
   "display_name": "Python 3",
   "language": "python",
   "name": "python3"
  },
  "language_info": {
   "codemirror_mode": {
    "name": "ipython",
    "version": 3
   },
   "file_extension": ".py",
   "mimetype": "text/x-python",
   "name": "python",
   "nbconvert_exporter": "python",
   "pygments_lexer": "ipython3",
   "version": "3.7.3"
  }
 },
 "nbformat": 4,
 "nbformat_minor": 2
}
