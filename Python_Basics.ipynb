{
 "cells": [
  {
   "cell_type": "markdown",
   "metadata": {},
   "source": [
    "# Python Basics"
   ]
  },
  {
   "cell_type": "markdown",
   "metadata": {},
   "source": [
    "## On Style"
   ]
  },
  {
   "cell_type": "markdown",
   "metadata": {},
   "source": [
    "The style of programming that we will be undertaking in this subject is a `notebook` framework. This contrasts with the original style of python, which is more of a `file-based` (or synonymously, `module-based`) framework. \n",
    "\n",
    "The ways these differ is that the `notebook` style:\n",
    "1. Uses cells and evaluates them one at a time.\n",
    "2. Produces output below the cell that called for it.\n",
    "3. Is (arguably) more common in scientific computing and data science.\n",
    "\n",
    "In contrast, the `file-based/module-based` style:\n",
    "1. Can keep code in multiple files that can then be accessed from one another.\n",
    "2. Produces all outputs to one location.\n",
    "3. Is very common in software engineering environments -- e.g. building applications and running websites. \n",
    "\n",
    "The intent for teaching you some `python` is to:\n",
    "1. Allow you to validate your calculations, both as a student and practising engineer/scientist.\n",
    "2. Create visualisations to aid exploration, communication and solutions.\n",
    "3. Solve simple problems numerically -- note, numerical methods is a whole (large) field of research.\n",
    "4. Get a taste for a highly useful transferable skill: *programming*."
   ]
  },
  {
   "cell_type": "markdown",
   "metadata": {},
   "source": [
    "## On Nomenclature\n",
    "\n",
    "Def. **nomenclature**: *the devising or choosing of names for things, especially in a science or other discipline.*\n",
    "\n",
    "There are a few words that are intended to more work when mentioned in a programming context than in their conversational meaning.\n",
    "\n",
    "* `syntax`: The structure of valid statements with respect to the `python` programming language.\n",
    "* `keyword`: a word reserved by `python` for use in the language. These words **cannot** be assigned as variable or functions names. It will cause a syntax error.\n",
    "* `sequences`: An ordered set, i.e. a collection of elements that has a logical order to those elements that it contains.\n",
    "* `brackets`: Refer to square brackets `[` and `]`.\n",
    "* `parantheses`: Refer to parantheses `(` and `)`.\n",
    "* `braces`: Refer to braces `{` and `}`.\n"
   ]
  },
  {
   "cell_type": "markdown",
   "metadata": {},
   "source": [
    "## Types\n",
    "\n",
    "The basics types in python are:\n",
    "\n",
    "**Numerics:**\n",
    "* `int`* -- An integer. \n",
    "\n",
    "    *i.e.* a whole number, a number with no fractional part. \n",
    "\n",
    "    *e.g.* `1, 8, 99, 1000`\n",
    "\n",
    "\n",
    "* `float`* -- A floating point number. \n",
    "\n",
    "    *i.e.* a number with values (even zero values) after the decimal place.\n",
    "\n",
    "    *e.g.* `2.0, 3.14, 2.71`\n",
    "\n",
    "\n",
    "* `complex`* -- Numbers with an imaginary component, indicated by j.\n",
    "\n",
    "    *e.g.* `2+3j, a+jb, 0.5+0.5j`\n",
    "\n",
    "    *Note:* The `j` must follow the number directly with no other character or operator between them.\n",
    "\n",
    "\n",
    "**Sequences:**\n",
    "* `list`* -- A changable set of values of any type, enclosed within brackets, separated by commas.\n",
    "\n",
    "    *e.g.* `[1, 2, 3]`, `['a', 'b', 'c']`, `[1, 3.14, 'Euler', 9j]`\n",
    "\n",
    "\n",
    "\n",
    "* `tuple`* --  An immutable (unchangable) set of values of any type, enclosed within parantheses, separated by commas.\n",
    "\n",
    "    *e.g.* `(4, 5, 6)`, `('d', 'e', 'f')`, `(9, 2.71, 'Gauss', 1j)`\n",
    "\n",
    "\n",
    "\n",
    "* `str`* -- A text string of one or more characters.\n",
    "\n",
    "    *e.g.* `\"Gauss\", \"Euler\", 'Fourier', 'Laplace', \"e\", 'pi'`\n",
    "\n",
    "    *Note*: That you can use singe-quotes (`'`) or double-quotes (`\"`) to start and end your string.\n",
    "\n",
    "    *Aside*: You can also make a multi-line string with tripe double-quotes `\"\"\"\"` or triple single-quotes `'''`.\n",
    "\n",
    "\n",
    "\n",
    "* `range` -- Used to yield elements of a sequence piecewise. Useful in loops.\n",
    "\n",
    "\n",
    "\n",
    "\n",
    "**Classes:**\n",
    "* `class` -- A way to create and specify the `methods` (class-associated functions) and `attributes` (class-associated variables) of 'objects'.\n",
    "\n",
    "**Others:**\n",
    "* `instances`\n",
    "* `exceptions`\n",
    "\n",
    "Those with a star/asterisk (`*`) next to their name will be explored in this subject, `classes` will be touched upon too.\n",
    "\n",
    "Futher reading on this can be done [here](https://docs.python.org/3/library/stdtypes.html).\n",
    "\n",
    "If you are ever in doubt about what the type of a variable is, you can pass it to the `type()` function that is built-in to python."
   ]
  },
  {
   "cell_type": "code",
   "execution_count": 13,
   "metadata": {},
   "outputs": [
    {
     "data": {
      "text/plain": [
       "float"
      ]
     },
     "execution_count": 13,
     "metadata": {},
     "output_type": "execute_result"
    }
   ],
   "source": [
    "type(3.14)"
   ]
  },
  {
   "cell_type": "code",
   "execution_count": 12,
   "metadata": {},
   "outputs": [
    {
     "name": "stdout",
     "output_type": "stream",
     "text": [
      "<class 'list'>\n"
     ]
    }
   ],
   "source": [
    "type([1,2,3])"
   ]
  },
  {
   "cell_type": "code",
   "execution_count": 14,
   "metadata": {},
   "outputs": [
    {
     "data": {
      "text/plain": [
       "int"
      ]
     },
     "execution_count": 14,
     "metadata": {},
     "output_type": "execute_result"
    }
   ],
   "source": [
    "type(88)"
   ]
  },
  {
   "cell_type": "code",
   "execution_count": 15,
   "metadata": {},
   "outputs": [
    {
     "data": {
      "text/plain": [
       "str"
      ]
     },
     "execution_count": 15,
     "metadata": {},
     "output_type": "execute_result"
    }
   ],
   "source": [
    "type(\"Hello world\")"
   ]
  },
  {
   "cell_type": "markdown",
   "metadata": {},
   "source": [
    "### Printing"
   ]
  },
  {
   "cell_type": "markdown",
   "metadata": {},
   "source": [
    "### If-Statements, If-Else-Statements"
   ]
  },
  {
   "cell_type": "markdown",
   "metadata": {},
   "source": [
    "## Importing\n",
    "\n",
    "Importing is where you bring in the functions of a library/module.\n",
    "\n",
    "For us, the most important libraries will be the following (roughly in order of importance):\n",
    "\n",
    "1. `sympy` -- for symbolic mathematics; recall that computers inherently prefer numeric information.\n",
    "2. `matplotlib` -- a plotting library.\n",
    "3. `numpy` -- a numerical package for doing fast, accurate calculations on computers w/ python\n",
    "4. `math` -- a standard library that always comes with python for mathematical functions.\n",
    "\n",
    "You can import a library so that you can access at via the library's name:"
   ]
  },
  {
   "cell_type": "code",
   "execution_count": 12,
   "metadata": {},
   "outputs": [
    {
     "data": {
      "image/png": "[encoded data removed]",
      "text/latex": [
       "$$2 x$$"
      ],
      "text/plain": [
       "2⋅x"
      ]
     },
     "execution_count": 12,
     "metadata": {},
     "output_type": "execute_result"
    }
   ],
   "source": [
    "import sympy              # Import the sympy library, making its functions available to us.\n",
    "\n",
    "sympy.init_printing()     # Prettify the output of sympy, using the library's init_printing() function.\n",
    "x = sympy.Symbol('x')     # Create a variable called 'x'\n",
    "y = x**2                  # 'y' is the symbolic function, x squared.\n",
    "y_prime = sympy.diff(y)   # Use the sympy function, 'diff' to differentiate y.\n",
    "y_prime                   # Make the result echo out below the cell."
   ]
  },
  {
   "cell_type": "markdown",
   "metadata": {},
   "source": [
    "But we can also import the library and call it whatever we want, using the `as` keyword."
   ]
  },
  {
   "cell_type": "code",
   "execution_count": 13,
   "metadata": {},
   "outputs": [
    {
     "data": {
      "image/png": "[encoded data removed]",
      "text/latex": [
       "$$2 x$$"
      ],
      "text/plain": [
       "2⋅x"
      ]
     },
     "execution_count": 13,
     "metadata": {},
     "output_type": "execute_result"
    }
   ],
   "source": [
    "import sympy as sp        # Import the sympy library as 'sp', making its functions available to us.\n",
    "\n",
    "sp.init_printing()        \n",
    "x = sp.Symbol('x')        \n",
    "y = x**2                  \n",
    "y_prime = sp.diff(y)      \n",
    "y_prime                   "
   ]
  },
  {
   "cell_type": "markdown",
   "metadata": {},
   "source": [
    "Using the `from` keyword, we can import only certain functions that we need, separated by commas.\n",
    "\n",
    "This kind of style would be considered **best practice**, as it prevents names from clashing with other variables."
   ]
  },
  {
   "cell_type": "code",
   "execution_count": null,
   "metadata": {},
   "outputs": [],
   "source": [
    "from sympy import init_printing, Symbol, diff\n",
    "\n",
    "init_printing()        \n",
    "x = Symbol('x')        \n",
    "y = x**2                  \n",
    "y_prime = diff(y)      \n",
    "y_prime    "
   ]
  },
  {
   "cell_type": "markdown",
   "metadata": {},
   "source": [
    "As long as the name of all the `sympy` components does not conflict, we can also import all the functions using `*` to be a placeholder or 'wildcard' for all functions."
   ]
  },
  {
   "cell_type": "code",
   "execution_count": 14,
   "metadata": {},
   "outputs": [
    {
     "data": {
      "image/png": "[encoded data removed]",
      "text/latex": [
       "$$2 x$$"
      ],
      "text/plain": [
       "2⋅x"
      ]
     },
     "execution_count": 14,
     "metadata": {},
     "output_type": "execute_result"
    }
   ],
   "source": [
    "from sympy import *     # From the sympy library, import everything.\n",
    "\n",
    "init_printing()        \n",
    "x = Symbol('x')        \n",
    "y = x**2                  \n",
    "y_prime = diff(y)      \n",
    "y_prime  "
   ]
  },
  {
   "cell_type": "markdown",
   "metadata": {},
   "source": [
    "### Using Functions"
   ]
  },
  {
   "cell_type": "markdown",
   "metadata": {},
   "source": [
    "### Making Functions"
   ]
  },
  {
   "cell_type": "markdown",
   "metadata": {},
   "source": [
    "### Functions vs Methods"
   ]
  },
  {
   "cell_type": "markdown",
   "metadata": {},
   "source": [
    "# -------- Questions --------"
   ]
  },
  {
   "cell_type": "markdown",
   "metadata": {},
   "source": [
    "## Question 1:\n",
    "\n"
   ]
  },
  {
   "cell_type": "markdown",
   "metadata": {},
   "source": [
    "## Answer 1:\n"
   ]
  },
  {
   "cell_type": "code",
   "execution_count": null,
   "metadata": {},
   "outputs": [],
   "source": []
  },
  {
   "cell_type": "markdown",
   "metadata": {},
   "source": [
    "## Question 2:\n",
    "\n"
   ]
  },
  {
   "cell_type": "markdown",
   "metadata": {},
   "source": [
    "## Answer 2:"
   ]
  },
  {
   "cell_type": "code",
   "execution_count": null,
   "metadata": {},
   "outputs": [],
   "source": []
  },
  {
   "cell_type": "markdown",
   "metadata": {},
   "source": [
    "## Question 3:\n",
    "\n"
   ]
  },
  {
   "cell_type": "markdown",
   "metadata": {},
   "source": [
    "## Answer 3:"
   ]
  },
  {
   "cell_type": "code",
   "execution_count": null,
   "metadata": {},
   "outputs": [],
   "source": []
  },
  {
   "cell_type": "markdown",
   "metadata": {},
   "source": [
    "## Question $n$:\n",
    "\n"
   ]
  },
  {
   "cell_type": "markdown",
   "metadata": {},
   "source": [
    "## Answer $n$:"
   ]
  },
  {
   "cell_type": "code",
   "execution_count": null,
   "metadata": {},
   "outputs": [],
   "source": []
  }
 ],
 "metadata": {
  "kernelspec": {
   "display_name": "Python 3",
   "language": "python",
   "name": "python3"
  },
  "language_info": {
   "codemirror_mode": {
    "name": "ipython",
    "version": 3
   },
   "file_extension": ".py",
   "mimetype": "text/x-python",
   "name": "python",
   "nbconvert_exporter": "python",
   "pygments_lexer": "ipython3",
   "version": "3.7.3"
  }
 },
 "nbformat": 4,
 "nbformat_minor": 2
}
