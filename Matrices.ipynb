{
 "cells": [
  {
   "cell_type": "markdown",
   "metadata": {},
   "source": [
    "# Matrices"
   ]
  },
  {
   "cell_type": "code",
   "execution_count": 12,
   "metadata": {},
   "outputs": [],
   "source": [
    "from sympy import *\n",
    "import sympy\n",
    "init_printing() # Pretty printing"
   ]
  },
  {
   "cell_type": "markdown",
   "metadata": {},
   "source": [
    "Make a Matrix"
   ]
  },
  {
   "cell_type": "code",
   "execution_count": 22,
   "metadata": {},
   "outputs": [
    {
     "data": {
      "image/png": "[encoded data removed]",
      "text/latex": [
       "$$\\left[\\begin{matrix}1 & 2 & 3\\\\4 & 5 & 6\\\\7 & 8 & 9\\end{matrix}\\right]$$"
      ],
      "text/plain": [
       "⎡1  2  3⎤\n",
       "⎢       ⎥\n",
       "⎢4  5  6⎥\n",
       "⎢       ⎥\n",
       "⎣7  8  9⎦"
      ]
     },
     "metadata": {},
     "output_type": "display_data"
    },
    {
     "data": {
      "image/png": "[encoded data removed]",
      "text/latex": [
       "$$\\left[\\begin{matrix}1 & 2 & 3\\\\4 & 5 & 6\\\\7 & 8 & 9\\end{matrix}\\right]$$"
      ],
      "text/plain": [
       "⎡1  2  3⎤\n",
       "⎢       ⎥\n",
       "⎢4  5  6⎥\n",
       "⎢       ⎥\n",
       "⎣7  8  9⎦"
      ]
     },
     "metadata": {},
     "output_type": "display_data"
    },
    {
     "data": {
      "image/png": "[encoded data removed]",
      "text/latex": [
       "$$\\left[\\begin{matrix}1 & 4 & 7\\\\2 & 5 & 8\\\\3 & 6 & 9\\end{matrix}\\right]$$"
      ],
      "text/plain": [
       "⎡1  4  7⎤\n",
       "⎢       ⎥\n",
       "⎢2  5  8⎥\n",
       "⎢       ⎥\n",
       "⎣3  6  9⎦"
      ]
     },
     "metadata": {},
     "output_type": "display_data"
    },
    {
     "data": {
      "image/png": "[encoded data removed]",
      "text/latex": [
       "$$\\left[\\begin{matrix}1 & 4 & 7\\\\2 & 5 & 8\\\\3 & 6 & 9\\end{matrix}\\right]$$"
      ],
      "text/plain": [
       "⎡1  4  7⎤\n",
       "⎢       ⎥\n",
       "⎢2  5  8⎥\n",
       "⎢       ⎥\n",
       "⎣3  6  9⎦"
      ]
     },
     "metadata": {},
     "output_type": "display_data"
    }
   ],
   "source": [
    "A = Matrix([\n",
    "    [1,2,3],\n",
    "    [4,5,6],\n",
    "    [7,8,9]\n",
    "])\n",
    "display(A)\n",
    "display(A.C)\n",
    "#display(A.D)\n",
    "display(A.H)\n",
    "display(A.T)"
   ]
  },
  {
   "cell_type": "code",
   "execution_count": 13,
   "metadata": {},
   "outputs": [
    {
     "name": "stdout",
     "output_type": "stream",
     "text": [
      "[('C', <property object at 0x0000025BF1706368>),\n",
      " ('D', <property object at 0x0000025BF1706728>),\n",
      " ('H', <property object at 0x0000025BF1706228>),\n",
      " ('T', <property object at 0x0000025BF1706318>),\n",
      " ('__array_priority__', 11),\n",
      " ('__class__', <class 'type'>),\n",
      " ('__dict__',\n",
      "  mappingproxy({'__doc__': None,\n",
      "                '__module__': 'sympy.matrices.dense',\n",
      "                '__new__': <staticmethod object at 0x0000025BF171C1D0>,\n",
      "                '__setitem__': <function MutableDenseMatrix.__setitem__ at 0x0000025BF171D0D0>,\n",
      "                '_new': <classmethod object at 0x0000025BF171C198>,\n",
      "                'as_mutable': <function MutableDenseMatrix.as_mutable at 0x0000025BF171D158>,\n",
      "                'col_del': <function MutableDenseMatrix.col_del at 0x0000025BF171D1E0>,\n",
      "                'col_op': <function MutableDenseMatrix.col_op at 0x0000025BF171D268>,\n",
      "                'col_swap': <function MutableDenseMatrix.col_swap at 0x0000025BF171D2F0>,\n",
      "                'copyin_list': <function MutableDenseMatrix.copyin_list at 0x0000025BF171D378>,\n",
      "                'copyin_matrix': <function MutableDenseMatrix.copyin_matrix at 0x0000025BF171D400>,\n",
      "                'fill': <function MutableDenseMatrix.fill at 0x0000025BF171D488>,\n",
      "                'row_del': <function MutableDenseMatrix.row_del at 0x0000025BF171D510>,\n",
      "                'row_op': <function MutableDenseMatrix.row_op at 0x0000025BF171D598>,\n",
      "                'row_swap': <function MutableDenseMatrix.row_swap at 0x0000025BF171D620>,\n",
      "                'simplify': <function MutableDenseMatrix.simplify at 0x0000025BF171D6A8>,\n",
      "                'zip_row_op': <function MutableDenseMatrix.zip_row_op at 0x0000025BF171D730>})),\n",
      " ('__doc__', None),\n",
      " ('__hash__', None),\n",
      " ('__module__', 'sympy.matrices.dense'),\n",
      " ('__weakref__', <attribute '__weakref__' of 'MatrixRequired' objects>),\n",
      " ('_cache_eigenvects', None),\n",
      " ('_cache_is_diagonalizable', None),\n",
      " ('_class_priority', 4),\n",
      " ('_diff_wrt', True),\n",
      " ('_op_priority', 10.01),\n",
      " ('_simplify', None),\n",
      " ('cols', None),\n",
      " ('free_symbols', <property object at 0x0000025BF16FAEA8>),\n",
      " ('is_Identity', <property object at 0x0000025BF16FAF48>),\n",
      " ('is_Matrix', True),\n",
      " ('is_MatrixExpr', False),\n",
      " ('is_echelon', <property object at 0x0000025BF16FABD8>),\n",
      " ('is_hermitian', <property object at 0x0000025BF16FAEF8>),\n",
      " ('is_lower', <property object at 0x0000025BF1706048>),\n",
      " ('is_lower_hessenberg', <property object at 0x0000025BF16FAF98>),\n",
      " ('is_square', <property object at 0x0000025BF1706098>),\n",
      " ('is_upper', <property object at 0x0000025BF1706138>),\n",
      " ('is_upper_hessenberg', <property object at 0x0000025BF17060E8>),\n",
      " ('is_zero', <property object at 0x0000025BF1706188>),\n",
      " ('rows', None),\n",
      " ('shape', <property object at 0x0000025BF16FADB8>)]\n"
     ]
    }
   ],
   "source": [
    "import inspect\n",
    "from pprint import pprint\n",
    "attributes = inspect.getmembers(sympy.Matrix, lambda a:not(inspect.isroutine(a)))\n",
    "pprint(attributes)"
   ]
  },
  {
   "cell_type": "markdown",
   "metadata": {},
   "source": [
    "Invert a Matrix to Solve \n",
    "$$\n",
    "\\mathbf{Ax}=\\mathbf{b} \\quad \\Rightarrow \\quad \n",
    "\\mathbf{x}=\\mathbf{A^{-1}b}\n",
    "$$"
   ]
  },
  {
   "cell_type": "markdown",
   "metadata": {},
   "source": [
    "Symbolic Matrices"
   ]
  },
  {
   "cell_type": "markdown",
   "metadata": {},
   "source": [
    "Row-Reduction"
   ]
  },
  {
   "cell_type": "markdown",
   "metadata": {},
   "source": [
    "Access Rows/Columns at a Time"
   ]
  },
  {
   "cell_type": "code",
   "execution_count": null,
   "metadata": {},
   "outputs": [],
   "source": []
  }
 ],
 "metadata": {
  "kernelspec": {
   "display_name": "Python 3",
   "language": "python",
   "name": "python3"
  },
  "language_info": {
   "codemirror_mode": {
    "name": "ipython",
    "version": 3
   },
   "file_extension": ".py",
   "mimetype": "text/x-python",
   "name": "python",
   "nbconvert_exporter": "python",
   "pygments_lexer": "ipython3",
   "version": "3.7.3"
  }
 },
 "nbformat": 4,
 "nbformat_minor": 2
}
