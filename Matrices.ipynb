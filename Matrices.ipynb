{
 "cells": [
  {
   "cell_type": "markdown",
   "metadata": {},
   "source": [
    "# Matrices"
   ]
  },
  {
   "cell_type": "code",
   "execution_count": 19,
   "metadata": {},
   "outputs": [
    {
     "name": "stdout",
     "output_type": "stream",
     "text": [
      "sympy version is: \t1.3\n"
     ]
    }
   ],
   "source": [
    "from sympy import init_printing, Matrix, eye, zeros, diag, Symbol\n",
    "from sympy import __version__ as sympy_version\n",
    "\n",
    "init_printing() # Pretty printing\n",
    "\n",
    "print('sympy version is: \\t' + str(sympy_version))"
   ]
  },
  {
   "cell_type": "markdown",
   "metadata": {},
   "source": [
    "## Make a Vector"
   ]
  },
  {
   "cell_type": "code",
   "execution_count": 2,
   "metadata": {},
   "outputs": [
    {
     "data": {
      "image/png": "[encoded data removed]",
      "text/latex": [
       "$$\\left[\\begin{matrix}1\\\\2\\\\3\\end{matrix}\\right]$$"
      ],
      "text/plain": [
       "⎡1⎤\n",
       "⎢ ⎥\n",
       "⎢2⎥\n",
       "⎢ ⎥\n",
       "⎣3⎦"
      ]
     },
     "metadata": {},
     "output_type": "display_data"
    },
    {
     "data": {
      "image/png": "[encoded data removed]",
      "text/latex": [
       "$$\\left[\\begin{matrix}1 & 2 & 3\\end{matrix}\\right]$$"
      ],
      "text/plain": [
       "[1  2  3]"
      ]
     },
     "metadata": {},
     "output_type": "display_data"
    }
   ],
   "source": [
    "# Column vector\n",
    "v = Matrix([\n",
    "    [1],\n",
    "    [2],\n",
    "    [3]\n",
    "])\n",
    "\n",
    "# Row vector\n",
    "u = Matrix([\n",
    "    [1,2,3]\n",
    "])\n",
    "\n",
    "\n",
    "display(v, u)"
   ]
  },
  {
   "cell_type": "markdown",
   "metadata": {},
   "source": [
    "## Make a Matrix"
   ]
  },
  {
   "cell_type": "code",
   "execution_count": 3,
   "metadata": {},
   "outputs": [
    {
     "data": {
      "image/png": "[encoded data removed]",
      "text/latex": [
       "$$\\left[\\begin{matrix}1 & 2 & 3\\\\4 & 5 & 6\\\\7 & 8 & 9\\end{matrix}\\right]$$"
      ],
      "text/plain": [
       "⎡1  2  3⎤\n",
       "⎢       ⎥\n",
       "⎢4  5  6⎥\n",
       "⎢       ⎥\n",
       "⎣7  8  9⎦"
      ]
     },
     "execution_count": 3,
     "metadata": {},
     "output_type": "execute_result"
    }
   ],
   "source": [
    "A = Matrix([\n",
    "    [1,2,3],\n",
    "    [4,5,6],\n",
    "    [7,8,9]\n",
    "])\n",
    "\n",
    "A"
   ]
  },
  {
   "cell_type": "markdown",
   "metadata": {},
   "source": [
    "## Identity Matrices"
   ]
  },
  {
   "cell_type": "code",
   "execution_count": 4,
   "metadata": {},
   "outputs": [
    {
     "data": {
      "image/png": "[encoded data removed]",
      "text/latex": [
       "$$\\left[\\begin{matrix}1 & 0\\\\0 & 1\\end{matrix}\\right]$$"
      ],
      "text/plain": [
       "⎡1  0⎤\n",
       "⎢    ⎥\n",
       "⎣0  1⎦"
      ]
     },
     "execution_count": 4,
     "metadata": {},
     "output_type": "execute_result"
    }
   ],
   "source": [
    "eye(2)"
   ]
  },
  {
   "cell_type": "code",
   "execution_count": 5,
   "metadata": {},
   "outputs": [
    {
     "data": {
      "image/png": "[encoded data removed]",
      "text/latex": [
       "$$\\left[\\begin{matrix}1 & 0 & 0 & 0 & 0\\\\0 & 1 & 0 & 0 & 0\\\\0 & 0 & 1 & 0 & 0\\\\0 & 0 & 0 & 1 & 0\\\\0 & 0 & 0 & 0 & 1\\end{matrix}\\right]$$"
      ],
      "text/plain": [
       "⎡1  0  0  0  0⎤\n",
       "⎢             ⎥\n",
       "⎢0  1  0  0  0⎥\n",
       "⎢             ⎥\n",
       "⎢0  0  1  0  0⎥\n",
       "⎢             ⎥\n",
       "⎢0  0  0  1  0⎥\n",
       "⎢             ⎥\n",
       "⎣0  0  0  0  1⎦"
      ]
     },
     "execution_count": 5,
     "metadata": {},
     "output_type": "execute_result"
    }
   ],
   "source": [
    "eye(5)"
   ]
  },
  {
   "cell_type": "markdown",
   "metadata": {},
   "source": [
    "## Zero Matrices"
   ]
  },
  {
   "cell_type": "code",
   "execution_count": 6,
   "metadata": {},
   "outputs": [
    {
     "data": {
      "image/png": "[encoded data removed]",
      "text/latex": [
       "$$\\left[\\begin{matrix}0 & 0 & 0\\\\0 & 0 & 0\\\\0 & 0 & 0\\end{matrix}\\right]$$"
      ],
      "text/plain": [
       "⎡0  0  0⎤\n",
       "⎢       ⎥\n",
       "⎢0  0  0⎥\n",
       "⎢       ⎥\n",
       "⎣0  0  0⎦"
      ]
     },
     "execution_count": 6,
     "metadata": {},
     "output_type": "execute_result"
    }
   ],
   "source": [
    "zeros(3)"
   ]
  },
  {
   "cell_type": "code",
   "execution_count": 7,
   "metadata": {},
   "outputs": [
    {
     "data": {
      "image/png": "[encoded data removed]",
      "text/latex": [
       "$$\\left[\\begin{matrix}0 & 0 & 0 & 0 & 0 & 0\\\\0 & 0 & 0 & 0 & 0 & 0\\\\0 & 0 & 0 & 0 & 0 & 0\\\\0 & 0 & 0 & 0 & 0 & 0\\\\0 & 0 & 0 & 0 & 0 & 0\\\\0 & 0 & 0 & 0 & 0 & 0\\end{matrix}\\right]$$"
      ],
      "text/plain": [
       "⎡0  0  0  0  0  0⎤\n",
       "⎢                ⎥\n",
       "⎢0  0  0  0  0  0⎥\n",
       "⎢                ⎥\n",
       "⎢0  0  0  0  0  0⎥\n",
       "⎢                ⎥\n",
       "⎢0  0  0  0  0  0⎥\n",
       "⎢                ⎥\n",
       "⎢0  0  0  0  0  0⎥\n",
       "⎢                ⎥\n",
       "⎣0  0  0  0  0  0⎦"
      ]
     },
     "execution_count": 7,
     "metadata": {},
     "output_type": "execute_result"
    }
   ],
   "source": [
    "zeros(6)"
   ]
  },
  {
   "cell_type": "markdown",
   "metadata": {},
   "source": [
    "## Diagonal Matrices\n",
    "\n",
    "You can pass in a series of values that will be positioned along the diagonal of a square matrix."
   ]
  },
  {
   "cell_type": "code",
   "execution_count": 8,
   "metadata": {},
   "outputs": [
    {
     "data": {
      "image/png": "[encoded data removed]",
      "text/latex": [
       "$$\\left[\\begin{matrix}1 & 0 & 0\\\\0 & 2 & 0\\\\0 & 0 & 3\\end{matrix}\\right]$$"
      ],
      "text/plain": [
       "⎡1  0  0⎤\n",
       "⎢       ⎥\n",
       "⎢0  2  0⎥\n",
       "⎢       ⎥\n",
       "⎣0  0  3⎦"
      ]
     },
     "execution_count": 8,
     "metadata": {},
     "output_type": "execute_result"
    }
   ],
   "source": [
    "diag(1,2,3)"
   ]
  },
  {
   "cell_type": "code",
   "execution_count": 9,
   "metadata": {},
   "outputs": [
    {
     "data": {
      "image/png": "[encoded data removed]",
      "text/latex": [
       "$$\\left[\\begin{matrix}4 & 0 & 0 & 0\\\\0 & 5 & 0 & 0\\\\0 & 0 & 6 & 0\\\\0 & 0 & 0 & 7\\end{matrix}\\right]$$"
      ],
      "text/plain": [
       "⎡4  0  0  0⎤\n",
       "⎢          ⎥\n",
       "⎢0  5  0  0⎥\n",
       "⎢          ⎥\n",
       "⎢0  0  6  0⎥\n",
       "⎢          ⎥\n",
       "⎣0  0  0  7⎦"
      ]
     },
     "execution_count": 9,
     "metadata": {},
     "output_type": "execute_result"
    }
   ],
   "source": [
    "diag(4,5,6,7)"
   ]
  },
  {
   "cell_type": "code",
   "execution_count": 10,
   "metadata": {},
   "outputs": [
    {
     "data": {
      "image/png": "[encoded data removed]",
      "text/latex": [
       "$$\\left[\\begin{matrix}3.14 & 0 & 0\\\\0 & 2.71 & 0\\\\0 & 0 & 6.626\\end{matrix}\\right]$$"
      ],
      "text/plain": [
       "⎡3.14   0      0  ⎤\n",
       "⎢                 ⎥\n",
       "⎢ 0    2.71    0  ⎥\n",
       "⎢                 ⎥\n",
       "⎣ 0     0    6.626⎦"
      ]
     },
     "execution_count": 10,
     "metadata": {},
     "output_type": "execute_result"
    }
   ],
   "source": [
    "diag(3.14, 2.71, 6.626)"
   ]
  },
  {
   "cell_type": "markdown",
   "metadata": {},
   "source": [
    "## Access Rows/Columns at a Time\n",
    "\n",
    "Once you have created a `Matrix`, you can access it's rows and columns with the appropriate method for that object.\n",
    "\n",
    "There are however two caveats to indexing matrices in python. \n",
    "1. Python is 'column-major', meaning if you access a two-dimensional array you specify **column first and then row**. This is the opposite way around as the way we do it with matrices.\n",
    "2. Numbering starts from `0` in python. So what we would usually refer to as row 1, we will from here on in refer to as row 0."
   ]
  },
  {
   "cell_type": "code",
   "execution_count": 11,
   "metadata": {},
   "outputs": [
    {
     "data": {
      "image/png": "[encoded data removed]",
      "text/latex": [
       "$$\\left[\\begin{matrix}1 & 2 & 3\\end{matrix}\\right]$$"
      ],
      "text/plain": [
       "[1  2  3]"
      ]
     },
     "metadata": {},
     "output_type": "display_data"
    },
    {
     "data": {
      "image/png": "[encoded data removed]",
      "text/latex": [
       "$$\\left[\\begin{matrix}1\\\\4\\\\7\\end{matrix}\\right]$$"
      ],
      "text/plain": [
       "⎡1⎤\n",
       "⎢ ⎥\n",
       "⎢4⎥\n",
       "⎢ ⎥\n",
       "⎣7⎦"
      ]
     },
     "metadata": {},
     "output_type": "display_data"
    },
    {
     "data": {
      "image/png": "[encoded data removed]",
      "text/latex": [
       "$$3$$"
      ],
      "text/plain": [
       "3"
      ]
     },
     "metadata": {},
     "output_type": "display_data"
    },
    {
     "data": {
      "image/png": "[encoded data removed]",
      "text/latex": [
       "$$9$$"
      ],
      "text/plain": [
       "9"
      ]
     },
     "metadata": {},
     "output_type": "display_data"
    },
    {
     "data": {
      "image/png": "[encoded data removed]",
      "text/latex": [
       "$$5$$"
      ],
      "text/plain": [
       "5"
      ]
     },
     "metadata": {},
     "output_type": "display_data"
    }
   ],
   "source": [
    "A = Matrix([\n",
    "    [1,2,3],\n",
    "    [4,5,6],\n",
    "    [7,8,9]\n",
    "])\n",
    "\n",
    "# Row access\n",
    "display(A.row(0))\n",
    "\n",
    "# Column access\n",
    "display(A.col(0))\n",
    "\n",
    "# Element-specific indexing\n",
    "display(A[0,2]) # See, column first, then row.\n",
    "display(A[2,2])\n",
    "\n",
    "# You can also access the n-th element in the matrix if you fancy.\n",
    "display(A[4])"
   ]
  },
  {
   "cell_type": "markdown",
   "metadata": {},
   "source": [
    "## Want reduced-row-echelon-form (rref)?"
   ]
  },
  {
   "cell_type": "code",
   "execution_count": 12,
   "metadata": {
    "scrolled": true
   },
   "outputs": [
    {
     "data": {
      "image/png": "[encoded data removed]",
      "text/latex": [
       "$$\\left ( \\left[\\begin{matrix}1 & 0 & -1\\\\0 & 1 & 2\\\\0 & 0 & 0\\end{matrix}\\right], \\quad \\left ( 0, \\quad 1\\right )\\right )$$"
      ],
      "text/plain": [
       "⎛⎡1  0  -1⎤        ⎞\n",
       "⎜⎢        ⎥        ⎟\n",
       "⎜⎢0  1  2 ⎥, (0, 1)⎟\n",
       "⎜⎢        ⎥        ⎟\n",
       "⎝⎣0  0  0 ⎦        ⎠"
      ]
     },
     "execution_count": 12,
     "metadata": {},
     "output_type": "execute_result"
    }
   ],
   "source": [
    "A = Matrix([\n",
    "    [1,2,3],\n",
    "    [4,5,6],\n",
    "    [7,8,9]\n",
    "])\n",
    "\n",
    "A.rref() # As simple as that!"
   ]
  },
  {
   "cell_type": "markdown",
   "metadata": {},
   "source": [
    "We can see that two elements were returned. The first is the row-reduced form of $\\mathbf{A}$, the other is a `tuple` of the columns of $\\mathbf{A}$ that contain pivots."
   ]
  },
  {
   "cell_type": "markdown",
   "metadata": {},
   "source": [
    "## Want the inverse of a matrix?"
   ]
  },
  {
   "cell_type": "code",
   "execution_count": 13,
   "metadata": {},
   "outputs": [
    {
     "data": {
      "image/png": "[encoded data removed]",
      "text/latex": [
       "$$\\left[\\begin{matrix}\\frac{4}{11} & \\frac{5}{11} & \\frac{3}{11}\\\\\\frac{5}{11} & - \\frac{2}{11} & \\frac{1}{11}\\\\\\frac{3}{11} & \\frac{1}{11} & \\frac{5}{11}\\end{matrix}\\right]$$"
      ],
      "text/plain": [
       "⎡4/11  5/11   3/11⎤\n",
       "⎢                 ⎥\n",
       "⎢5/11  -2/11  1/11⎥\n",
       "⎢                 ⎥\n",
       "⎣3/11  1/11   5/11⎦"
      ]
     },
     "execution_count": 13,
     "metadata": {},
     "output_type": "execute_result"
    }
   ],
   "source": [
    "# Resetting A (in case of unordered use of cells)\n",
    "A = Matrix([\n",
    "    [1,2,-1],\n",
    "    [2,-1,-1],\n",
    "    [-1,-1,3]\n",
    "])\n",
    "\n",
    "A.inv() # One-liner!"
   ]
  },
  {
   "cell_type": "markdown",
   "metadata": {},
   "source": [
    "## Transpose of a matrix?"
   ]
  },
  {
   "cell_type": "code",
   "execution_count": 14,
   "metadata": {},
   "outputs": [
    {
     "data": {
      "image/png": "[encoded data removed]",
      "text/latex": [
       "$$\\left[\\begin{matrix}1 & 2 & 3\\\\4 & 5 & 6\\\\7 & 8 & 9\\end{matrix}\\right]$$"
      ],
      "text/plain": [
       "⎡1  2  3⎤\n",
       "⎢       ⎥\n",
       "⎢4  5  6⎥\n",
       "⎢       ⎥\n",
       "⎣7  8  9⎦"
      ]
     },
     "metadata": {},
     "output_type": "display_data"
    },
    {
     "data": {
      "image/png": "[encoded data removed]",
      "text/latex": [
       "$$\\left[\\begin{matrix}1 & 4 & 7\\\\2 & 5 & 8\\\\3 & 6 & 9\\end{matrix}\\right]$$"
      ],
      "text/plain": [
       "⎡1  4  7⎤\n",
       "⎢       ⎥\n",
       "⎢2  5  8⎥\n",
       "⎢       ⎥\n",
       "⎣3  6  9⎦"
      ]
     },
     "metadata": {},
     "output_type": "display_data"
    }
   ],
   "source": [
    "# Resetting A (in case of unordered use of cells)\n",
    "A = Matrix([\n",
    "    [1,2,3],\n",
    "    [4,5,6],\n",
    "    [7,8,9]\n",
    "])\n",
    "\n",
    "display(A)\n",
    "display(A.T) # Note that this is an attribute and not a method (no need for parantheses to call a function)."
   ]
  },
  {
   "cell_type": "markdown",
   "metadata": {},
   "source": [
    "## Now with row-reductions:\n",
    "\n",
    "Because `sympy` has automated a lot of the matrix processes, it seems that row operations are not particularly intuitive operations for whatever reason that may be.\n",
    "\n",
    "The best way to learn this is likely to closely follow the example below and ask questions."
   ]
  },
  {
   "cell_type": "code",
   "execution_count": 15,
   "metadata": {},
   "outputs": [
    {
     "data": {
      "image/png": "[encoded data removed]",
      "text/latex": [
       "$$\\left[\\begin{matrix}1 & 2 & -1\\\\2 & -1 & -1\\\\-1 & -1 & 3\\end{matrix}\\right]$$"
      ],
      "text/plain": [
       "⎡1   2   -1⎤\n",
       "⎢          ⎥\n",
       "⎢2   -1  -1⎥\n",
       "⎢          ⎥\n",
       "⎣-1  -1  3 ⎦"
      ]
     },
     "metadata": {},
     "output_type": "display_data"
    },
    {
     "data": {
      "image/png": "[encoded data removed]",
      "text/latex": [
       "$$\\left[\\begin{matrix}1 & 2 & -1\\\\0 & -5 & 1\\\\-1 & -1 & 3\\end{matrix}\\right]$$"
      ],
      "text/plain": [
       "⎡1   2   -1⎤\n",
       "⎢          ⎥\n",
       "⎢0   -5  1 ⎥\n",
       "⎢          ⎥\n",
       "⎣-1  -1  3 ⎦"
      ]
     },
     "metadata": {},
     "output_type": "display_data"
    }
   ],
   "source": [
    "# Resetting A (in case of unordered use of cells)\n",
    "A = Matrix([\n",
    "    [1,2,-1],\n",
    "    [2,-1,-1],\n",
    "    [-1,-1,3]\n",
    "])\n",
    "\n",
    "display(A)\n",
    "\n",
    "# R1 = R1 - 2*R0                          .  < That dot is above the row number you're subtracting.\n",
    "A.row_op(1, lambda one, row_el: one - 2*A[0,row_el])\n",
    "#                                            ^ This is a varaible to allow sympy to iterate over all row elements\n",
    "display(A)"
   ]
  },
  {
   "cell_type": "code",
   "execution_count": 16,
   "metadata": {},
   "outputs": [
    {
     "data": {
      "image/png": "[encoded data removed]",
      "text/latex": [
       "$$\\left[\\begin{matrix}1 & 2 & -1\\\\0 & -5 & 1\\\\0 & 1 & 2\\end{matrix}\\right]$$"
      ],
      "text/plain": [
       "⎡1  2   -1⎤\n",
       "⎢         ⎥\n",
       "⎢0  -5  1 ⎥\n",
       "⎢         ⎥\n",
       "⎣0  1   2 ⎦"
      ]
     },
     "metadata": {},
     "output_type": "display_data"
    },
    {
     "data": {
      "image/png": "[encoded data removed]",
      "text/latex": [
       "$$\\left[\\begin{matrix}1 & 2 & -1\\\\0 & 1 & 2\\\\0 & -5 & 1\\end{matrix}\\right]$$"
      ],
      "text/plain": [
       "⎡1  2   -1⎤\n",
       "⎢         ⎥\n",
       "⎢0  1   2 ⎥\n",
       "⎢         ⎥\n",
       "⎣0  -5  1 ⎦"
      ]
     },
     "metadata": {},
     "output_type": "display_data"
    },
    {
     "data": {
      "image/png": "[encoded data removed]",
      "text/latex": [
       "$$\\left[\\begin{matrix}1 & 2 & -1\\\\0 & 1 & 2\\\\0 & 0 & 11\\end{matrix}\\right]$$"
      ],
      "text/plain": [
       "⎡1  2  -1⎤\n",
       "⎢        ⎥\n",
       "⎢0  1  2 ⎥\n",
       "⎢        ⎥\n",
       "⎣0  0  11⎦"
      ]
     },
     "metadata": {},
     "output_type": "display_data"
    },
    {
     "data": {
      "image/png": "[encoded data removed]",
      "text/latex": [
       "$$\\left[\\begin{matrix}1 & 2 & -1\\\\0 & 1 & 2\\\\0 & 0 & 1\\end{matrix}\\right]$$"
      ],
      "text/plain": [
       "⎡1  2  -1⎤\n",
       "⎢        ⎥\n",
       "⎢0  1  2 ⎥\n",
       "⎢        ⎥\n",
       "⎣0  0  1 ⎦"
      ]
     },
     "metadata": {},
     "output_type": "display_data"
    },
    {
     "data": {
      "image/png": "[encoded data removed]",
      "text/latex": [
       "$$\\left[\\begin{matrix}1 & 2 & -1\\\\0 & 1 & 0\\\\0 & 0 & 1\\end{matrix}\\right]$$"
      ],
      "text/plain": [
       "⎡1  2  -1⎤\n",
       "⎢        ⎥\n",
       "⎢0  1  0 ⎥\n",
       "⎢        ⎥\n",
       "⎣0  0  1 ⎦"
      ]
     },
     "metadata": {},
     "output_type": "display_data"
    },
    {
     "data": {
      "image/png": "[encoded data removed]",
      "text/latex": [
       "$$\\left[\\begin{matrix}1 & 2 & 0\\\\0 & 1 & 0\\\\0 & 0 & 1\\end{matrix}\\right]$$"
      ],
      "text/plain": [
       "⎡1  2  0⎤\n",
       "⎢       ⎥\n",
       "⎢0  1  0⎥\n",
       "⎢       ⎥\n",
       "⎣0  0  1⎦"
      ]
     },
     "metadata": {},
     "output_type": "display_data"
    },
    {
     "data": {
      "image/png": "[encoded data removed]",
      "text/latex": [
       "$$\\left[\\begin{matrix}1 & 0 & 0\\\\0 & 1 & 0\\\\0 & 0 & 1\\end{matrix}\\right]$$"
      ],
      "text/plain": [
       "⎡1  0  0⎤\n",
       "⎢       ⎥\n",
       "⎢0  1  0⎥\n",
       "⎢       ⎥\n",
       "⎣0  0  1⎦"
      ]
     },
     "metadata": {},
     "output_type": "display_data"
    }
   ],
   "source": [
    "# R2 = R2 + R0\n",
    "A.row_op(2, lambda two, row_el: two + A[0,row_el])\n",
    "display(A)\n",
    "\n",
    "\n",
    "# R1 <--> R2\n",
    "A.row_swap(1,2)\n",
    "display(A)\n",
    "\n",
    "\n",
    "# R2 = R2 + 5*R1\n",
    "A.row_op(2, lambda two, row_el: two + 5*A[1, row_el])\n",
    "display(A)\n",
    "\n",
    "\n",
    "# R2 = (1/11)*R2\n",
    "A.row_op(2, lambda two, row_el: int((1/11)*A[2,row_el]))\n",
    "display(A)\n",
    "\n",
    "\n",
    "# R1 = R1 - 2*R2\n",
    "A.row_op(1, lambda one, row_el: one - 2*A[2,row_el])\n",
    "display(A)\n",
    "\n",
    "\n",
    "# R0 = R0 + R2\n",
    "A.row_op(0, lambda zero, row_el: zero+ A[2, row_el])\n",
    "display(A)\n",
    "\n",
    "\n",
    "# R0 = R0 -2*R1\n",
    "A.row_op(0, lambda zero, row_el: zero -2*A[1, row_el])\n",
    "display(A)"
   ]
  },
  {
   "cell_type": "markdown",
   "metadata": {},
   "source": [
    "### Invert a Matrix to Solve \n",
    "$$\n",
    "\\mathbf{Ax}=\\mathbf{b} \\quad \\Rightarrow \\quad \n",
    "\\mathbf{x}=\\mathbf{A^{-1}b}\n",
    "$$"
   ]
  },
  {
   "cell_type": "code",
   "execution_count": 17,
   "metadata": {},
   "outputs": [
    {
     "data": {
      "image/png": "[encoded data removed]",
      "text/latex": [
       "$$\\left[\\begin{matrix}4\\\\3\\\\5\\end{matrix}\\right]$$"
      ],
      "text/plain": [
       "⎡4⎤\n",
       "⎢ ⎥\n",
       "⎢3⎥\n",
       "⎢ ⎥\n",
       "⎣5⎦"
      ]
     },
     "metadata": {},
     "output_type": "display_data"
    }
   ],
   "source": [
    "# Changing A\n",
    "A = Matrix([\n",
    "    [1,2,-1],\n",
    "    [2,-1,-1],\n",
    "    [-1,-1,3]\n",
    "])\n",
    "\n",
    "# Right-hand side of the equation\n",
    "b = Matrix([\n",
    "    5,\n",
    "    0,\n",
    "    8\n",
    "])\n",
    "\n",
    "# Solving the equation.\n",
    "x = A.inv()*b\n",
    "\n",
    "display(x)"
   ]
  },
  {
   "cell_type": "markdown",
   "metadata": {},
   "source": [
    "## Symbolic Matrices\n",
    "\n",
    "The useful thing about some calculations is specifying a value in your matrix so that some property is true.\n",
    "\n",
    "E.g.\n",
    "\n",
    "Determine the value of $c$ so that $\\mathbf{A}$ has a determinant of 0.\n",
    "\n",
    "$$\n",
    "\\mathbf{A} = \n",
    "\\begin{bmatrix}\n",
    "    c & 2 & 1 \\\\\n",
    "    5      & -1 & 2 \\\\\n",
    "    -3     & 1 & -1 \\\\\n",
    "\\end{bmatrix}\n",
    "$$"
   ]
  },
  {
   "cell_type": "code",
   "execution_count": 20,
   "metadata": {},
   "outputs": [
    {
     "data": {
      "text/plain": [
       "'A is: '"
      ]
     },
     "metadata": {},
     "output_type": "display_data"
    },
    {
     "data": {
      "image/png": "[encoded data removed]",
      "text/latex": [
       "$$\\left[\\begin{matrix}c & 2 & 1\\\\5 & -1 & 2\\\\-3 & 1 & -1\\end{matrix}\\right]$$"
      ],
      "text/plain": [
       "⎡c   2   1 ⎤\n",
       "⎢          ⎥\n",
       "⎢5   -1  2 ⎥\n",
       "⎢          ⎥\n",
       "⎣-3  1   -1⎦"
      ]
     },
     "metadata": {},
     "output_type": "display_data"
    },
    {
     "data": {
      "text/plain": [
       "'Det(A) = '"
      ]
     },
     "metadata": {},
     "output_type": "display_data"
    },
    {
     "data": {
      "image/png": "[encoded data removed]",
      "text/latex": [
       "$$- c$$"
      ],
      "text/plain": [
       "-c"
      ]
     },
     "metadata": {},
     "output_type": "display_data"
    }
   ],
   "source": [
    "c = Symbol('c')\n",
    "\n",
    "A = Matrix([\n",
    "    [c,2,1],\n",
    "    [5,-1,2],\n",
    "    [-3,1,-1]\n",
    "])\n",
    "\n",
    "display('A is: ', A)\n",
    "\n",
    "\n",
    "display('Det(A) = ', A.det())"
   ]
  },
  {
   "cell_type": "markdown",
   "metadata": {},
   "source": [
    "So if:\n",
    "$$\\text{det}(\\mathbf{A}) = 0$$\n",
    "then $$-c=0 \\quad \\text{ and so } \\quad c=0$$ \n",
    "\n",
    "for the matrix to have a determinant of zero.\n",
    "\n",
    "A matrix with a zero determinant is called a 'singular' matrix."
   ]
  },
  {
   "cell_type": "markdown",
   "metadata": {},
   "source": [
    "## Eigenvalues & Eigenvectors\n",
    "\n",
    "An eigenvalue and eigenvector are solutions to the following equation:\n",
    "\n",
    "$$\n",
    "\\mathbf{Ax}\n",
    "=\n",
    "\\lambda\n",
    "\\mathbf{x}\n",
    "$$\n",
    "\n",
    "Where $\\lambda$ is an _eigen**value**_ and $\\mathbf{x}$ is an _eigen**vector**_.\n",
    "\n"
   ]
  },
  {
   "cell_type": "markdown",
   "metadata": {},
   "source": [
    "* The direction of an _eigen**vector**_ is unchanged, but its magnitude may not be.\n",
    "\n",
    "* So we can say that $\\mathbf{x}$ is a vector who's direction is unchanged by the linear transformation, $\\mathbf{A}$.\n",
    "\n",
    "* The _eigen**value**_ is how much the magnitude of the _eigen**vector**_ is changed."
   ]
  },
  {
   "cell_type": "markdown",
   "metadata": {},
   "source": [
    "The approach is to:\n",
    "\n",
    "1. Find the _eigen**values**_.\n",
    "2. Use each _eigen**value** to find one _eigen**vector**_."
   ]
  },
  {
   "cell_type": "markdown",
   "metadata": {},
   "source": [
    "### Eigenvalues"
   ]
  },
  {
   "cell_type": "code",
   "execution_count": 35,
   "metadata": {},
   "outputs": [
    {
     "name": "stdout",
     "output_type": "stream",
     "text": [
      "Type of object: \t<class 'dict'>\n"
     ]
    }
   ],
   "source": [
    "A = Matrix([\n",
    "    [1,2],\n",
    "    [2,4]\n",
    "])\n",
    "\n",
    "e_vals = A.eigenvals()\n",
    "\n",
    "print('Type of object: \\t' + str(type(e_vals)))"
   ]
  },
  {
   "cell_type": "markdown",
   "metadata": {},
   "source": [
    "So the `eigenval` method has returned us a `dictionary` object. So, what are the `keys` and `values`?"
   ]
  },
  {
   "cell_type": "code",
   "execution_count": 29,
   "metadata": {},
   "outputs": [
    {
     "data": {
      "text/plain": [
       "dict_keys([5, 0])"
      ]
     },
     "execution_count": 29,
     "metadata": {},
     "output_type": "execute_result"
    }
   ],
   "source": [
    "e_vals.keys()"
   ]
  },
  {
   "cell_type": "code",
   "execution_count": 30,
   "metadata": {},
   "outputs": [
    {
     "data": {
      "text/plain": [
       "dict_values([1, 1])"
      ]
     },
     "execution_count": 30,
     "metadata": {},
     "output_type": "execute_result"
    }
   ],
   "source": [
    "e_vals.values()"
   ]
  },
  {
   "cell_type": "code",
   "execution_count": 31,
   "metadata": {},
   "outputs": [
    {
     "data": {
      "image/png": "[encoded data removed]",
      "text/latex": [
       "$$\\left \\{ 0 : 1, \\quad 5 : 1\\right \\}$$"
      ],
      "text/plain": [
       "{0: 1, 5: 1}"
      ]
     },
     "metadata": {},
     "output_type": "display_data"
    }
   ],
   "source": [
    "display(e_vals)"
   ]
  },
  {
   "cell_type": "markdown",
   "metadata": {},
   "source": [
    "The eigenvalues: $\\lambda_1 = 0$ and $\\lambda_2=5$ are the `keys` of the `dictionary`. The `values` in that `dictionary` are the 'multiplicity' of that eigenvalue, meaning how many times that eigenvalue occurred. For both values, their multiplicity is one."
   ]
  },
  {
   "cell_type": "markdown",
   "metadata": {},
   "source": [
    "### Eigenvectors"
   ]
  },
  {
   "cell_type": "code",
   "execution_count": 34,
   "metadata": {},
   "outputs": [
    {
     "data": {
      "image/png": "[encoded data removed]",
      "text/latex": [
       "$$\\left [ \\left ( 0, \\quad 1, \\quad \\left [ \\left[\\begin{matrix}-2\\\\1\\end{matrix}\\right]\\right ]\\right ), \\quad \\left ( 5, \\quad 1, \\quad \\left [ \\left[\\begin{matrix}\\frac{1}{2}\\\\1\\end{matrix}\\right]\\right ]\\right )\\right ]$$"
      ],
      "text/plain": [
       "⎡⎛      ⎡⎡-2⎤⎤⎞  ⎛      ⎡⎡1/2⎤⎤⎞⎤\n",
       "⎢⎜0, 1, ⎢⎢  ⎥⎥⎟, ⎜5, 1, ⎢⎢   ⎥⎥⎟⎥\n",
       "⎣⎝      ⎣⎣1 ⎦⎦⎠  ⎝      ⎣⎣ 1 ⎦⎦⎠⎦"
      ]
     },
     "execution_count": 34,
     "metadata": {},
     "output_type": "execute_result"
    }
   ],
   "source": [
    "# Resetting A (in case of unordered cells).\n",
    "A = Matrix([\n",
    "    [1,2],\n",
    "    [2,4]\n",
    "])\n",
    "\n",
    "A.eigenvects()"
   ]
  },
  {
   "cell_type": "markdown",
   "metadata": {},
   "source": [
    "From the `eigenvects` method we are returned a `list` containing `tuples`.\n",
    "\n",
    "We also have the information we previously gathered (the eigenvalues) as well as the requested eigenvectors.\n",
    "\n",
    "Interpretting the first element of the `list`:\n",
    "\n",
    "The eigenvalue $\\lambda_1 = 0$ with multiplicity $1$ is used to obtain the vector $\\begin{bmatrix} -2 \\\\ 1 \\end{bmatrix}$.\n",
    "\n",
    "And interpretting the second value in the `list`:\n",
    "\n",
    "The eigenvalue $\\lambda_2 = 5$ with multiplicity $1$ is used to obtain the vector $\\begin{bmatrix} 1/2 \\\\ 1 \\end{bmatrix}$."
   ]
  },
  {
   "cell_type": "markdown",
   "metadata": {},
   "source": [
    "# -------- Questions --------"
   ]
  },
  {
   "cell_type": "markdown",
   "metadata": {},
   "source": [
    "## Question 1:\n",
    "\n"
   ]
  },
  {
   "cell_type": "markdown",
   "metadata": {},
   "source": [
    "## Answer 1:\n"
   ]
  },
  {
   "cell_type": "code",
   "execution_count": null,
   "metadata": {},
   "outputs": [],
   "source": []
  },
  {
   "cell_type": "markdown",
   "metadata": {},
   "source": [
    "## Question 2:\n",
    "\n"
   ]
  },
  {
   "cell_type": "markdown",
   "metadata": {},
   "source": [
    "## Answer 2:"
   ]
  },
  {
   "cell_type": "code",
   "execution_count": null,
   "metadata": {},
   "outputs": [],
   "source": []
  },
  {
   "cell_type": "markdown",
   "metadata": {},
   "source": [
    "## Question 3:\n",
    "\n",
    "Determine the eigenvalues and vectors of:\n",
    "\n",
    "$$\n",
    "\\mathbf{Q}\n",
    "=\n",
    "\\begin{bmatrix}\n",
    "0 & 1 \\\\\n",
    "-1 & 0 \\\\\n",
    "\\end{bmatrix}\n",
    "$$"
   ]
  },
  {
   "cell_type": "markdown",
   "metadata": {},
   "source": [
    "## Answer 3:"
   ]
  },
  {
   "cell_type": "code",
   "execution_count": null,
   "metadata": {},
   "outputs": [],
   "source": []
  },
  {
   "cell_type": "markdown",
   "metadata": {},
   "source": [
    "## Question $n$:\n",
    "\n"
   ]
  },
  {
   "cell_type": "markdown",
   "metadata": {},
   "source": [
    "## Answer $n$:"
   ]
  },
  {
   "cell_type": "code",
   "execution_count": null,
   "metadata": {},
   "outputs": [],
   "source": []
  },
  {
   "cell_type": "markdown",
   "metadata": {},
   "source": [
    "# -------- Additional Questions --------"
   ]
  },
  {
   "cell_type": "markdown",
   "metadata": {},
   "source": [
    "## Additional Question 1:\n",
    "\n",
    "What is meant by a 'pivot'?"
   ]
  },
  {
   "cell_type": "code",
   "execution_count": null,
   "metadata": {},
   "outputs": [],
   "source": []
  }
 ],
 "metadata": {
  "kernelspec": {
   "display_name": "Python 3",
   "language": "python",
   "name": "python3"
  },
  "language_info": {
   "codemirror_mode": {
    "name": "ipython",
    "version": 3
   },
   "file_extension": ".py",
   "mimetype": "text/x-python",
   "name": "python",
   "nbconvert_exporter": "python",
   "pygments_lexer": "ipython3",
   "version": "3.7.3"
  }
 },
 "nbformat": 4,
 "nbformat_minor": 2
}
