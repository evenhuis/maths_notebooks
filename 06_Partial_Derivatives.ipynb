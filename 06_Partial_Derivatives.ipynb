{
 "cells": [
  {
   "cell_type": "markdown",
   "metadata": {},
   "source": [
    "# Partial Derivatives, Advanced Plotting and Contour Plots\n",
    "\n",
    "## Preliminary Mathematics\n",
    "\n",
    "$$\n",
    "f(x,y) := \\text{ A map, from $\\mathbb{R}^{2} \\rightarrow \\mathbb{R}$ } \n",
    "$$\n",
    "\n",
    "i.e. If you the function $f$ two numbers in your domain ($\\mathbb{R}^{2}$) it will map it to a single value (in $\\mathbb{R}$).\n",
    "\n",
    "This can be represented with a 3D graph, where each point in the $xy$-plane is associated with a point along the $z$-axis.\n",
    "\n",
    "e.g."
   ]
  },
  {
   "cell_type": "code",
   "execution_count": null,
   "metadata": {},
   "outputs": [],
   "source": [
    "# Access necessary functions.\n",
    "import sympy as sp \n",
    "\n",
    "# Create variables\n",
    "x = sp.Symbol('x')\n",
    "y = sp.Symbol('y')\n",
    "\n",
    "# Create plot\n",
    "sp.plotting.plot3d(x**2 - y**2)"
   ]
  },
  {
   "cell_type": "markdown",
   "metadata": {},
   "source": [
    "# Question 1:\n",
    "\n",
    "(a) Read the code below. What is an attempting to do?\n",
    "\n",
    "(b) Run the code below. It will produce an error. Interpret it and fix the code so that a plot is produced.\n",
    "\n",
    "# Answer 1:"
   ]
  },
  {
   "cell_type": "code",
   "execution_count": null,
   "metadata": {},
   "outputs": [],
   "source": [
    "import sympy as sp\n",
    "from sympy.plotting import plot3d\n",
    "\n",
    "x = sp.Symbol('x')\n",
    "y = sp.Symbol('y')\n",
    "f = (x**2 - y**2)/(x**2 + y**2)\n",
    "\n",
    "plot3d(sp.diff(f))"
   ]
  },
  {
   "cell_type": "markdown",
   "metadata": {},
   "source": [
    "# Plotting Multivariable Functions"
   ]
  },
  {
   "cell_type": "markdown",
   "metadata": {},
   "source": [
    "## Symbolic Plotting\n",
    "\n",
    "The function used for symbolic plotting with `sympy` is `plot3d` but it is nested within the sub-module `sympy.plotting`. \n",
    "\n",
    "You can import it as such:"
   ]
  },
  {
   "cell_type": "code",
   "execution_count": null,
   "metadata": {},
   "outputs": [],
   "source": [
    "from sympy.plotting import plot3d"
   ]
  },
  {
   "cell_type": "markdown",
   "metadata": {},
   "source": [
    "The algorithm for producing the plot is as follows:\n",
    "\n",
    "1. Import the plotting function.\n",
    "2. Specify the symbols in the function (the variables $x$ and $y$, most likely.\n",
    "3. Create function with variables.\n",
    "4. Call plot with the argument being the function.\n",
    "\n",
    "e.g."
   ]
  },
  {
   "cell_type": "code",
   "execution_count": null,
   "metadata": {},
   "outputs": [],
   "source": [
    "# Access necessary functions.\n",
    "import sympy as sp\n",
    "from sympy.plotting import plot3d as plot3d\n",
    "\n",
    "# Create variables\n",
    "x = sp.Symbol('x')\n",
    "y = sp.Symbol('y')\n",
    "\n",
    "# Create function\n",
    "func = (x**2 - y**2)/(x**2 + y**2)\n",
    "\n",
    "# Create plot\n",
    "plot3d(func)"
   ]
  },
  {
   "cell_type": "markdown",
   "metadata": {},
   "source": [
    "# Question 2:\n",
    "\n",
    "(a) Create symbolic plots of the following:\n",
    "\n",
    "> (i) $$f(x,y) = \\frac{\\left(x^{2}+y^{2}\\right)}{\\left(x^{2}-y^{2}\\right)}$$\n",
    "> \n",
    "> (ii) $$f(x,y) = y^{3}+x^{3}$$\n",
    "> \n",
    "> (iii) $$f(x,y) = xy(y^{2}-x^{2})$$\n",
    "\n",
    "(b) Symbolically calculate all the partial derivatives of these functions.\n",
    "\n"
   ]
  },
  {
   "cell_type": "markdown",
   "metadata": {},
   "source": [
    "## Numeric Plotting\n",
    "\n",
    "Producing a plot with points is a little more involved when the dimensions of the domain increases.\n",
    "\n",
    "Before, we simply had to make an array of `x` and then run it through a function, then plot it. Now, we have to develop a grid of points. This may not be completely obvious.\n",
    "\n",
    "But it is best explained graphically.\n",
    "\n",
    "![](dots_domain.png)\n",
    "\n",
    "The domain is now a grid of points, each point in that grid must be mapped through $f(x,y)$ and for that to happen, all points in the grid must be available to call the function on.\n",
    "\n"
   ]
  },
  {
   "cell_type": "markdown",
   "metadata": {},
   "source": [
    "Let's consider:\n",
    "\n",
    "$$\n",
    "f(x,y) = \\sin\\left(\\frac{x+y}{2}\\right) + 2\n",
    "$$\n",
    "\n",
    "For the domain:\n",
    "\n",
    "$$\n",
    "x \\in  [-5,5] \\quad\n",
    "y \\in  [-5,5]\n",
    "$$"
   ]
  },
  {
   "cell_type": "code",
   "execution_count": null,
   "metadata": {},
   "outputs": [],
   "source": [
    "import numpy as np\n",
    "import matplotlib.pyplot as plt\n",
    "from mpl_toolkits.mplot3d import Axes3D\n",
    "\n",
    "\n",
    "fig = plt.figure(1)\n",
    "x = np.linspace(-5,5)\n",
    "y = np.linspace(-5,5)\n",
    "\n",
    "# Create our grid of points\n",
    "xv, yv = np.meshgrid(x,y)\n",
    "ax = plt.subplot(1,2,1)\n",
    "\n",
    "# Make a contour plot that is filled with color.\n",
    "ax.contourf(xv,yv, np.sin(0.5*xv+0.5*yv) + 2)\n",
    "\n",
    "\n",
    "# Make a second figure and make it 3D\n",
    "fig = plt.figure(2)\n",
    "ax = fig.gca(projection='3d')\n",
    "\n",
    "# Make a zero vector to plot the domain of the function\n",
    "zv, zvv = np.meshgrid(np.zeros(50), np.zeros(50))\n",
    "\n",
    "# Plot the domain\n",
    "ax.plot_surface(xv,yv,zv, alpha = 0.5)\n",
    "\n",
    "# Make and plot our actual function listed above\n",
    "f = np.sin(0.5*xv+0.5*yv) + 2\n",
    "ax.plot_surface(xv,yv,f, color=\"#CC4444\", alpha=0.5)\n",
    "\n",
    "# Change viewing angle\n",
    "ax.view_init(30,110)\n",
    "\n",
    "# Label our axes\n",
    "ax.set_xlabel(\"x\")\n",
    "ax.set_ylabel(\"y\")\n",
    "ax.set_zlabel(\"z\")\n",
    "\n",
    "# Make it pretty\n",
    "ax.grid(False)\n",
    "# Turn off numbers on axes\n",
    "ax.set_yticklabels([])\n",
    "ax.set_xticklabels([])\n",
    "ax.set_zticks([])\n",
    "\n"
   ]
  },
  {
   "cell_type": "markdown",
   "metadata": {},
   "source": [
    "# Question 3:\n",
    "\n",
    "What is the purpose of `alpha`?\n",
    "\n",
    "# Answer 3:"
   ]
  },
  {
   "cell_type": "markdown",
   "metadata": {},
   "source": []
  },
  {
   "cell_type": "markdown",
   "metadata": {},
   "source": [
    "## So what are the steps for 3D plotting?\n",
    "\n",
    "### 1. Make your x-domain."
   ]
  },
  {
   "cell_type": "code",
   "execution_count": null,
   "metadata": {},
   "outputs": [],
   "source": [
    "import numpy as np\n",
    "a = 2; b = 4\n",
    "x = np.linspace(a,b)\n",
    "display(x)"
   ]
  },
  {
   "cell_type": "markdown",
   "metadata": {},
   "source": [
    "### 2. Make your y-domain."
   ]
  },
  {
   "cell_type": "code",
   "execution_count": null,
   "metadata": {},
   "outputs": [],
   "source": [
    "c = 9; d = 11\n",
    "y = np.linspace(c,d)\n",
    "display(y)"
   ]
  },
  {
   "cell_type": "markdown",
   "metadata": {},
   "source": [
    "### 3. Create 2D versions of x and y with `np.meshgrid()`"
   ]
  },
  {
   "cell_type": "code",
   "execution_count": null,
   "metadata": {},
   "outputs": [],
   "source": [
    "xv, yv = np.meshgrid(x,y)\n",
    "display(xv)\n",
    "display(yv)"
   ]
  },
  {
   "cell_type": "markdown",
   "metadata": {},
   "source": [
    "### 4. Create your function using your newly made `xv` and `yv` variables\n",
    "\n",
    "Let's do a fun one!\n",
    "\n",
    "$$\n",
    "f(x,y) =\\frac{1}{x-3} + \\frac{1}{y-10}\n",
    "$$\n",
    "\n"
   ]
  },
  {
   "cell_type": "code",
   "execution_count": null,
   "metadata": {},
   "outputs": [],
   "source": [
    "import matplotlib.pyplot as plt\n",
    "\n",
    "# Make the function \n",
    "zv = 1/(xv - 3) + 1/(yv - 10)\n",
    "\n",
    "# Make a 3D figure\n",
    "fig = plt.figure()\n",
    "ax = fig.gca(projection=\"3d\")\n",
    "\n",
    "# Plot the surface and change the viewing angle.\n",
    "ax.plot_surface(xv,yv,zv)\n",
    "ax.view_init(40,110) # Change the angle of viewing."
   ]
  },
  {
   "cell_type": "markdown",
   "metadata": {},
   "source": [
    "# Question 4:\n",
    "\n",
    "For the domains:\n",
    "\n",
    "$$\n",
    "x \\in  [-10,10] \\quad\n",
    "y \\in  [-10,10]\n",
    "$$\n",
    "\n",
    "### Functions:\n",
    "\n",
    "> (i) $xy$\n",
    "> \n",
    "> (ii) $-xy$\n",
    "> \n",
    "> (iii) $x^2 + y^2 + z^2 = 0$\n",
    "> \n",
    "> (iv) $3\\sin(\\frac{x + y}{5}) + 6$\n",
    "> \n",
    "> (v) $\\cos(x) + \\sin(y)$\n",
    "\n",
    "(a) Calculate all partial derivatives of all functions.\n",
    "\n",
    "(b) Produce individual plots using `matplotlib` for the following equations and superimpose its derivatives on the same plots.\n",
    "\n",
    "# Answer 4:"
   ]
  },
  {
   "cell_type": "code",
   "execution_count": null,
   "metadata": {},
   "outputs": [],
   "source": []
  },
  {
   "cell_type": "markdown",
   "metadata": {},
   "source": [
    "# Demonstrating that $f_{xy} = f_{yx}$\n",
    "\n",
    "One of the key things to understand about partial derivatives is that it does not affect your result if you differentiate in a different sequence. This theorem has a few names, but one of the most common is **Schwarz' Theorem**.\n",
    "\n",
    "$$\n",
    "\\frac{\\partial^{2} f}{\\partial y \\ \\partial x} =\n",
    "\\frac{\\partial^{2} f}{\\partial x \\ \\partial y} \n",
    "$$\n",
    "\n",
    "We can demonstrate this with `sympy`."
   ]
  },
  {
   "cell_type": "markdown",
   "metadata": {},
   "source": [
    "# Question 5:\n",
    "\n",
    "Using the code below, demonstrate that the function $f$ has equivalent mixed derivatives.\n",
    "\n",
    "Requirements:\n",
    "1. You should evaluate both cases and save them into separate variables.\n",
    "2. Write an if-statement that compares them and prints `\"They're the same!\"` if true.\n",
    "\n",
    "# Answer 5:"
   ]
  },
  {
   "cell_type": "code",
   "execution_count": null,
   "metadata": {},
   "outputs": [],
   "source": [
    "import sympy as sp\n",
    "x = sp.Symbol('x')\n",
    "y = sp.Symbol('y')\n",
    "f = sp.Function('f')(x,y)\n",
    "\n",
    "# Your code here"
   ]
  },
  {
   "cell_type": "markdown",
   "metadata": {},
   "source": [
    "# Contour Plotting\n",
    "\n",
    "# Question 6:\n",
    "\n",
    "With our `matplotlib` plotting of the function \n",
    "\n",
    "$$\n",
    "f(x,y) = \\sin\\left(\\frac{x+y}{2}\\right) + 2\n",
    "$$\n",
    "\n",
    "we produced a `contour` plot (above). Take this example and modify it to produce contour plots of the following functions:\n",
    "\n",
    "(a) $x^2 + 4y^2$\n",
    "\n",
    "(b) $(x-1)^2 + y^2$\n",
    "\n",
    "# Answer 6:"
   ]
  },
  {
   "cell_type": "code",
   "execution_count": null,
   "metadata": {},
   "outputs": [],
   "source": [
    " "
   ]
  }
 ],
 "metadata": {
  "kernelspec": {
   "display_name": "Python 3",
   "language": "python",
   "name": "python3"
  },
  "language_info": {
   "codemirror_mode": {
    "name": "ipython",
    "version": 3
   },
   "file_extension": ".py",
   "mimetype": "text/x-python",
   "name": "python",
   "nbconvert_exporter": "python",
   "pygments_lexer": "ipython3",
   "version": "3.7.3"
  }
 },
 "nbformat": 4,
 "nbformat_minor": 2
}
