{
 "cells": [
  {
   "cell_type": "markdown",
   "metadata": {},
   "source": [
    "# Differentation & Integration"
   ]
  },
  {
   "cell_type": "markdown",
   "metadata": {},
   "source": [
    "## Differentiation"
   ]
  },
  {
   "cell_type": "markdown",
   "metadata": {},
   "source": [
    "Some elementary functions and their derivatives:\n",
    "\n",
    "$$\n",
    "    \\cos (x)                           \\qquad \\frac{d}{dx} \\left( \\cos (x) \\right) = - \\sin(x)\n",
    "    \\\\\n",
    "    \\sin (x)                           \\qquad \\frac{d}{dx} \\left( \\sin (x) \\right) = \\cos (x)\n",
    "    \\\\\n",
    "    \\tan (x)                           \\qquad \\frac{d}{dx} \\left( \\tan (x)  \\right) = \\sec^2 (x)\n",
    "    \\\\\n",
    "    \\ln (x)                            \\qquad \\frac{d}{dx} \\left( \\ln (x)  \\right) = \\frac{1}{x}\n",
    "    \\\\\n",
    "    x^n + x^{n-1} + \\ldots + x + c     \n",
    "    \\qquad \\frac{d}{dx} \\left( x^n + x^{n-1} + \\ldots + x + c \\right) \n",
    "    =  (n)x^{n-1} + (n-1)x^{n-2} + \\ldots + 1 + 0\n",
    "$$\n",
    "\n",
    "Let's validate these with `sympy`."
   ]
  },
  {
   "cell_type": "code",
   "execution_count": 22,
   "metadata": {},
   "outputs": [
    {
     "name": "stdout",
     "output_type": "stream",
     "text": [
      "Sympy version is: \t1.3\n"
     ]
    }
   ],
   "source": [
    "# Setup\n",
    "from sympy import *\n",
    "from sympy import __version__ as sympy_version\n",
    "print(\"Sympy version is: \\t\" + sympy_version)\n",
    "x = Symbol('x')\n",
    "# from sympy.abc import x     # Prepare the variable x.\n",
    "init_printing()             # Make things print nicely"
   ]
  },
  {
   "cell_type": "code",
   "execution_count": 5,
   "metadata": {},
   "outputs": [
    {
     "data": {
      "image/png": "[encoded data removed]",
      "text/latex": [
       "$$- \\sin{\\left (x \\right )}$$"
      ],
      "text/plain": [
       "-sin(x)"
      ]
     },
     "execution_count": 5,
     "metadata": {},
     "output_type": "execute_result"
    }
   ],
   "source": [
    "y = cos(x)\n",
    "y_prime = diff(y)\n",
    "\n",
    "(y_prime)"
   ]
  },
  {
   "cell_type": "code",
   "execution_count": 6,
   "metadata": {},
   "outputs": [
    {
     "data": {
      "image/png": "[encoded data removed]",
      "text/latex": [
       "$$\\cos{\\left (x \\right )}$$"
      ],
      "text/plain": [
       "cos(x)"
      ]
     },
     "execution_count": 6,
     "metadata": {},
     "output_type": "execute_result"
    }
   ],
   "source": [
    "y = sin(x)\n",
    "y_prime = diff(y)\n",
    "\n",
    "y_prime"
   ]
  },
  {
   "cell_type": "code",
   "execution_count": 7,
   "metadata": {},
   "outputs": [
    {
     "data": {
      "image/png": "[encoded data removed]",
      "text/latex": [
       "$$\\tan^{2}{\\left (x \\right )} + 1$$"
      ],
      "text/plain": [
       "   2       \n",
       "tan (x) + 1"
      ]
     },
     "execution_count": 7,
     "metadata": {},
     "output_type": "execute_result"
    }
   ],
   "source": [
    "y = tan(x)\n",
    "y_prime = diff(y)\n",
    "\n",
    "y_prime"
   ]
  },
  {
   "cell_type": "code",
   "execution_count": 8,
   "metadata": {
    "scrolled": true
   },
   "outputs": [
    {
     "data": {
      "image/png": "[encoded data removed]",
      "text/latex": [
       "$$\\frac{1}{x}$$"
      ],
      "text/plain": [
       "1\n",
       "─\n",
       "x"
      ]
     },
     "execution_count": 8,
     "metadata": {},
     "output_type": "execute_result"
    }
   ],
   "source": [
    "y = ln(x)\n",
    "y_prime = diff(y)\n",
    "\n",
    "y_prime"
   ]
  },
  {
   "cell_type": "code",
   "execution_count": 9,
   "metadata": {},
   "outputs": [
    {
     "data": {
      "image/png": "[encoded data removed]",
      "text/latex": [
       "$$3 x^{2} + 2 x + 1$$"
      ],
      "text/plain": [
       "   2          \n",
       "3⋅x  + 2⋅x + 1"
      ]
     },
     "execution_count": 9,
     "metadata": {},
     "output_type": "execute_result"
    }
   ],
   "source": [
    "y = x**3 + x**2 + x + 1\n",
    "y_prime = diff(y)\n",
    "\n",
    "y_prime"
   ]
  },
  {
   "cell_type": "markdown",
   "metadata": {},
   "source": [
    "## More complex derivatives\n",
    "\n",
    "Say we have a more difficult function to differentiate, using a symbolic package we can easily obtain an accurate and useful answer to our problem in a few lines of code.\n",
    "\n"
   ]
  },
  {
   "cell_type": "code",
   "execution_count": 10,
   "metadata": {},
   "outputs": [
    {
     "data": {
      "image/png": "[encoded data removed]",
      "text/latex": [
       "$$\\sin{\\left (4 x \\right )} \\cos{\\left (3 x \\right )} \\tan{\\left (5 x \\right )}$$"
      ],
      "text/plain": [
       "sin(4⋅x)⋅cos(3⋅x)⋅tan(5⋅x)"
      ]
     },
     "execution_count": 10,
     "metadata": {},
     "output_type": "execute_result"
    }
   ],
   "source": [
    "y = cos(3*x)*sin(4*x)*tan(5*x)\n",
    "\n",
    "y"
   ]
  },
  {
   "cell_type": "code",
   "execution_count": 11,
   "metadata": {},
   "outputs": [
    {
     "data": {
      "image/png": "[encoded data removed]",
      "text/latex": [
       "$$\\left(5 \\tan^{2}{\\left (5 x \\right )} + 5\\right) \\sin{\\left (4 x \\right )} \\cos{\\left (3 x \\right )} - 3 \\sin{\\left (3 x \\right )} \\sin{\\left (4 x \\right )} \\tan{\\left (5 x \\right )} + 4 \\cos{\\left (3 x \\right )} \\cos{\\left (4 x \\right )} \\tan{\\left (5 x \\right )}$$"
      ],
      "text/plain": [
       "⎛     2         ⎞                                                             \n",
       "⎝5⋅tan (5⋅x) + 5⎠⋅sin(4⋅x)⋅cos(3⋅x) - 3⋅sin(3⋅x)⋅sin(4⋅x)⋅tan(5⋅x) + 4⋅cos(3⋅x\n",
       "\n",
       "                   \n",
       ")⋅cos(4⋅x)⋅tan(5⋅x)"
      ]
     },
     "execution_count": 11,
     "metadata": {},
     "output_type": "execute_result"
    }
   ],
   "source": [
    "y_prime = diff(y)\n",
    "\n",
    "y_prime"
   ]
  },
  {
   "cell_type": "markdown",
   "metadata": {},
   "source": [
    "## Perhaps we don't know the coefficients?\n",
    "\n",
    "Still doable!"
   ]
  },
  {
   "cell_type": "code",
   "execution_count": 12,
   "metadata": {},
   "outputs": [
    {
     "data": {
      "image/png": "[encoded data removed]",
      "text/latex": [
       "$$\\sin{\\left (b x \\right )} \\cos{\\left (a x \\right )} \\tan{\\left (c x \\right )}$$"
      ],
      "text/plain": [
       "sin(b⋅x)⋅cos(a⋅x)⋅tan(c⋅x)"
      ]
     },
     "execution_count": 12,
     "metadata": {},
     "output_type": "execute_result"
    }
   ],
   "source": [
    "from sympy.abc import a,b,c\n",
    "y = cos(a*x)*sin(b*x)*tan(c*x)\n",
    "\n",
    "y"
   ]
  },
  {
   "cell_type": "code",
   "execution_count": 13,
   "metadata": {},
   "outputs": [
    {
     "data": {
      "image/png": "[encoded data removed]",
      "text/latex": [
       "$$- a \\sin{\\left (a x \\right )} \\sin{\\left (b x \\right )} \\tan{\\left (c x \\right )} + b \\cos{\\left (a x \\right )} \\cos{\\left (b x \\right )} \\tan{\\left (c x \\right )} + c \\left(\\tan^{2}{\\left (c x \\right )} + 1\\right) \\sin{\\left (b x \\right )} \\cos{\\left (a x \\right )}$$"
      ],
      "text/plain": [
       "                                                                 ⎛   2        \n",
       "-a⋅sin(a⋅x)⋅sin(b⋅x)⋅tan(c⋅x) + b⋅cos(a⋅x)⋅cos(b⋅x)⋅tan(c⋅x) + c⋅⎝tan (c⋅x) + \n",
       "\n",
       " ⎞                  \n",
       "1⎠⋅sin(b⋅x)⋅cos(a⋅x)"
      ]
     },
     "execution_count": 13,
     "metadata": {},
     "output_type": "execute_result"
    }
   ],
   "source": [
    "# Differentiate with respect to x. Optional second argument indicates what to differentiate with\n",
    "y_prime = diff(y, x)            \n",
    "\n",
    "y_prime"
   ]
  },
  {
   "cell_type": "markdown",
   "metadata": {},
   "source": [
    "## Arbitrary Functions\n",
    "\n",
    "We can even manipulate functions that have not been explicitly specified with `sympy`. We do this with the `Function()` function.\n",
    "\n",
    "We can even do single and multi-variable functions."
   ]
  },
  {
   "cell_type": "code",
   "execution_count": 8,
   "metadata": {},
   "outputs": [
    {
     "data": {
      "text/latex": [
       "$\\displaystyle f{\\left(x \\right)}$"
      ],
      "text/plain": [
       "f(x)"
      ]
     },
     "metadata": {},
     "output_type": "display_data"
    }
   ],
   "source": [
    "from sympy import Symbol, Function\n",
    "\n",
    "x = Symbol('x')\n",
    "\n",
    "f = Function('f')(x)\n",
    "\n",
    "display(f)"
   ]
  },
  {
   "cell_type": "code",
   "execution_count": 6,
   "metadata": {},
   "outputs": [
    {
     "data": {
      "text/latex": [
       "$\\displaystyle f{\\left(x,y \\right)}$"
      ],
      "text/plain": [
       "f(x, y)"
      ]
     },
     "metadata": {},
     "output_type": "display_data"
    }
   ],
   "source": [
    "from sympy import Symbol, Function\n",
    "\n",
    "x = Symbol('x')\n",
    "y = Symbol('y')\n",
    "\n",
    "f = Function('f')(x,y)\n",
    "\n",
    "display(f)"
   ]
  },
  {
   "cell_type": "markdown",
   "metadata": {},
   "source": [
    "We can then manipulate them with integration and differentiation. This is useful for validating transformation rules and how they affect function (whether a transformation is linear or not, how multiplication of functions affects differentiation, etc.)."
   ]
  },
  {
   "cell_type": "code",
   "execution_count": 14,
   "metadata": {},
   "outputs": [
    {
     "data": {
      "text/latex": [
       "$\\displaystyle \\int f{\\left(x \\right)}\\, dx$"
      ],
      "text/plain": [
       "Integral(f(x), x)"
      ]
     },
     "metadata": {},
     "output_type": "display_data"
    },
    {
     "data": {
      "text/latex": [
       "$\\displaystyle \\frac{d}{d x} f{\\left(x \\right)}$"
      ],
      "text/plain": [
       "Derivative(f(x), x)"
      ]
     },
     "metadata": {},
     "output_type": "display_data"
    }
   ],
   "source": [
    "from sympy import integrate, diff\n",
    "F = integrate(f,x)\n",
    "f_prime = diff(f,x)\n",
    "\n",
    "display(F)\n",
    "display(f_prime)"
   ]
  },
  {
   "cell_type": "markdown",
   "metadata": {},
   "source": [
    "## Repetitive Derivatives"
   ]
  },
  {
   "cell_type": "markdown",
   "metadata": {},
   "source": [
    "Say we want to differentiate to a certain power, we can specify that with a third argument to `diff()`"
   ]
  },
  {
   "cell_type": "code",
   "execution_count": 14,
   "metadata": {},
   "outputs": [
    {
     "data": {
      "image/png": "[encoded data removed]",
      "text/latex": [
       "$$a^{100} \\cos{\\left (a x \\right )}$$"
      ],
      "text/plain": [
       " 100         \n",
       "a   ⋅cos(a⋅x)"
      ]
     },
     "execution_count": 14,
     "metadata": {},
     "output_type": "execute_result"
    }
   ],
   "source": [
    "y = cos(a*x)\n",
    "\n",
    "# Here, the third argument indicates how many times to differentiate.\n",
    "# We are taking the 100th derivative.\n",
    "y_prime = diff(y, x, 100)            \n",
    "\n",
    "y_prime"
   ]
  },
  {
   "cell_type": "markdown",
   "metadata": {},
   "source": [
    "Let's take a high-order derivative of a more complicated function."
   ]
  },
  {
   "cell_type": "code",
   "execution_count": 15,
   "metadata": {},
   "outputs": [
    {
     "data": {
      "image/png": "[encoded data removed]",
      "text/latex": [
       "$$\\frac{256 \\left(1382 \\left(\\tan^{2}{\\left (x \\right )} + 1\\right)^{5} \\tan{\\left (x \\right )} + 7192 \\left(\\tan^{2}{\\left (x \\right )} + 1\\right)^{4} \\tan^{3}{\\left (x \\right )} + 5097 \\left(\\tan^{2}{\\left (x \\right )} + 1\\right)^{3} \\tan^{5}{\\left (x \\right )} + 502 \\left(\\tan^{2}{\\left (x \\right )} + 1\\right)^{2} \\tan^{7}{\\left (x \\right )} + 2 \\left(\\tan^{2}{\\left (x \\right )} + 1\\right) \\tan^{9}{\\left (x \\right )} - \\frac{310 \\left(\\tan^{2}{\\left (x \\right )} + 1\\right)^{5}}{x} - \\frac{5360 \\left(\\tan^{2}{\\left (x \\right )} + 1\\right)^{4} \\tan^{2}{\\left (x \\right )}}{x} - \\frac{7260 \\left(\\tan^{2}{\\left (x \\right )} + 1\\right)^{3} \\tan^{4}{\\left (x \\right )}}{x} - \\frac{1235 \\left(\\tan^{2}{\\left (x \\right )} + 1\\right)^{2} \\tan^{6}{\\left (x \\right )}}{x} - \\frac{10 \\left(\\tan^{2}{\\left (x \\right )} + 1\\right) \\tan^{8}{\\left (x \\right )}}{x} + \\frac{2790 \\left(\\tan^{2}{\\left (x \\right )} + 1\\right)^{4} \\tan{\\left (x \\right )}}{x^{2}} + \\frac{8640 \\left(\\tan^{2}{\\left (x \\right )} + 1\\right)^{3} \\tan^{3}{\\left (x \\right )}}{x^{2}} + \\frac{2700 \\left(\\tan^{2}{\\left (x \\right )} + 1\\right)^{2} \\tan^{5}{\\left (x \\right )}}{x^{2}} + \\frac{45 \\left(\\tan^{2}{\\left (x \\right )} + 1\\right) \\tan^{7}{\\left (x \\right )}}{x^{2}} - \\frac{765 \\left(\\tan^{2}{\\left (x \\right )} + 1\\right)^{4}}{x^{3}} - \\frac{8100 \\left(\\tan^{2}{\\left (x \\right )} + 1\\right)^{3} \\tan^{2}{\\left (x \\right )}}{x^{3}} - \\frac{5130 \\left(\\tan^{2}{\\left (x \\right )} + 1\\right)^{2} \\tan^{4}{\\left (x \\right )}}{x^{3}} - \\frac{180 \\left(\\tan^{2}{\\left (x \\right )} + 1\\right) \\tan^{6}{\\left (x \\right )}}{x^{3}} + \\frac{5355 \\left(\\tan^{2}{\\left (x \\right )} + 1\\right)^{3} \\tan{\\left (x \\right )}}{x^{4}} + \\frac{8190 \\left(\\tan^{2}{\\left (x \\right )} + 1\\right)^{2} \\tan^{3}{\\left (x \\right )}}{x^{4}} + \\frac{630 \\left(\\tan^{2}{\\left (x \\right )} + 1\\right) \\tan^{5}{\\left (x \\right )}}{x^{4}} - \\frac{1890 \\left(\\tan^{2}{\\left (x \\right )} + 1\\right)^{3}}{x^{5}} - \\frac{10395 \\left(\\tan^{2}{\\left (x \\right )} + 1\\right)^{2} \\tan^{2}{\\left (x \\right )}}{x^{5}} - \\frac{1890 \\left(\\tan^{2}{\\left (x \\right )} + 1\\right) \\tan^{4}{\\left (x \\right )}}{x^{5}} + \\frac{9450 \\left(\\tan^{2}{\\left (x \\right )} + 1\\right)^{2} \\tan{\\left (x \\right )}}{x^{6}} + \\frac{4725 \\left(\\tan^{2}{\\left (x \\right )} + 1\\right) \\tan^{3}{\\left (x \\right )}}{x^{6}} - \\frac{4725 \\left(\\tan^{2}{\\left (x \\right )} + 1\\right)^{2}}{x^{7}} - \\frac{9450 \\left(\\tan^{2}{\\left (x \\right )} + 1\\right) \\tan^{2}{\\left (x \\right )}}{x^{7}} + \\frac{14175 \\left(\\tan^{2}{\\left (x \\right )} + 1\\right) \\tan{\\left (x \\right )}}{x^{8}} - \\frac{14175 \\left(\\tan^{2}{\\left (x \\right )} + 1\\right)}{x^{9}} + \\frac{14175 \\tan{\\left (x \\right )}}{x^{10}}\\right)}{x}$$"
      ],
      "text/plain": [
       "    ⎛                                                                         \n",
       "    ⎜                  5                            4                         \n",
       "    ⎜     ⎛   2       ⎞                ⎛   2       ⎞     3           ⎛   2    \n",
       "256⋅⎜1382⋅⎝tan (x) + 1⎠ ⋅tan(x) + 7192⋅⎝tan (x) + 1⎠ ⋅tan (x) + 5097⋅⎝tan (x) \n",
       "    ⎜                                                                         \n",
       "    ⎝                                                                         \n",
       "──────────────────────────────────────────────────────────────────────────────\n",
       "                                                                              \n",
       "\n",
       "                                                                              \n",
       "    3                            2                                         ⎛  \n",
       "   ⎞     5          ⎛   2       ⎞     7        ⎛   2       ⎞    9      310⋅⎝ta\n",
       "+ 1⎠ ⋅tan (x) + 502⋅⎝tan (x) + 1⎠ ⋅tan (x) + 2⋅⎝tan (x) + 1⎠⋅tan (x) - ───────\n",
       "                                                                              \n",
       "                                                                              \n",
       "──────────────────────────────────────────────────────────────────────────────\n",
       "                                                                              \n",
       "\n",
       "          5                     4                             3               \n",
       " 2       ⎞         ⎛   2       ⎞     2           ⎛   2       ⎞     4          \n",
       "n (x) + 1⎠    5360⋅⎝tan (x) + 1⎠ ⋅tan (x)   7260⋅⎝tan (x) + 1⎠ ⋅tan (x)   1235\n",
       "─────────── - ─────────────────────────── - ─────────────────────────── - ────\n",
       " x                         x                             x                    \n",
       "                                                                              \n",
       "──────────────────────────────────────────────────────────────────────────────\n",
       "                                                                              \n",
       "\n",
       "              2                                                        4      \n",
       " ⎛   2       ⎞     6         ⎛   2       ⎞    8           ⎛   2       ⎞       \n",
       "⋅⎝tan (x) + 1⎠ ⋅tan (x)   10⋅⎝tan (x) + 1⎠⋅tan (x)   2790⋅⎝tan (x) + 1⎠ ⋅tan(x\n",
       "─────────────────────── - ──────────────────────── + ─────────────────────────\n",
       "         x                           x                            2           \n",
       "                                                                 x            \n",
       "──────────────────────────────────────────────────────────────────────────────\n",
       "                                                                              \n",
       "\n",
       "                      3                             2                         \n",
       "         ⎛   2       ⎞     3           ⎛   2       ⎞     5         ⎛   2      \n",
       ")   8640⋅⎝tan (x) + 1⎠ ⋅tan (x)   2700⋅⎝tan (x) + 1⎠ ⋅tan (x)   45⋅⎝tan (x) + \n",
       "─ + ─────────────────────────── + ─────────────────────────── + ──────────────\n",
       "                  2                             2                           2 \n",
       "                 x                             x                           x  \n",
       "──────────────────────────────────────────────────────────────────────────────\n",
       "                                                                              \n",
       "\n",
       "                              4                     3                         \n",
       " ⎞    7          ⎛   2       ⎞         ⎛   2       ⎞     2           ⎛   2    \n",
       "1⎠⋅tan (x)   765⋅⎝tan (x) + 1⎠    8100⋅⎝tan (x) + 1⎠ ⋅tan (x)   5130⋅⎝tan (x) \n",
       "────────── - ────────────────── - ─────────────────────────── - ──────────────\n",
       "                      3                         3                             \n",
       "                     x                         x                             x\n",
       "──────────────────────────────────────────────────────────────────────────────\n",
       "                                    x                                         \n",
       "\n",
       "    2                                                         3               \n",
       "   ⎞     4          ⎛   2       ⎞    6           ⎛   2       ⎞                \n",
       "+ 1⎠ ⋅tan (x)   180⋅⎝tan (x) + 1⎠⋅tan (x)   5355⋅⎝tan (x) + 1⎠ ⋅tan(x)   8190⋅\n",
       "───────────── - ───────────────────────── + ────────────────────────── + ─────\n",
       "3                            3                           4                    \n",
       "                            x                           x                     \n",
       "──────────────────────────────────────────────────────────────────────────────\n",
       "                                                                              \n",
       "\n",
       "             2                                                         3      \n",
       "⎛   2       ⎞     3          ⎛   2       ⎞    5           ⎛   2       ⎞       \n",
       "⎝tan (x) + 1⎠ ⋅tan (x)   630⋅⎝tan (x) + 1⎠⋅tan (x)   1890⋅⎝tan (x) + 1⎠    103\n",
       "────────────────────── + ───────────────────────── - ─────────────────── - ───\n",
       "         4                            4                        5              \n",
       "        x                            x                        x               \n",
       "──────────────────────────────────────────────────────────────────────────────\n",
       "                                                                              \n",
       "\n",
       "                2                                                          2  \n",
       "   ⎛   2       ⎞     2           ⎛   2       ⎞    4           ⎛   2       ⎞   \n",
       "95⋅⎝tan (x) + 1⎠ ⋅tan (x)   1890⋅⎝tan (x) + 1⎠⋅tan (x)   9450⋅⎝tan (x) + 1⎠ ⋅t\n",
       "───────────────────────── - ────────────────────────── + ─────────────────────\n",
       "           5                             5                            6       \n",
       "          x                             x                            x        \n",
       "──────────────────────────────────────────────────────────────────────────────\n",
       "                                                                              \n",
       "\n",
       "                                                       2                      \n",
       "             ⎛   2       ⎞    3           ⎛   2       ⎞         ⎛   2       ⎞ \n",
       "an(x)   4725⋅⎝tan (x) + 1⎠⋅tan (x)   4725⋅⎝tan (x) + 1⎠    9450⋅⎝tan (x) + 1⎠⋅\n",
       "───── + ────────────────────────── - ─────────────────── - ───────────────────\n",
       "                     6                         7                        7     \n",
       "                    x                         x                        x      \n",
       "──────────────────────────────────────────────────────────────────────────────\n",
       "                                                                              \n",
       "\n",
       "                                                                         ⎞\n",
       "   2            ⎛   2       ⎞                ⎛   2       ⎞               ⎟\n",
       "tan (x)   14175⋅⎝tan (x) + 1⎠⋅tan(x)   14175⋅⎝tan (x) + 1⎠   14175⋅tan(x)⎟\n",
       "─────── + ────────────────────────── - ─────────────────── + ────────────⎟\n",
       "                       8                         9                10     ⎟\n",
       "                      x                         x                x       ⎠\n",
       "──────────────────────────────────────────────────────────────────────────\n",
       "                                                                          "
      ]
     },
     "execution_count": 15,
     "metadata": {},
     "output_type": "execute_result"
    }
   ],
   "source": [
    "y = tan(x)*1/x\n",
    "y_prime = diff(y, x, 10)\n",
    "\n",
    "y_prime   # Note that large functions format poorly on github, but nicely when run on locally on your computer (hopefully)."
   ]
  },
  {
   "cell_type": "markdown",
   "metadata": {},
   "source": [
    "Here, computer-based symbolic manipulations show their strength."
   ]
  },
  {
   "cell_type": "markdown",
   "metadata": {},
   "source": [
    "## Integration\n",
    "\n",
    "[Link](https://docs.sympy.org/1.3/modules/integrals/integrals.html?highlight=integrate#sympy.integrals.integrate) \n",
    "to the documentation for `integrate` for `sympy` version 1.3."
   ]
  },
  {
   "cell_type": "code",
   "execution_count": 1,
   "metadata": {},
   "outputs": [
    {
     "name": "stdout",
     "output_type": "stream",
     "text": [
      "Sympy version is: \t1.3\n"
     ]
    }
   ],
   "source": [
    "from sympy import *\n",
    "from sympy.abc import x\n",
    "from sympy import __version__ as sympy_version\n",
    "print(\"Sympy version is: \\t\" + str(sympy_version))\n",
    "init_printing()"
   ]
  },
  {
   "cell_type": "markdown",
   "metadata": {},
   "source": [
    "### Simple example\n",
    "Indefinite integral."
   ]
  },
  {
   "cell_type": "code",
   "execution_count": 2,
   "metadata": {},
   "outputs": [
    {
     "data": {
      "image/png": "[encoded data removed]",
      "text/latex": [
       "$$\\sin{\\left (x \\right )}$$"
      ],
      "text/plain": [
       "sin(x)"
      ]
     },
     "execution_count": 2,
     "metadata": {},
     "output_type": "execute_result"
    }
   ],
   "source": [
    "y = cos(x)\n",
    "Y = integrate(y)\n",
    "\n",
    "Y"
   ]
  },
  {
   "cell_type": "markdown",
   "metadata": {},
   "source": [
    "Definite integral.\n",
    "\n",
    "See how we pass a `tuple` as the second argument to indicate to the `integrate()` function what to integrate with respect to and with what bounds. \n",
    "\n",
    "It's formatted like: `integrate(function, (variable, lower_limit, upper_limit))`"
   ]
  },
  {
   "cell_type": "code",
   "execution_count": 5,
   "metadata": {},
   "outputs": [
    {
     "data": {
      "image/png": "[encoded data removed]",
      "text/latex": [
       "$$2$$"
      ],
      "text/plain": [
       "2"
      ]
     },
     "execution_count": 5,
     "metadata": {},
     "output_type": "execute_result"
    }
   ],
   "source": [
    "y = sin(x)\n",
    "attributes = (x, 0, pi)\n",
    "Y = integrate(y, attributes)     # Integrate sin(x) from 0 to pi\n",
    "\n",
    "Y"
   ]
  },
  {
   "cell_type": "markdown",
   "metadata": {},
   "source": [
    "### A more complicated example"
   ]
  },
  {
   "cell_type": "code",
   "execution_count": 6,
   "metadata": {},
   "outputs": [
    {
     "data": {
      "image/png": "[encoded data removed]",
      "text/latex": [
       "$$\\frac{e^{x} \\sin{\\left (x \\right )}}{2} + \\frac{e^{x} \\cos{\\left (x \\right )}}{2}$$"
      ],
      "text/plain": [
       " x           x       \n",
       "ℯ ⋅sin(x)   ℯ ⋅cos(x)\n",
       "───────── + ─────────\n",
       "    2           2    "
      ]
     },
     "execution_count": 6,
     "metadata": {},
     "output_type": "execute_result"
    }
   ],
   "source": [
    "y = cos(x)*exp(x)\n",
    "Y = integrate(y)\n",
    "\n",
    "Y"
   ]
  },
  {
   "cell_type": "markdown",
   "metadata": {},
   "source": [
    "Perhaps with some coefficients?"
   ]
  },
  {
   "cell_type": "code",
   "execution_count": 7,
   "metadata": {},
   "outputs": [
    {
     "data": {
      "image/png": "[encoded data removed]",
      "text/latex": [
       "$$a \\left(\\frac{3 e^{4 x} \\sin{\\left (3 x \\right )}}{25} + \\frac{4 e^{4 x} \\cos{\\left (3 x \\right )}}{25}\\right)$$"
      ],
      "text/plain": [
       "  ⎛   4⋅x               4⋅x         ⎞\n",
       "  ⎜3⋅ℯ   ⋅sin(3⋅x)   4⋅ℯ   ⋅cos(3⋅x)⎟\n",
       "a⋅⎜─────────────── + ───────────────⎟\n",
       "  ⎝       25                25      ⎠"
      ]
     },
     "execution_count": 7,
     "metadata": {},
     "output_type": "execute_result"
    }
   ],
   "source": [
    "from sympy.abc import a\n",
    "y = a*cos(3*x)*exp(4*x)\n",
    "Y = integrate(y, x)\n",
    "\n",
    "Y"
   ]
  },
  {
   "cell_type": "markdown",
   "metadata": {},
   "source": [
    "## Symbolic limits"
   ]
  },
  {
   "cell_type": "code",
   "execution_count": 8,
   "metadata": {},
   "outputs": [
    {
     "data": {
      "image/png": "[encoded data removed]",
      "text/latex": [
       "$$a \\log{\\left (a \\right )} - a + 1$$"
      ],
      "text/plain": [
       "a⋅log(a) - a + 1"
      ]
     },
     "execution_count": 8,
     "metadata": {},
     "output_type": "execute_result"
    }
   ],
   "source": [
    "Y = integrate(log(x), (x, 1, a))\n",
    "\n",
    "Y"
   ]
  },
  {
   "cell_type": "markdown",
   "metadata": {},
   "source": [
    "# -------- Differentation Questions --------"
   ]
  },
  {
   "cell_type": "markdown",
   "metadata": {},
   "source": [
    "## Question 1:\n",
    "\n",
    "Calculate the second derivative of:\n",
    "\n",
    "$$\n",
    "\\frac\n",
    "{\\tan (x) + \\sin(x)}\n",
    "{x}\n",
    "$$"
   ]
  },
  {
   "cell_type": "markdown",
   "metadata": {},
   "source": [
    "## Answer 1:\n"
   ]
  },
  {
   "cell_type": "code",
   "execution_count": null,
   "metadata": {},
   "outputs": [],
   "source": []
  },
  {
   "cell_type": "markdown",
   "metadata": {},
   "source": [
    "## Question 2: (Requires the knowledge of `plotting`)\n",
    "\n",
    "Consider the function:\n",
    "\n",
    "$$\n",
    "    \\sqrt{x} \\cdot \\sin\\left(x\\right) \n",
    "$$\n",
    "\n",
    "Symbolically plot it in blue(`'b'`)  and its derivative in red (`'r'`) on the same plot over the domain $[0,2\\pi]$\n"
   ]
  },
  {
   "cell_type": "markdown",
   "metadata": {},
   "source": [
    "## Answer 2:"
   ]
  },
  {
   "cell_type": "code",
   "execution_count": null,
   "metadata": {},
   "outputs": [],
   "source": []
  },
  {
   "cell_type": "markdown",
   "metadata": {},
   "source": [
    "## Question 3:\n",
    "\n",
    "\n",
    "If $n$ is the 3rd number in your Student ID number, find the $n$-th derivative of $y = e^x \\cdot \\sin(x)$ "
   ]
  },
  {
   "cell_type": "markdown",
   "metadata": {},
   "source": [
    "## Answer 3:"
   ]
  },
  {
   "cell_type": "code",
   "execution_count": null,
   "metadata": {},
   "outputs": [],
   "source": []
  },
  {
   "cell_type": "markdown",
   "metadata": {},
   "source": [
    "## Question 4:\n",
    "\n",
    "If $f$ is a function of $x$ and $g$ is a function of $x$, find:\n",
    "\n",
    "$$\n",
    "    \\frac{d}{dx} \\left( f\\cdot g \\right) \n",
    "$$\n",
    "\n",
    "\n"
   ]
  },
  {
   "cell_type": "code",
   "execution_count": 20,
   "metadata": {},
   "outputs": [
    {
     "data": {
      "image/png": "[encoded data removed]",
      "text/latex": [
       "$$f{\\left (x \\right )} \\frac{d}{d x} g{\\left (x \\right )} + g{\\left (x \\right )} \\frac{d}{d x} f{\\left (x \\right )}$$"
      ],
      "text/plain": [
       "     d               d       \n",
       "f(x)⋅──(g(x)) + g(x)⋅──(f(x))\n",
       "     dx              dx      "
      ]
     },
     "metadata": {},
     "output_type": "display_data"
    }
   ],
   "source": []
  },
  {
   "cell_type": "markdown",
   "metadata": {},
   "source": [
    "## Answer 4:"
   ]
  },
  {
   "cell_type": "code",
   "execution_count": null,
   "metadata": {},
   "outputs": [],
   "source": []
  },
  {
   "cell_type": "markdown",
   "metadata": {},
   "source": [
    "## Question 5:\n",
    "\n",
    "### (i)\n",
    "If $f$ is a function of $x$ and $g$ is a function of $x$, find:\n",
    "\n",
    "$$\n",
    "    \\frac{d}{dx} \\left( \\frac{f}{g} \\right) \n",
    "$$\n",
    "\n",
    "### (ii)\n",
    "How does this stack up with your knowledge of the quotient rule? Is the answer equivalent?\n"
   ]
  },
  {
   "cell_type": "markdown",
   "metadata": {},
   "source": [
    "## Answer 5:"
   ]
  },
  {
   "cell_type": "code",
   "execution_count": null,
   "metadata": {},
   "outputs": [],
   "source": []
  },
  {
   "cell_type": "markdown",
   "metadata": {},
   "source": [
    "## Question 6:\n",
    "\n",
    "Differentiate the following function four times.\n",
    "\n",
    "$$ f(x) = \\frac{1}{(x^2+x+1)^2} $$"
   ]
  },
  {
   "cell_type": "markdown",
   "metadata": {},
   "source": [
    "## Answer 6:"
   ]
  },
  {
   "cell_type": "code",
   "execution_count": null,
   "metadata": {},
   "outputs": [],
   "source": []
  },
  {
   "cell_type": "markdown",
   "metadata": {},
   "source": [
    "# -------- Integration Questions --------"
   ]
  },
  {
   "cell_type": "markdown",
   "metadata": {},
   "source": [
    "## Question 1:\n",
    "\n",
    "Evaluate:\n",
    "\n",
    "$$\n",
    "\\int^{\\pi / 2}_0 \\sin^2(x) \\cos^3(x) dx\n",
    "$$"
   ]
  },
  {
   "cell_type": "markdown",
   "metadata": {},
   "source": [
    "## Answer 1:\n"
   ]
  },
  {
   "cell_type": "code",
   "execution_count": null,
   "metadata": {},
   "outputs": [],
   "source": []
  },
  {
   "cell_type": "markdown",
   "metadata": {},
   "source": [
    "## Question 2:\n",
    "\n",
    "In the cell below (after you evaluate it with `Shift+Enter`) you will have a function $f(r) = 2\\pi r$\n",
    "\n",
    "### (i)\n",
    "What is the formula $2\\pi r$ used to calculate?\n",
    "\n",
    "### (ii)\n",
    "Integrate this function, print and interpret the result. \n"
   ]
  },
  {
   "cell_type": "markdown",
   "metadata": {},
   "source": [
    "## Answer 2:"
   ]
  },
  {
   "cell_type": "code",
   "execution_count": null,
   "metadata": {},
   "outputs": [],
   "source": []
  },
  {
   "cell_type": "markdown",
   "metadata": {},
   "source": [
    "## Question 3:\n",
    "\n",
    "Evaluate the following repeated integral (all integrations are done with respect to $x$).\n",
    "\n",
    "$$\n",
    "\\iiint \\frac{dx^3 }{(x+2)^2 (x+3)^3}\n",
    "$$\n",
    "\n",
    "A note on repeated integrals [here](http://mathworld.wolfram.com/RepeatedIntegral.html), which discusses better (and more rigorous ways) of representing them."
   ]
  },
  {
   "cell_type": "markdown",
   "metadata": {},
   "source": [
    "## Answer 3:"
   ]
  },
  {
   "cell_type": "code",
   "execution_count": null,
   "metadata": {},
   "outputs": [],
   "source": []
  },
  {
   "cell_type": "markdown",
   "metadata": {},
   "source": [
    "# Question 4:\n",
    "\n",
    "Make a python function that takes in a mathematical function to be integrated $n$ times with respect to some variable, $x$."
   ]
  },
  {
   "cell_type": "markdown",
   "metadata": {},
   "source": [
    "## Answer 3:"
   ]
  },
  {
   "cell_type": "code",
   "execution_count": null,
   "metadata": {},
   "outputs": [],
   "source": []
  }
 ],
 "metadata": {
  "kernelspec": {
   "display_name": "Python 3",
   "language": "python",
   "name": "python3"
  },
  "language_info": {
   "codemirror_mode": {
    "name": "ipython",
    "version": 3
   },
   "file_extension": ".py",
   "mimetype": "text/x-python",
   "name": "python",
   "nbconvert_exporter": "python",
   "pygments_lexer": "ipython3",
   "version": "3.7.4"
  }
 },
 "nbformat": 4,
 "nbformat_minor": 2
}
