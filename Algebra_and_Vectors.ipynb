{
 "cells": [
  {
   "cell_type": "markdown",
   "metadata": {},
   "source": [
    "# Tutorial One: Algebra + Vectors"
   ]
  },
  {
   "cell_type": "code",
   "execution_count": 74,
   "metadata": {},
   "outputs": [
    {
     "name": "stdout",
     "output_type": "stream",
     "text": [
      "Version of sympy: 1.3\n",
      "Version of matplotlib: 3.0.3\n",
      "Version of numpy: 1.16.2\n"
     ]
    }
   ],
   "source": [
    "from sympy import *\n",
    "import matplotlib\n",
    "import matplotlib.pyplot as plt\n",
    "import numpy as np\n",
    "\n",
    "# Versions: So you know which documentation to look at\n",
    "print(\"Version of sympy: \" + str(sympy.__version__)) \n",
    "print(\"Version of matplotlib: \" + str(matplotlib.__version__)) \n",
    "print(\"Version of numpy: \" + str(np.__version__))\n",
    "\n",
    "# Make things from sympy print nicely.\n",
    "init_printing() "
   ]
  },
  {
   "cell_type": "code",
   "execution_count": 86,
   "metadata": {},
   "outputs": [
    {
     "data": {
      "image/png": "[encoded data removed]",
      "text/latex": [
       "$$(3)\\mathbf{\\hat{i}_{N}} + (4)\\mathbf{\\hat{j}_{N}}$$"
      ],
      "text/plain": [
       "3*N.i + 4*N.j"
      ]
     },
     "execution_count": 86,
     "metadata": {},
     "output_type": "execute_result"
    }
   ],
   "source": [
    "from sympy.vector import CoordSys3D\n",
    "# Create our coordinate system, call it N.\n",
    "N = CoordSys3D('N') \n",
    "\n",
    "# Make a vector\n",
    "v1 = 3*N.i + 4*N.j\n",
    "# Print it out\n",
    "v1"
   ]
  },
  {
   "cell_type": "markdown",
   "metadata": {},
   "source": [
    "## Find the magnitude of the vector\n",
    "\n",
    "$$\n",
    "    \\| \\mathbf{v} \\| = \\sqrt{ v^2_1 + v^2_2 + \\ldots + v^2_n}\n",
    "$$"
   ]
  },
  {
   "cell_type": "code",
   "execution_count": 34,
   "metadata": {},
   "outputs": [
    {
     "data": {
      "image/png": "[encoded data removed]",
      "text/latex": [
       "$$5$$"
      ],
      "text/plain": [
       "5"
      ]
     },
     "execution_count": 34,
     "metadata": {},
     "output_type": "execute_result"
    }
   ],
   "source": [
    "v1.magnitude()"
   ]
  },
  {
   "cell_type": "markdown",
   "metadata": {},
   "source": [
    "## Finding the unit-vector\n",
    "\n",
    "$$\n",
    "    \\hat{\\mathbf{v}} = \\frac{\\mathbf{v}}{\\| \\mathbf{v} \\|}\n",
    "$$"
   ]
  },
  {
   "cell_type": "code",
   "execution_count": 62,
   "metadata": {},
   "outputs": [
    {
     "data": {
      "image/png": "[encoded data removed]",
      "text/latex": [
       "$$(\\frac{3}{5})\\mathbf{\\hat{i}_{N}} + (\\frac{4}{5})\\mathbf{\\hat{j}_{N}}$$"
      ],
      "text/plain": [
       "3/5*N.i + 4/5*N.j"
      ]
     },
     "execution_count": 62,
     "metadata": {},
     "output_type": "execute_result"
    }
   ],
   "source": [
    "v_hat = v1 / v1.magnitude()\n",
    "v_hat"
   ]
  },
  {
   "cell_type": "markdown",
   "metadata": {},
   "source": [
    "This is also called 'normalising' and can be done using the `normalize()` method."
   ]
  },
  {
   "cell_type": "code",
   "execution_count": 66,
   "metadata": {},
   "outputs": [
    {
     "data": {
      "image/png": "[encoded data removed]",
      "text/latex": [
       "$$(\\frac{3}{5})\\mathbf{\\hat{i}_{N}} + (\\frac{4}{5})\\mathbf{\\hat{j}_{N}}$$"
      ],
      "text/plain": [
       "3/5*N.i + 4/5*N.j"
      ]
     },
     "execution_count": 66,
     "metadata": {},
     "output_type": "execute_result"
    }
   ],
   "source": [
    "v_normalised = v1.normalize()\n",
    "v_normalised"
   ]
  },
  {
   "cell_type": "markdown",
   "metadata": {},
   "source": [
    "You can even use python to check that they are the same:"
   ]
  },
  {
   "cell_type": "code",
   "execution_count": 65,
   "metadata": {},
   "outputs": [
    {
     "name": "stdout",
     "output_type": "stream",
     "text": [
      "They're the same!\n"
     ]
    }
   ],
   "source": [
    "if v_normalised == v_hat:\n",
    "    print(\"They're the same!\")\n",
    "else:\n",
    "    print(\"They're NOT the same!\")"
   ]
  },
  {
   "cell_type": "code",
   "execution_count": 42,
   "metadata": {},
   "outputs": [
    {
     "data": {
      "image/png": "[encoded data removed]",
      "text/latex": [
       "$$3$$"
      ],
      "text/plain": [
       "3"
      ]
     },
     "execution_count": 42,
     "metadata": {},
     "output_type": "execute_result"
    }
   ],
   "source": [
    "(v1.components)[N.i]"
   ]
  },
  {
   "cell_type": "code",
   "execution_count": 84,
   "metadata": {
    "collapsed": true
   },
   "outputs": [
    {
     "name": "stdout",
     "output_type": "stream",
     "text": [
      "[('__class__', <class 'sympy.core.assumptions.ManagedProperties'>),\n",
      " ('__dict__',\n",
      "  mappingproxy({'__and__': <function Vector.__and__ at 0x0000026F6C1789D8>,\n",
      "                '__doc__': '\\n'\n",
      "                           '    Super class for all Vector classes.\\n'\n",
      "                           '    Ideally, neither this class nor any of its '\n",
      "                           'subclasses should be\\n'\n",
      "                           '    instantiated by the user.\\n'\n",
      "                           '    ',\n",
      "                '__module__': 'sympy.vector.vector',\n",
      "                '__or__': <function Vector.__or__ at 0x0000026F6C178D08>,\n",
      "                '__xor__': <function Vector.__xor__ at 0x0000026F6C178AE8>,\n",
      "                '_add_func': <class 'sympy.vector.vector.VectorAdd'>,\n",
      "                '_base_func': <class 'sympy.vector.vector.BaseVector'>,\n",
      "                '_div_helper': <function _vect_div at 0x0000026F6C17F730>,\n",
      "                '_explicit_class_assumptions': {},\n",
      "                '_expr_type': <class 'sympy.vector.vector.Vector'>,\n",
      "                '_mul_func': <class 'sympy.vector.vector.VectorMul'>,\n",
      "                '_op_priority': 12.0,\n",
      "                '_projections': <property object at 0x0000026F6C0F99F8>,\n",
      "                '_prop_handler': {'negative': <function Expr._eval_is_negative at 0x0000026F69F0A268>,\n",
      "                                  'positive': <function Expr._eval_is_positive at 0x0000026F69F0A1E0>},\n",
      "                '_zero_func': <class 'sympy.vector.vector.VectorZero'>,\n",
      "                'components': <property object at 0x0000026F6C0F99A8>,\n",
      "                'cross': <function Vector.cross at 0x0000026F6C178A60>,\n",
      "                'default_assumptions': {},\n",
      "                'dot': <function Vector.dot at 0x0000026F6C178950>,\n",
      "                'is_Vector': True,\n",
      "                'magnitude': <function Vector.magnitude at 0x0000026F6C178840>,\n",
      "                'normalize': <function Vector.normalize at 0x0000026F6C1788C8>,\n",
      "                'outer': <function Vector.outer at 0x0000026F6C178B70>,\n",
      "                'projection': <function Vector.projection at 0x0000026F6C178BF8>,\n",
      "                'separate': <function Vector.separate at 0x0000026F6C178E18>,\n",
      "                'to_matrix': <function Vector.to_matrix at 0x0000026F6C178D90>,\n",
      "                'zero': 0})),\n",
      " ('__doc__',\n",
      "  '\\n'\n",
      "  '    Super class for all Vector classes.\\n'\n",
      "  '    Ideally, neither this class nor any of its subclasses should be\\n'\n",
      "  '    instantiated by the user.\\n'\n",
      "  '    '),\n",
      " ('__module__', 'sympy.vector.vector'),\n",
      " ('__slots__', []),\n",
      " ('__weakref__', <attribute '__weakref__' of 'BasisDependent' objects>),\n",
      " ('_add_func', <class 'sympy.vector.vector.VectorAdd'>),\n",
      " ('_args', <member '_args' of 'Basic' objects>),\n",
      " ('_assumptions', <member '_assumptions' of 'Basic' objects>),\n",
      " ('_base_func', <class 'sympy.vector.vector.BaseVector'>),\n",
      " ('_constructor_postprocessor_mapping', {}),\n",
      " ('_diff_wrt', <property object at 0x0000026F69E1ED18>),\n",
      " ('_explicit_class_assumptions', {}),\n",
      " ('_expr_type', <class 'sympy.vector.vector.Vector'>),\n",
      " ('_mhash', <member '_mhash' of 'Basic' objects>),\n",
      " ('_mul_func', <class 'sympy.vector.vector.VectorMul'>),\n",
      " ('_op_priority', 12.0),\n",
      " ('_projections', <property object at 0x0000026F6C0F99F8>),\n",
      " ('_prop_handler',\n",
      "  {'negative': <function Expr._eval_is_negative at 0x0000026F69F0A268>,\n",
      "   'positive': <function Expr._eval_is_positive at 0x0000026F69F0A1E0>}),\n",
      " ('_sorted_args', <property object at 0x0000026F69DD2D68>),\n",
      " ('_zero_func', <class 'sympy.vector.vector.VectorZero'>),\n",
      " ('args', <property object at 0x0000026F69DD2D18>),\n",
      " ('assumptions0', <property object at 0x0000026F69DD2908>),\n",
      " ('canonical_variables', <property object at 0x0000026F69DD2C28>),\n",
      " ('components', <property object at 0x0000026F6C0F99A8>),\n",
      " ('default_assumptions', {}),\n",
      " ('expr_free_symbols', <property object at 0x0000026F69E2D9F8>),\n",
      " ('free_symbols', <property object at 0x0000026F69DD2958>),\n",
      " ('func', <property object at 0x0000026F69DD2CC8>),\n",
      " ('is_Add', False),\n",
      " ('is_AlgebraicNumber', False),\n",
      " ('is_Atom', False),\n",
      " ('is_Boolean', False),\n",
      " ('is_Derivative', False),\n",
      " ('is_Dummy', False),\n",
      " ('is_Equality', False),\n",
      " ('is_Float', False),\n",
      " ('is_Function', False),\n",
      " ('is_Indexed', False),\n",
      " ('is_Integer', False),\n",
      " ('is_MatAdd', False),\n",
      " ('is_MatMul', False),\n",
      " ('is_Matrix', False),\n",
      " ('is_Mul', False),\n",
      " ('is_Not', False),\n",
      " ('is_Number', False),\n",
      " ('is_NumberSymbol', False),\n",
      " ('is_Order', False),\n",
      " ('is_Piecewise', False),\n",
      " ('is_Point', False),\n",
      " ('is_Poly', False),\n",
      " ('is_Pow', False),\n",
      " ('is_Rational', False),\n",
      " ('is_Relational', False),\n",
      " ('is_Symbol', False),\n",
      " ('is_Vector', True),\n",
      " ('is_Wild', False),\n",
      " ('is_algebraic', <property object at 0x0000026F69DF79F8>),\n",
      " ('is_antihermitian', <property object at 0x0000026F69DF7818>),\n",
      " ('is_commutative', <property object at 0x0000026F69DF7638>),\n",
      " ('is_comparable', <property object at 0x0000026F69DD2C78>),\n",
      " ('is_complex', <property object at 0x0000026F69DF7688>),\n",
      " ('is_composite', <property object at 0x0000026F69DF7728>),\n",
      " ('is_even', <property object at 0x0000026F69DF74F8>),\n",
      " ('is_finite', <property object at 0x0000026F69DF7548>),\n",
      " ('is_hermitian', <property object at 0x0000026F69DF7908>),\n",
      " ('is_imaginary', <property object at 0x0000026F69B57638>),\n",
      " ('is_infinite', <property object at 0x0000026F69DF7368>),\n",
      " ('is_integer', <property object at 0x0000026F69DF7458>),\n",
      " ('is_irrational', <property object at 0x0000026F69DF70E8>),\n",
      " ('is_negative', <property object at 0x0000026F69DF78B8>),\n",
      " ('is_noninteger', <property object at 0x0000026F69DF7598>),\n",
      " ('is_nonnegative', <property object at 0x0000026F69DF77C8>),\n",
      " ('is_nonpositive', <property object at 0x0000026F69DF79A8>),\n",
      " ('is_nonzero', <property object at 0x0000026F69DF7958>),\n",
      " ('is_number', <property object at 0x0000026F69E1ED68>),\n",
      " ('is_odd', <property object at 0x0000026F69DF7868>),\n",
      " ('is_polar', <property object at 0x0000026F69DF75E8>),\n",
      " ('is_positive', <property object at 0x0000026F69DF73B8>),\n",
      " ('is_prime', <property object at 0x0000026F69DF7778>),\n",
      " ('is_rational', <property object at 0x0000026F69DF76D8>),\n",
      " ('is_real', <property object at 0x0000026F69DF7408>),\n",
      " ('is_symbol', False),\n",
      " ('is_transcendental', <property object at 0x0000026F69DF74A8>),\n",
      " ('is_zero', <property object at 0x0000026F69DF7318>),\n",
      " ('zero', 0)]\n"
     ]
    }
   ],
   "source": [
    "import inspect\n",
    "from pprint import pprint\n",
    "attributes = inspect.getmembers(sympy.vector.Vector, lambda a:not(inspect.isroutine(a)))\n",
    "pprint(attributes)"
   ]
  },
  {
   "cell_type": "markdown",
   "metadata": {},
   "source": [
    "### Function to plot vectors at origin in 2D"
   ]
  },
  {
   "cell_type": "code",
   "execution_count": 173,
   "metadata": {},
   "outputs": [],
   "source": [
    "\"\"\"\n",
    "Takes in a list of vectors and plots them on a 2D cartesian plane with starting points at the origin.\n",
    "Colour will be different for each vector.\n",
    "\"\"\"\n",
    "def plot_vecs_2D(v_list):\n",
    "    x = [int(vec.components[N.i]) for vec in v_list]\n",
    "    y = [int(vec.components[N.j]) for vec in v_list]\n",
    "    x_pos = [0 for el in x]\n",
    "    y_pos = [0 for el in y]\n",
    "    # soa = np.array([[0, 0, 3, 2], [0, 0, 1, 1], [0, 0, 9, 9]])\n",
    "    # X, Y, U, V = zip(*soa) # unzipping\n",
    "    plt.figure()\n",
    "    ax = plt.gca()\n",
    "    colours = np.linspace(1,2,2*len(x))\n",
    "    ax.quiver(x_pos, y_pos, x, y, colours, angles='xy', scale_units='xy', scale=1)\n",
    "    lower_x = min([0, 1.2*min(x)])\n",
    "    lower_y = min([0, 1.2*min(y)])\n",
    "    upper_x = max([10, 1.2*max(x)])\n",
    "    upper_y = max([10, 1.2*max(y)])\n",
    "    ax.set_xlim([lower_x, upper_x])\n",
    "    ax.set_ylim([lower_y, upper_y])\n",
    "    plt.xlabel(\"$x$-component\")\n",
    "    plt.ylabel(\"$y$-component\")\n",
    "    plt.grid()\n",
    "    plt.show()"
   ]
  },
  {
   "cell_type": "code",
   "execution_count": 177,
   "metadata": {},
   "outputs": [
    {
     "data": {
      "image/png": "[encoded data removed]",
      "text/plain": [
       "<Figure size 432x288 with 1 Axes>"
      ]
     },
     "metadata": {
      "needs_background": "light"
     },
     "output_type": "display_data"
    }
   ],
   "source": [
    "v2 = -5*N.i + -7*N.j\n",
    "v3 = 6*N.i + 100*N.j\n",
    "v4 = -1 * v3\n",
    "plot_vecs_2D([v3, v4])"
   ]
  },
  {
   "cell_type": "code",
   "execution_count": null,
   "metadata": {},
   "outputs": [],
   "source": []
  },
  {
   "cell_type": "code",
   "execution_count": null,
   "metadata": {},
   "outputs": [],
   "source": []
  }
 ],
 "metadata": {
  "kernelspec": {
   "display_name": "Python 3",
   "language": "python",
   "name": "python3"
  },
  "language_info": {
   "codemirror_mode": {
    "name": "ipython",
    "version": 3
   },
   "file_extension": ".py",
   "mimetype": "text/x-python",
   "name": "python",
   "nbconvert_exporter": "python",
   "pygments_lexer": "ipython3",
   "version": "3.7.3"
  }
 },
 "nbformat": 4,
 "nbformat_minor": 2
}
