{
 "cells": [
  {
   "cell_type": "markdown",
   "metadata": {},
   "source": [
    "# Integration\n",
    "\n",
    "[Link](https://docs.sympy.org/1.3/modules/integrals/integrals.html?highlight=integrate#sympy.integrals.integrate) \n",
    "to the documentation for `integrate` for `sympy` version 1.3."
   ]
  },
  {
   "cell_type": "code",
   "execution_count": 1,
   "metadata": {},
   "outputs": [
    {
     "name": "stdout",
     "output_type": "stream",
     "text": [
      "Sympy version is: \t1.3\n"
     ]
    }
   ],
   "source": [
    "from sympy import *\n",
    "from sympy.abc import x\n",
    "from sympy import __version__ as sympy_version\n",
    "print(\"Sympy version is: \\t\" + str(sympy_version))\n",
    "init_printing()"
   ]
  },
  {
   "cell_type": "markdown",
   "metadata": {},
   "source": [
    "### Simple example\n",
    "Indefinite integral."
   ]
  },
  {
   "cell_type": "code",
   "execution_count": 2,
   "metadata": {},
   "outputs": [
    {
     "data": {
      "image/png": "[encoded data removed]",
      "text/latex": [
       "$$\\sin{\\left (x \\right )}$$"
      ],
      "text/plain": [
       "sin(x)"
      ]
     },
     "execution_count": 2,
     "metadata": {},
     "output_type": "execute_result"
    }
   ],
   "source": [
    "y = cos(x)\n",
    "Y = integrate(y)\n",
    "\n",
    "Y"
   ]
  },
  {
   "cell_type": "markdown",
   "metadata": {},
   "source": [
    "Definite integral.\n",
    "\n",
    "See how we pass a `tuple` as the second argument to indicate to the `integrate()` function what to integrate with respect to and with what bounds. \n",
    "\n",
    "It's formatted like: `integrate(function, (variable, lower_limit, upper_limit))`"
   ]
  },
  {
   "cell_type": "code",
   "execution_count": 3,
   "metadata": {},
   "outputs": [
    {
     "data": {
      "image/png": "[encoded data removed]",
      "text/latex": [
       "$$2$$"
      ],
      "text/plain": [
       "2"
      ]
     },
     "execution_count": 3,
     "metadata": {},
     "output_type": "execute_result"
    }
   ],
   "source": [
    "y = sin(x)\n",
    "attributes = (x, 0, pi)\n",
    "Y = integrate(y, attributes)     # Integrate sin(x) from 0 to pi\n",
    "\n",
    "Y"
   ]
  },
  {
   "cell_type": "markdown",
   "metadata": {},
   "source": [
    "### A more complicated example"
   ]
  },
  {
   "cell_type": "code",
   "execution_count": 4,
   "metadata": {},
   "outputs": [
    {
     "data": {
      "image/png": "[encoded data removed]",
      "text/latex": [
       "$$\\frac{e^{x} \\sin{\\left (x \\right )}}{2} + \\frac{e^{x} \\cos{\\left (x \\right )}}{2}$$"
      ],
      "text/plain": [
       " x           x       \n",
       "ℯ ⋅sin(x)   ℯ ⋅cos(x)\n",
       "───────── + ─────────\n",
       "    2           2    "
      ]
     },
     "execution_count": 4,
     "metadata": {},
     "output_type": "execute_result"
    }
   ],
   "source": [
    "y = cos(x)*exp(x)\n",
    "Y = integrate(y)\n",
    "\n",
    "Y"
   ]
  },
  {
   "cell_type": "markdown",
   "metadata": {},
   "source": [
    "Perhaps with some coefficients?"
   ]
  },
  {
   "cell_type": "code",
   "execution_count": 5,
   "metadata": {},
   "outputs": [
    {
     "data": {
      "image/png": "[encoded data removed]",
      "text/latex": [
       "$$a \\left(\\frac{3 e^{4 x} \\sin{\\left (3 x \\right )}}{25} + \\frac{4 e^{4 x} \\cos{\\left (3 x \\right )}}{25}\\right)$$"
      ],
      "text/plain": [
       "  ⎛   4⋅x               4⋅x         ⎞\n",
       "  ⎜3⋅ℯ   ⋅sin(3⋅x)   4⋅ℯ   ⋅cos(3⋅x)⎟\n",
       "a⋅⎜─────────────── + ───────────────⎟\n",
       "  ⎝       25                25      ⎠"
      ]
     },
     "execution_count": 5,
     "metadata": {},
     "output_type": "execute_result"
    }
   ],
   "source": [
    "from sympy.abc import a\n",
    "y = a*cos(3*x)*exp(4*x)\n",
    "Y = integrate(y, x)\n",
    "\n",
    "Y"
   ]
  },
  {
   "cell_type": "markdown",
   "metadata": {},
   "source": [
    "## Symbolic limits"
   ]
  },
  {
   "cell_type": "code",
   "execution_count": 6,
   "metadata": {},
   "outputs": [
    {
     "data": {
      "image/png": "[encoded data removed]",
      "text/latex": [
       "$$a \\log{\\left (a \\right )} - a + 1$$"
      ],
      "text/plain": [
       "a⋅log(a) - a + 1"
      ]
     },
     "execution_count": 6,
     "metadata": {},
     "output_type": "execute_result"
    }
   ],
   "source": [
    "Y = integrate(log(x), (x, 1, a))\n",
    "\n",
    "Y"
   ]
  },
  {
   "cell_type": "markdown",
   "metadata": {},
   "source": [
    "# -------- Questions --------"
   ]
  },
  {
   "cell_type": "markdown",
   "metadata": {},
   "source": [
    "## Question 1:\n",
    "\n",
    "Evaluate:\n",
    "\n",
    "$$\n",
    "\\int^{\\pi / 2}_0 \\sin^2(x) \\cos^3(x) dx\n",
    "$$"
   ]
  },
  {
   "cell_type": "markdown",
   "metadata": {},
   "source": [
    "## Answer 1:\n"
   ]
  },
  {
   "cell_type": "code",
   "execution_count": null,
   "metadata": {},
   "outputs": [],
   "source": []
  },
  {
   "cell_type": "markdown",
   "metadata": {},
   "source": [
    "## Question 2:\n",
    "\n",
    "In the cell below (after you evaluate it with `Shift+Enter`) you will have a function $f(r) = 2\\pi r$\n",
    "\n",
    "### (i)\n",
    "Integrate this function twice, print the result each time and geometrically interpret the result. \n",
    "\n",
    "### (ii) \n",
    "What is the integration doing? \n",
    "\n",
    "### (iii)\n",
    "How is it transforming the function?"
   ]
  },
  {
   "cell_type": "code",
   "execution_count": null,
   "metadata": {},
   "outputs": [],
   "source": [
    "r = Symbol('r')\n",
    "f = 2*pi*r\n",
    "display(f)"
   ]
  },
  {
   "cell_type": "markdown",
   "metadata": {},
   "source": [
    "## Answer 2:"
   ]
  },
  {
   "cell_type": "code",
   "execution_count": null,
   "metadata": {},
   "outputs": [],
   "source": []
  },
  {
   "cell_type": "markdown",
   "metadata": {},
   "source": [
    "## Question 3:\n"
   ]
  },
  {
   "cell_type": "code",
   "execution_count": null,
   "metadata": {},
   "outputs": [],
   "source": [
    "m = Symbol('m')\n",
    "x = Symbol('x')\n",
    "b = Symbol('b')\n",
    "y = m*x+b\n",
    "Y = integrate(y, x)\n",
    "YY = integrate(Y, x)\n",
    "\n",
    "display(Y)\n",
    "display(YY)"
   ]
  },
  {
   "cell_type": "markdown",
   "metadata": {},
   "source": [
    "## Answer 3:"
   ]
  },
  {
   "cell_type": "code",
   "execution_count": null,
   "metadata": {},
   "outputs": [],
   "source": []
  },
  {
   "cell_type": "markdown",
   "metadata": {},
   "source": [
    "## Question $n$:\n",
    "\n"
   ]
  },
  {
   "cell_type": "markdown",
   "metadata": {},
   "source": [
    "## Answer $n$:"
   ]
  },
  {
   "cell_type": "code",
   "execution_count": null,
   "metadata": {},
   "outputs": [],
   "source": []
  }
 ],
 "metadata": {
  "kernelspec": {
   "display_name": "Python 3",
   "language": "python",
   "name": "python3"
  },
  "language_info": {
   "codemirror_mode": {
    "name": "ipython",
    "version": 3
   },
   "file_extension": ".py",
   "mimetype": "text/x-python",
   "name": "python",
   "nbconvert_exporter": "python",
   "pygments_lexer": "ipython3",
   "version": "3.7.3"
  }
 },
 "nbformat": 4,
 "nbformat_minor": 2
}
