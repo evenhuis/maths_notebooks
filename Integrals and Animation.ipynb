{
 "cells": [
  {
   "cell_type": "markdown",
   "metadata": {},
   "source": [
    "# Double/Triple Integrals & Animation"
   ]
  },
  {
   "cell_type": "markdown",
   "metadata": {},
   "source": [
    "## Question 0:\n",
    "\n",
    "Using the following result as what should be expected:\n",
    "\n",
    "$$\n",
    "\\iint xy \\ dx \\ dy = \\frac{x^2 y^2}{4}\n",
    "$$\n",
    "\n",
    "Why is the code below not returning the same value? Fix the code so that it runs and obtains the result as expected.\n",
    "\n",
    "## Answer 0:"
   ]
  },
  {
   "cell_type": "code",
   "execution_count": 27,
   "metadata": {},
   "outputs": [
    {
     "data": {
      "image/png": "[encoded data removed]",
      "text/latex": [
       "$$\\frac{x y^{2}}{2}$$"
      ],
      "text/plain": [
       "   2\n",
       "x⋅y \n",
       "────\n",
       " 2  "
      ]
     },
     "execution_count": 27,
     "metadata": {},
     "output_type": "execute_result"
    }
   ],
   "source": [
    "from sympy import integrate\n",
    "from sympy.abc import x,y\n",
    "\n",
    "########### Beginning broken code #############\n",
    "f = x*y\n",
    "integrate(f,x)\n",
    "integrate(f,y)\n",
    "########### end broken code #############\n"
   ]
  },
  {
   "cell_type": "markdown",
   "metadata": {},
   "source": [
    "## Question 1:\n",
    "\n",
    "(i) Integrate the following function, plotting its 2D domain in 3D and the volume it inhabits in a 3D plot.\n",
    "\n",
    "(ii) Get a numeric answer for the integral, using the `sympy` `N()` function.\n",
    "\n",
    "$$\n",
    "x \\in [5,10] \\quad y \\in [0, \\pi] \n",
    "$$\n",
    "\n",
    "$$\n",
    "\\iint \\sin (x) \\sin(y) \\ dA\n",
    "$$\n",
    "\n",
    "## Answer 1:"
   ]
  },
  {
   "cell_type": "code",
   "execution_count": 25,
   "metadata": {},
   "outputs": [
    {
     "data": {
      "image/png": "[encoded data removed]",
      "text/latex": [
       "$$2 \\cos{\\left (5 \\right )} - 2 \\cos{\\left (10 \\right )}$$"
      ],
      "text/plain": [
       "2⋅cos(5) - 2⋅cos(10)"
      ]
     },
     "metadata": {},
     "output_type": "display_data"
    },
    {
     "data": {
      "image/png": "[encoded data removed]",
      "text/latex": [
       "$$2.24546742907936$$"
      ],
      "text/plain": [
       "2.24546742907936"
      ]
     },
     "metadata": {},
     "output_type": "display_data"
    }
   ],
   "source": [
    "from sympy import integrate, Symbol, sin, pi, N\n",
    "x = Symbol('x')\n",
    "y = Symbol('y')\n",
    "\n",
    "f = sin(x)*sin(y)\n",
    "Fx = integrate(f, (x, 5,10))\n",
    "F = integrate(Fx, (y, 0, pi))\n",
    "\n",
    "display(F)\n",
    "display(N(F))"
   ]
  },
  {
   "cell_type": "markdown",
   "metadata": {},
   "source": [
    "## Question 2:\n",
    "\n",
    "We are tasked with determining the density ($\\rho$) of a cylindrical rod of length, $L$.\n",
    "\n",
    "We are told the density increases linearly along the height ($z$) of the rod with proporttion to a constant, $a$, giving:\n",
    "\n",
    "$$\n",
    "\\rho_z (z) = az\n",
    "$$\n",
    "\n",
    "\n",
    "But the matter is complicated when we're told that its density varies with the length of the radius from the centre. \n",
    "\n",
    "Because of the way the rod is manufactured, the centre is of a higher density than the edge. The density drops off exponentially from the centre to the edge.\n",
    "\n",
    "$$ \n",
    "\\rho_r (r) = \\rho_0 e^{-r}\n",
    "$$\n",
    "\n",
    "Where $\\rho_0$ is some initial density at the centre.\n",
    "\n",
    "Assume that the density, $\\rho(z,r)$ of the rod is the product of these two functions.\n",
    "\n",
    "Use what you know about triple integrals and `sympy` to gain the expression for the density of the rod.\n",
    "\n",
    "## Answer 2:"
   ]
  },
  {
   "cell_type": "code",
   "execution_count": 20,
   "metadata": {},
   "outputs": [
    {
     "data": {
      "image/png": "[encoded data removed]",
      "text/latex": [
       "$$\\frac{L^{2} a r \\rho_{0} e^{- r}}{2}$$"
      ],
      "text/plain": [
       " 2         -r\n",
       "L ⋅a⋅r⋅ρ₀⋅ℯ  \n",
       "─────────────\n",
       "      2      "
      ]
     },
     "metadata": {},
     "output_type": "display_data"
    },
    {
     "data": {
      "image/png": "[encoded data removed]",
      "text/latex": [
       "$$a r \\rho_{0} z e^{- r}$$"
      ],
      "text/plain": [
       "          -r\n",
       "a⋅r⋅ρ₀⋅z⋅ℯ  "
      ]
     },
     "metadata": {},
     "output_type": "display_data"
    },
    {
     "data": {
      "image/png": "[encoded data removed]",
      "text/latex": [
       "$$\\frac{L^{2} a r \\rho_{0} e^{- r}}{2}$$"
      ],
      "text/plain": [
       " 2         -r\n",
       "L ⋅a⋅r⋅ρ₀⋅ℯ  \n",
       "─────────────\n",
       "      2      "
      ]
     },
     "metadata": {},
     "output_type": "display_data"
    },
    {
     "data": {
      "image/png": "[encoded data removed]",
      "text/latex": [
       "$$\\frac{L^{2} a \\rho_{0}}{2} + \\frac{\\left(- L^{2} R a \\rho_{0} - L^{2} a \\rho_{0}\\right) e^{- R}}{2}$$"
      ],
      "text/plain": [
       " 2        ⎛   2           2     ⎞  -R\n",
       "L ⋅a⋅ρ₀   ⎝- L ⋅R⋅a⋅ρ₀ - L ⋅a⋅ρ₀⎠⋅ℯ  \n",
       "─────── + ───────────────────────────\n",
       "   2                   2             "
      ]
     },
     "metadata": {},
     "output_type": "display_data"
    },
    {
     "data": {
      "image/png": "[encoded data removed]",
      "text/latex": [
       "$$- \\pi L^{2} a \\rho_{0} \\left(R - e^{R} + 1\\right) e^{- R}$$"
      ],
      "text/plain": [
       "    2      ⎛     R    ⎞  -R\n",
       "-π⋅L ⋅a⋅ρ₀⋅⎝R - ℯ  + 1⎠⋅ℯ  "
      ]
     },
     "metadata": {},
     "output_type": "display_data"
    }
   ],
   "source": [
    "from sympy import integrate, Symbol, exp, init_printing, pi, factor\n",
    "\n",
    "\n",
    "# Symbol setup\n",
    "z = Symbol('z')\n",
    "p0 = Symbol('rho_0')\n",
    "a = Symbol('a')\n",
    "r = Symbol('r')\n",
    "\n",
    "rho = a*z*p0*exp(-1*r)*r\n",
    "Rho = integrate(rho, (z, 0, Symbol('L')))\n",
    "RHo = integrate(Rho, (r, 0, Symbol('R')))\n",
    "RHO = RHo*2*pi # \n",
    "\n",
    "from sympy import factor\n",
    "display(rho)\n",
    "display(Rho)\n",
    "display(RHo)\n",
    "display(factor(RHO))"
   ]
  },
  {
   "cell_type": "code",
   "execution_count": null,
   "metadata": {},
   "outputs": [],
   "source": []
  }
 ],
 "metadata": {
  "kernelspec": {
   "display_name": "Python 3",
   "language": "python",
   "name": "python3"
  },
  "language_info": {
   "codemirror_mode": {
    "name": "ipython",
    "version": 3
   },
   "file_extension": ".py",
   "mimetype": "text/x-python",
   "name": "python",
   "nbconvert_exporter": "python",
   "pygments_lexer": "ipython3",
   "version": "3.7.1"
  }
 },
 "nbformat": 4,
 "nbformat_minor": 2
}
