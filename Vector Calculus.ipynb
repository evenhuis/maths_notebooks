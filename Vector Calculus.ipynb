{
 "cells": [
  {
   "cell_type": "markdown",
   "metadata": {},
   "source": [
    "# Vector Calculus & Animations\n",
    "\n",
    "A lot of the vector calculus questions we will do can be computed without learning anything new. Regardless, it is good practice for the skills we have begun to develop this semester.\n",
    "\n",
    "If you are struggling to understand how to solve the questions, please refer back to the relevant examples in previous notebooks, e.g. `Plotting.ipynb`, `Partial Derivatives.ipynb` and `Riemann Sums.ipynb`."
   ]
  },
  {
   "cell_type": "code",
   "execution_count": 1,
   "metadata": {},
   "outputs": [],
   "source": [
    "import matplotlib.pyplot as plt\n",
    "import numpy as np"
   ]
  },
  {
   "cell_type": "markdown",
   "metadata": {},
   "source": [
    "## Question 1:\n",
    "\n",
    "Plot the parametric line:\n",
    "\n",
    "$$\n",
    "\\mathbf{r}(t) = \\langle t, t^{2}, 1 \\rangle\n",
    "$$\n",
    "\n",
    "where $t \\in [0,1]$.\n",
    "\n",
    "## Answer 1:"
   ]
  },
  {
   "cell_type": "code",
   "execution_count": null,
   "metadata": {},
   "outputs": [],
   "source": []
  },
  {
   "cell_type": "markdown",
   "metadata": {},
   "source": [
    "## Question 2: \n",
    "\n",
    "Symbolically calculate the integral:\n",
    "\n",
    "$$\n",
    "\\int_{\\mathcal{C}} \\sqrt{z + 4x^{2}} \\ dx\n",
    "$$\n",
    "\n",
    "over the paramterised curve ($\\mathbf{r}$) in Question 1.\n",
    "\n",
    "## Answer 2:"
   ]
  },
  {
   "cell_type": "code",
   "execution_count": null,
   "metadata": {},
   "outputs": [],
   "source": []
  },
  {
   "cell_type": "markdown",
   "metadata": {},
   "source": [
    "## Question 3:\n",
    "\n",
    "Symbolically calculate $\\mathbf{F}$.\n",
    "\n",
    "$$\n",
    "\\mathbf{F} = \\nabla \\phi = \\nabla \\left( x^{2}y + x \\sin\\left(y\\right)\\right)\n",
    "$$\n",
    "\n",
    "## Answer 3:"
   ]
  },
  {
   "cell_type": "code",
   "execution_count": null,
   "metadata": {},
   "outputs": [],
   "source": []
  },
  {
   "cell_type": "markdown",
   "metadata": {},
   "source": [
    "## Question 4:\n",
    "\n",
    "Superimpose a plot of the scalar field ($\\phi$) onto a plot of the vector field ($\\mathbf{F}$) as specified in Question 3.\n",
    "\n",
    "Choose appropriate domains.\n",
    "\n",
    "## Answer 4:"
   ]
  },
  {
   "cell_type": "code",
   "execution_count": null,
   "metadata": {},
   "outputs": [],
   "source": []
  },
  {
   "cell_type": "markdown",
   "metadata": {},
   "source": [
    "## Question 5:\n",
    "\n",
    "Plot the region in $\\mathcal{D}$ and symbolically integrate:\n",
    "\n",
    "$$\n",
    "\\int \\int_{\\mathcal{D}} \\left( xy + y^{2} \\right) \\ dA\n",
    "$$\n",
    "\n",
    "Such that $\\mathcal{D}$ is bounded by $y = \\sqrt{x}$ and $y=x^2$.\n",
    "\n",
    "## Answer 5:"
   ]
  },
  {
   "cell_type": "code",
   "execution_count": null,
   "metadata": {},
   "outputs": [],
   "source": []
  },
  {
   "cell_type": "code",
   "execution_count": null,
   "metadata": {},
   "outputs": [],
   "source": []
  }
 ],
 "metadata": {
  "kernelspec": {
   "display_name": "Python 3",
   "language": "python",
   "name": "python3"
  },
  "language_info": {
   "codemirror_mode": {
    "name": "ipython",
    "version": 3
   },
   "file_extension": ".py",
   "mimetype": "text/x-python",
   "name": "python",
   "nbconvert_exporter": "python",
   "pygments_lexer": "ipython3",
   "version": "3.7.3"
  }
 },
 "nbformat": 4,
 "nbformat_minor": 2
}
