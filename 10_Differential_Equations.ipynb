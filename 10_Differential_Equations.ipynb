{
 "cells": [
  {
   "cell_type": "markdown",
   "metadata": {},
   "source": [
    "# Differential Equations\n",
    "\n",
    "Let's first revise first-order and second-order differential equations.\n",
    "\n",
    "Second-order differential equations will only be examined for constant coefficients."
   ]
  },
  {
   "cell_type": "markdown",
   "metadata": {},
   "source": [
    "## First Order Differential Equation:\n",
    "\n",
    "From a differential equation:\n",
    "\n",
    "$$\n",
    "y' + p(x)y = g(x)\n",
    "$$\n",
    "\n",
    "We can solve using the _Integrating Factor_ method.\n",
    "\n",
    "We define $I$ as the integrating factor, equal to:\n",
    "\n",
    "$$\n",
    "I:= e^{\\int p(x) \\ dx}\n",
    "$$\n",
    "\n",
    "We then take $I$ and multiply by it on both sides of our differential equation:\n",
    "\n",
    "$$\n",
    "I y' + I p(x)y = I g(x)\n",
    "$$\n",
    "\n",
    "By taking the derivative of $I$, we can see that:\n",
    "\n",
    "$$\n",
    "I' = p(x) I\n",
    "$$\n",
    "\n",
    "Which if we substitute it into the differential equation, we can see:\n",
    "\n",
    "$$\n",
    "I y' + I'y = I g(x)\n",
    "$$\n",
    "\n",
    "This looks an awful lot like the product rule.\n",
    "\n",
    "We can transform our DE further.\n",
    "\n",
    "$$\n",
    "\\frac{d}{dx} \\left( I y \\right) = I g(x)\n",
    "$$\n",
    "\n",
    "Integrating both sides:\n",
    "\n",
    "$$\n",
    "\\int \\frac{d}{dx} \\left( I y \\right) \\ dx = \\int I g(x) \\ dx\n",
    "$$\n",
    "\n",
    "By the fundamental theorem of calculus, we can simplify the LHS:\n",
    "\n",
    "$$\n",
    "I y = \\int I g(x) \\ dx\n",
    "$$\n",
    "\n",
    "And further:\n",
    "\n",
    "$$\n",
    "y = \\frac{1}{I} \\left( \\int I g(x) \\ dx \\right) \n",
    "\\quad \\equiv \\quad \n",
    "y = \\frac{1}{e^{\\int p(x) \\ dx}} \\left( \\int e^{\\int p(x) \\ dx} g(x) \\ dx \\right)\n",
    "$$\n",
    "\n",
    "Meaning we can (almost) always find the analytic solution to a first order differential equation."
   ]
  },
  {
   "cell_type": "markdown",
   "metadata": {},
   "source": [
    "## Second Order Differential Equations\n",
    "\n",
    "From a differential equation:\n",
    "\n",
    "$$\n",
    "y'' + p(x) y' + q(x) y = g(x)\n",
    "$$\n",
    "\n",
    "We wish to obtain the general solution. \n",
    "\n",
    "The full, general solution is given by:\n",
    "\n",
    "$$\n",
    "y(x) = y_c + y_p\n",
    "$$\n",
    "\n",
    "Where:\n",
    "\n",
    "$$\n",
    "y_c := \\text{ The complementary solution}\n",
    "$$\n",
    "\n",
    "and \n",
    "\n",
    "$$\n",
    "y_p := \\text{ The particular solution}\n",
    "$$"
   ]
  },
  {
   "cell_type": "markdown",
   "metadata": {},
   "source": [
    "We generate an auxiliary equation:\n",
    "\n",
    "$$\n",
    "m^2 + p m + q = 0\n",
    "$$\n",
    "\n",
    "A second order polynomial produces (at most) two roots.\n",
    "\n",
    "\n",
    "### Distinct, Real Roots\n",
    "\n",
    "If $m$ is two distinct, real roots, we have:\n",
    "\n",
    "$$\n",
    "y(x) = A e^{m_1 x} + B e^{m_2 x}\n",
    "$$\n",
    "\n",
    "### Repeated, Real Roots\n",
    "\n",
    "If $m$ is two repeated, real roots, we have:\n",
    "\n",
    "$$\n",
    "y(x) = A e^{m x} + B x e^{m x}\n",
    "$$\n",
    "\n",
    "### Complex Roots\n",
    "\n",
    "If $m$ is a pair of complex roots, of the form $p \\pm qi$, we have: \n",
    "\n",
    "$$\n",
    "y(x) = e^{px} \\left( A \\cos (qx) + B \\sin (qx) \\right)\n",
    "$$"
   ]
  },
  {
   "cell_type": "markdown",
   "metadata": {},
   "source": [
    "## Solving DEs with `sympy`\n",
    "\n",
    "Setup:"
   ]
  },
  {
   "cell_type": "code",
   "execution_count": 24,
   "metadata": {},
   "outputs": [],
   "source": [
    "from sympy import Symbol, Function, dsolve, diff, init_printing\n",
    "NotImplementedError\n",
    "init_printing()\n",
    "x = Symbol('x')\n",
    "y = Function('y')(x)\n",
    "yp = diff(y)\n",
    "ypp = diff(yp)"
   ]
  },
  {
   "cell_type": "markdown",
   "metadata": {},
   "source": [
    "Say we intend to solve:\n",
    "\n",
    "$$\n",
    "y'' + 5y = 5\n",
    "$$\n",
    "\n",
    "As must be done with the `factor` function we must set the equation equal to zero, e.g.:\n",
    "\n",
    "\n",
    "$$\n",
    "y'' + 5y -5 = 0\n",
    "$$"
   ]
  },
  {
   "cell_type": "code",
   "execution_count": 21,
   "metadata": {},
   "outputs": [
    {
     "data": {
      "image/png": "[encoded data removed]",
      "text/latex": [
       "$$y{\\left (x \\right )} = C_{1} \\sin{\\left (\\sqrt{5} x \\right )} + C_{2} \\cos{\\left (\\sqrt{5} x \\right )} + 1$$"
      ],
      "text/plain": [
       "y(x) = C₁⋅sin(√5⋅x) + C₂⋅cos(√5⋅x) + 1"
      ]
     },
     "metadata": {},
     "output_type": "display_data"
    }
   ],
   "source": [
    "######################################\n",
    "eq = ypp + 5*y -5 \n",
    "######################################\n",
    "\n",
    "try:\n",
    "    sol = dsolve(eq, y)\n",
    "    display(sol)\n",
    "except:\n",
    "    display(\"Didn't work.\")"
   ]
  },
  {
   "cell_type": "markdown",
   "metadata": {},
   "source": [
    "The specific function is `dsolve`, who you can read more about by running the cell below:"
   ]
  },
  {
   "cell_type": "code",
   "execution_count": 22,
   "metadata": {
    "collapsed": true
   },
   "outputs": [
    {
     "name": "stdout",
     "output_type": "stream",
     "text": [
      "Help on function dsolve in module sympy.solvers.ode:\n",
      "\n",
      "dsolve(eq, func=None, hint='default', simplify=True, ics=None, xi=None, eta=None, x0=0, n=6, **kwargs)\n",
      "     Solves any (supported) kind of ordinary differential equation and\n",
      "     system of ordinary differential equations.\n",
      "    \n",
      "     For single ordinary differential equation\n",
      "     =========================================\n",
      "    \n",
      "     It is classified under this when number of equation in ``eq`` is one.\n",
      "     **Usage**\n",
      "    \n",
      "         ``dsolve(eq, f(x), hint)`` -> Solve ordinary differential equation\n",
      "         ``eq`` for function ``f(x)``, using method ``hint``.\n",
      "    \n",
      "     **Details**\n",
      "    \n",
      "         ``eq`` can be any supported ordinary differential equation (see the\n",
      "             :py:mod:`~sympy.solvers.ode` docstring for supported methods).\n",
      "             This can either be an :py:class:`~sympy.core.relational.Equality`,\n",
      "             or an expression, which is assumed to be equal to ``0``.\n",
      "    \n",
      "         ``f(x)`` is a function of one variable whose derivatives in that\n",
      "             variable make up the ordinary differential equation ``eq``.  In\n",
      "             many cases it is not necessary to provide this; it will be\n",
      "             autodetected (and an error raised if it couldn't be detected).\n",
      "    \n",
      "         ``hint`` is the solving method that you want dsolve to use.  Use\n",
      "             ``classify_ode(eq, f(x))`` to get all of the possible hints for an\n",
      "             ODE.  The default hint, ``default``, will use whatever hint is\n",
      "             returned first by :py:meth:`~sympy.solvers.ode.classify_ode`.  See\n",
      "             Hints below for more options that you can use for hint.\n",
      "    \n",
      "         ``simplify`` enables simplification by\n",
      "             :py:meth:`~sympy.solvers.ode.odesimp`.  See its docstring for more\n",
      "             information.  Turn this off, for example, to disable solving of\n",
      "             solutions for ``func`` or simplification of arbitrary constants.\n",
      "             It will still integrate with this hint. Note that the solution may\n",
      "             contain more arbitrary constants than the order of the ODE with\n",
      "             this option enabled.\n",
      "    \n",
      "         ``xi`` and ``eta`` are the infinitesimal functions of an ordinary\n",
      "             differential equation. They are the infinitesimals of the Lie group\n",
      "             of point transformations for which the differential equation is\n",
      "             invariant. The user can specify values for the infinitesimals. If\n",
      "             nothing is specified, ``xi`` and ``eta`` are calculated using\n",
      "             :py:meth:`~sympy.solvers.ode.infinitesimals` with the help of various\n",
      "             heuristics.\n",
      "    \n",
      "         ``ics`` is the set of initial/boundary conditions for the differential equation.\n",
      "           It should be given in the form of ``{f(x0): x1, f(x).diff(x).subs(x, x2):\n",
      "           x3}`` and so on.  For power series solutions, if no initial\n",
      "           conditions are specified ``f(0)`` is assumed to be ``C0`` and the power\n",
      "           series solution is calculated about 0.\n",
      "    \n",
      "         ``x0`` is the point about which the power series solution of a differential\n",
      "           equation is to be evaluated.\n",
      "    \n",
      "         ``n`` gives the exponent of the dependent variable up to which the power series\n",
      "           solution of a differential equation is to be evaluated.\n",
      "    \n",
      "     **Hints**\n",
      "    \n",
      "         Aside from the various solving methods, there are also some meta-hints\n",
      "         that you can pass to :py:meth:`~sympy.solvers.ode.dsolve`:\n",
      "    \n",
      "         ``default``:\n",
      "                 This uses whatever hint is returned first by\n",
      "                 :py:meth:`~sympy.solvers.ode.classify_ode`. This is the\n",
      "                 default argument to :py:meth:`~sympy.solvers.ode.dsolve`.\n",
      "    \n",
      "         ``all``:\n",
      "                 To make :py:meth:`~sympy.solvers.ode.dsolve` apply all\n",
      "                 relevant classification hints, use ``dsolve(ODE, func,\n",
      "                 hint=\"all\")``.  This will return a dictionary of\n",
      "                 ``hint:solution`` terms.  If a hint causes dsolve to raise the\n",
      "                 ``NotImplementedError``, value of that hint's key will be the\n",
      "                 exception object raised.  The dictionary will also include\n",
      "                 some special keys:\n",
      "    \n",
      "                 - ``order``: The order of the ODE.  See also\n",
      "                   :py:meth:`~sympy.solvers.deutils.ode_order` in\n",
      "                   ``deutils.py``.\n",
      "                 - ``best``: The simplest hint; what would be returned by\n",
      "                   ``best`` below.\n",
      "                 - ``best_hint``: The hint that would produce the solution\n",
      "                   given by ``best``.  If more than one hint produces the best\n",
      "                   solution, the first one in the tuple returned by\n",
      "                   :py:meth:`~sympy.solvers.ode.classify_ode` is chosen.\n",
      "                 - ``default``: The solution that would be returned by default.\n",
      "                   This is the one produced by the hint that appears first in\n",
      "                   the tuple returned by\n",
      "                   :py:meth:`~sympy.solvers.ode.classify_ode`.\n",
      "    \n",
      "         ``all_Integral``:\n",
      "                 This is the same as ``all``, except if a hint also has a\n",
      "                 corresponding ``_Integral`` hint, it only returns the\n",
      "                 ``_Integral`` hint.  This is useful if ``all`` causes\n",
      "                 :py:meth:`~sympy.solvers.ode.dsolve` to hang because of a\n",
      "                 difficult or impossible integral.  This meta-hint will also be\n",
      "                 much faster than ``all``, because\n",
      "                 :py:meth:`~sympy.core.expr.Expr.integrate` is an expensive\n",
      "                 routine.\n",
      "    \n",
      "         ``best``:\n",
      "                 To have :py:meth:`~sympy.solvers.ode.dsolve` try all methods\n",
      "                 and return the simplest one.  This takes into account whether\n",
      "                 the solution is solvable in the function, whether it contains\n",
      "                 any Integral classes (i.e.  unevaluatable integrals), and\n",
      "                 which one is the shortest in size.\n",
      "    \n",
      "         See also the :py:meth:`~sympy.solvers.ode.classify_ode` docstring for\n",
      "         more info on hints, and the :py:mod:`~sympy.solvers.ode` docstring for\n",
      "         a list of all supported hints.\n",
      "    \n",
      "     **Tips**\n",
      "    \n",
      "         - You can declare the derivative of an unknown function this way:\n",
      "    \n",
      "             >>> from sympy import Function, Derivative\n",
      "             >>> from sympy.abc import x # x is the independent variable\n",
      "             >>> f = Function(\"f\")(x) # f is a function of x\n",
      "             >>> # f_ will be the derivative of f with respect to x\n",
      "             >>> f_ = Derivative(f, x)\n",
      "    \n",
      "         - See ``test_ode.py`` for many tests, which serves also as a set of\n",
      "           examples for how to use :py:meth:`~sympy.solvers.ode.dsolve`.\n",
      "         - :py:meth:`~sympy.solvers.ode.dsolve` always returns an\n",
      "           :py:class:`~sympy.core.relational.Equality` class (except for the\n",
      "           case when the hint is ``all`` or ``all_Integral``).  If possible, it\n",
      "           solves the solution explicitly for the function being solved for.\n",
      "           Otherwise, it returns an implicit solution.\n",
      "         - Arbitrary constants are symbols named ``C1``, ``C2``, and so on.\n",
      "         - Because all solutions should be mathematically equivalent, some\n",
      "           hints may return the exact same result for an ODE. Often, though,\n",
      "           two different hints will return the same solution formatted\n",
      "           differently.  The two should be equivalent. Also note that sometimes\n",
      "           the values of the arbitrary constants in two different solutions may\n",
      "           not be the same, because one constant may have \"absorbed\" other\n",
      "           constants into it.\n",
      "         - Do ``help(ode.ode_<hintname>)`` to get help more information on a\n",
      "           specific hint, where ``<hintname>`` is the name of a hint without\n",
      "           ``_Integral``.\n",
      "    \n",
      "     For system of ordinary differential equations\n",
      "     =============================================\n",
      "    \n",
      "    **Usage**\n",
      "         ``dsolve(eq, func)`` -> Solve a system of ordinary differential\n",
      "         equations ``eq`` for ``func`` being list of functions including\n",
      "         `x(t)`, `y(t)`, `z(t)` where number of functions in the list depends\n",
      "         upon the number of equations provided in ``eq``.\n",
      "    \n",
      "     **Details**\n",
      "    \n",
      "         ``eq`` can be any supported system of ordinary differential equations\n",
      "         This can either be an :py:class:`~sympy.core.relational.Equality`,\n",
      "         or an expression, which is assumed to be equal to ``0``.\n",
      "    \n",
      "         ``func`` holds ``x(t)`` and ``y(t)`` being functions of one variable which\n",
      "         together with some of their derivatives make up the system of ordinary\n",
      "         differential equation ``eq``. It is not necessary to provide this; it\n",
      "         will be autodetected (and an error raised if it couldn't be detected).\n",
      "    \n",
      "     **Hints**\n",
      "    \n",
      "         The hints are formed by parameters returned by classify_sysode, combining\n",
      "         them give hints name used later for forming method name.\n",
      "    \n",
      "     Examples\n",
      "     ========\n",
      "    \n",
      "     >>> from sympy import Function, dsolve, Eq, Derivative, sin, cos, symbols\n",
      "     >>> from sympy.abc import x\n",
      "     >>> f = Function('f')\n",
      "     >>> dsolve(Derivative(f(x), x, x) + 9*f(x), f(x))\n",
      "     Eq(f(x), C1*sin(3*x) + C2*cos(3*x))\n",
      "    \n",
      "     >>> eq = sin(x)*cos(f(x)) + cos(x)*sin(f(x))*f(x).diff(x)\n",
      "     >>> dsolve(eq, hint='1st_exact')\n",
      "     [Eq(f(x), -acos(C1/cos(x)) + 2*pi), Eq(f(x), acos(C1/cos(x)))]\n",
      "     >>> dsolve(eq, hint='almost_linear')\n",
      "     [Eq(f(x), -acos(C1/cos(x)) + 2*pi), Eq(f(x), acos(C1/cos(x)))]\n",
      "     >>> t = symbols('t')\n",
      "     >>> x, y = symbols('x, y', cls=Function)\n",
      "     >>> eq = (Eq(Derivative(x(t),t), 12*t*x(t) + 8*y(t)), Eq(Derivative(y(t),t), 21*x(t) + 7*t*y(t)))\n",
      "     >>> dsolve(eq)\n",
      "     [Eq(x(t), C1*x0(t) + C2*x0(t)*Integral(8*exp(Integral(7*t, t))*exp(Integral(12*t, t))/x0(t)**2, t)),\n",
      "     Eq(y(t), C1*y0(t) + C2*(y0(t)*Integral(8*exp(Integral(7*t, t))*exp(Integral(12*t, t))/x0(t)**2, t) +\n",
      "     exp(Integral(7*t, t))*exp(Integral(12*t, t))/x0(t)))]\n",
      "     >>> eq = (Eq(Derivative(x(t),t),x(t)*y(t)*sin(t)), Eq(Derivative(y(t),t),y(t)**2*sin(t)))\n",
      "     >>> dsolve(eq)\n",
      "     {Eq(x(t), -exp(C1)/(C2*exp(C1) - cos(t))), Eq(y(t), -1/(C1 - cos(t)))}\n",
      "\n"
     ]
    }
   ],
   "source": [
    "from sympy import dsolve\n",
    "help(dsolve)"
   ]
  },
  {
   "cell_type": "markdown",
   "metadata": {},
   "source": [
    "## Question 0:\n",
    "\n",
    "Solve the following differential equations using `sympy`:\n",
    "\n",
    "(i) $y' + xy = x^2$\n",
    "\n",
    "(ii) $y'' + 11y' + 30y = 0$\n",
    "\n",
    "(iii) $y'' + 11y' + 30y = 2 \\cos(t) $\n",
    "\n",
    "(iv) $y'' + a^2y = 5 \\quad | \\quad a:= \\text{ const. }$\n",
    "\n",
    "----\n",
    "\n",
    "Below, the equations are not DEs you are likely used to, and are solved with methods you have (probably) not learned yet.\n",
    "\n",
    "For completeness, the methods used to solve these can be _Variation of Parameters_. But, you can solve them here with `sympy`.\n",
    "\n",
    "(v) $y'' - y = \\frac{2}{e^x + 1}$\n",
    "\n",
    "(vi) $y'' + y = \\tan(x) \\sec(x)$\n",
    "\n",
    "## Answer 0:"
   ]
  },
  {
   "cell_type": "code",
   "execution_count": null,
   "metadata": {},
   "outputs": [],
   "source": []
  },
  {
   "cell_type": "markdown",
   "metadata": {},
   "source": [
    "## `try` and `except` blocks.\n",
    "\n"
   ]
  },
  {
   "cell_type": "markdown",
   "metadata": {},
   "source": [
    "Run the following code:\n",
    "\n",
    "### Example 1:"
   ]
  },
  {
   "cell_type": "code",
   "execution_count": null,
   "metadata": {},
   "outputs": [],
   "source": [
    "from sympy import Symbol, Function, dsolve, diff, init_printing, tan, sec, csc, E as e\n",
    "init_printing()\n",
    "x = Symbol('x')\n",
    "y = Function('y')(x)\n",
    "yp = diff(y)\n",
    "ypp = diff(yp)\n",
    "\n",
    "######################################\n",
    "eq = (x**3)*ypp + x*yp -y \n",
    "######################################\n",
    "\n",
    "dsolve(eq, y)"
   ]
  },
  {
   "cell_type": "markdown",
   "metadata": {},
   "source": [
    "We can see the code fails horribly with something called a `NotImplementedError`. If solving this DE were one of a sequence of steps, it would cause our code to exit and the program to halt -- not particularly desirable."
   ]
  },
  {
   "cell_type": "markdown",
   "metadata": {},
   "source": [
    "## Question 1:\n",
    "\n",
    "Looking back at the code before question 0, we can see a use of `try` and `except`. \n",
    "\n",
    "(i) What do you think the use of these keywords does? \n",
    "\n",
    "_(If this perplexes you, try commenting out the lines and changing the indents to see what happens without it)._\n",
    "\n",
    "(ii) Attempt to re-implement the code in `Example 1` below with a `try`-`except` block.\n",
    "\n",
    "## Answer 1:"
   ]
  },
  {
   "cell_type": "code",
   "execution_count": null,
   "metadata": {},
   "outputs": [],
   "source": []
  },
  {
   "cell_type": "markdown",
   "metadata": {},
   "source": [
    "## Systems of Differential Equations\n",
    "\n",
    "Consider the system:\n",
    "\n",
    "$$\n",
    "\\frac{dx_1}{dt} = -2 x_1 + 5 x_2 \n",
    "\\quad;\\quad\n",
    "\\frac{dx_2}{dt} = x_1 + 2 x_2 \n",
    "$$\n",
    "\n",
    "We can form this as a matrix:\n",
    "\n",
    "$$\n",
    "\\begin{bmatrix}\n",
    "    x_1' \\\\\n",
    "    x_2' \\\\\n",
    "\\end{bmatrix}\n",
    "=\n",
    "\\begin{bmatrix}\n",
    "    -2 & 5 \\\\\n",
    "    1 & 2 \\\\\n",
    "\\end{bmatrix}\n",
    "\\begin{bmatrix}\n",
    "    x_1 \\\\\n",
    "    x_2\\\\\n",
    "\\end{bmatrix}\n",
    "$$\n",
    "\n",
    "And obtain the solution as:\n",
    "\n",
    "$$\n",
    "\\begin{bmatrix}\n",
    "    x_1 \\\\\n",
    "    x_2\\\\\n",
    "\\end{bmatrix}\n",
    "=\n",
    "C_1 e^{\\lambda_1 t} \\mathbf{v}_1 + C_2 e^{\\lambda_2 t} \\mathbf{v}_2\n",
    "$$\n",
    "\n",
    "Where $\\lambda_n$ is the $n$-th eigenvalue and $\\mathbf{v}_n$ is the $n$-th eigen-vector."
   ]
  },
  {
   "cell_type": "markdown",
   "metadata": {},
   "source": [
    "Let's generate the matrix to get started:"
   ]
  },
  {
   "cell_type": "code",
   "execution_count": 2,
   "metadata": {},
   "outputs": [
    {
     "data": {
      "text/latex": [
       "$$\\left[\\begin{matrix}-2 & 5\\\\1 & 2\\end{matrix}\\right]$$"
      ],
      "text/plain": [
       "⎡-2  5⎤\n",
       "⎢     ⎥\n",
       "⎣1   2⎦"
      ]
     },
     "metadata": {},
     "output_type": "display_data"
    }
   ],
   "source": [
    "from sympy import Matrix, Symbol, init_printing\n",
    "init_printing()\n",
    "\n",
    "x1 = Symbol('x_1')\n",
    "x2 = Symbol('x_2')\n",
    "\n",
    "A = Matrix([\n",
    "    [-2,5],\n",
    "    [1,2]\n",
    "])\n",
    "display(A)"
   ]
  },
  {
   "cell_type": "markdown",
   "metadata": {},
   "source": [
    "The solution to the system is heavily dependent on whether we can diagonalise the matrix.\n",
    "\n",
    "i.e.\n",
    "\n",
    "$$\n",
    "\\mathbf{A} = \\mathbf{PDP^{-1}}\n",
    "$$\n",
    "\n",
    "Where $\\mathbf{D}$ is a diagonal matrix.\n",
    "\n",
    "We can easily diagonalise with a simple `method` called `diagonalize()` (note the american-english spelling)."
   ]
  },
  {
   "cell_type": "code",
   "execution_count": 12,
   "metadata": {},
   "outputs": [
    {
     "data": {
      "text/plain": [
       "'P'"
      ]
     },
     "metadata": {},
     "output_type": "display_data"
    },
    {
     "data": {
      "text/latex": [
       "$$\\left[\\begin{matrix}-5 & 1\\\\1 & 1\\end{matrix}\\right]$$"
      ],
      "text/plain": [
       "⎡-5  1⎤\n",
       "⎢     ⎥\n",
       "⎣1   1⎦"
      ]
     },
     "metadata": {},
     "output_type": "display_data"
    },
    {
     "data": {
      "text/plain": [
       "'D'"
      ]
     },
     "metadata": {},
     "output_type": "display_data"
    },
    {
     "data": {
      "text/latex": [
       "$$\\left[\\begin{matrix}-3 & 0\\\\0 & 3\\end{matrix}\\right]$$"
      ],
      "text/plain": [
       "⎡-3  0⎤\n",
       "⎢     ⎥\n",
       "⎣0   3⎦"
      ]
     },
     "metadata": {},
     "output_type": "display_data"
    },
    {
     "data": {
      "text/plain": [
       "'P^-1'"
      ]
     },
     "metadata": {},
     "output_type": "display_data"
    },
    {
     "data": {
      "text/latex": [
       "$$\\left[\\begin{matrix}- \\frac{1}{6} & \\frac{1}{6}\\\\\\frac{1}{6} & \\frac{5}{6}\\end{matrix}\\right]$$"
      ],
      "text/plain": [
       "⎡-1/6  1/6⎤\n",
       "⎢         ⎥\n",
       "⎣1/6   5/6⎦"
      ]
     },
     "metadata": {},
     "output_type": "display_data"
    },
    {
     "data": {
      "text/plain": [
       "'A == P*D*P^-1  ?'"
      ]
     },
     "metadata": {},
     "output_type": "display_data"
    },
    {
     "data": {
      "text/plain": [
       "True"
      ]
     },
     "metadata": {},
     "output_type": "display_data"
    }
   ],
   "source": [
    "P,D = A.diagonalize()\n",
    "\n",
    "display('P')\n",
    "display(P)\n",
    "display('D')\n",
    "display(D)\n",
    "display('P^-1')\n",
    "display(P**-1)\n",
    "\n",
    "# Are they the same?\n",
    "display('A == P*D*P^-1  ?')\n",
    "if A == P*D*P**-1:\n",
    "    display(True)"
   ]
  },
  {
   "cell_type": "markdown",
   "metadata": {},
   "source": [
    "Note that $\\mathbf{D}$ is in fact a diagonal matrix of the eigenvalues."
   ]
  },
  {
   "cell_type": "code",
   "execution_count": 6,
   "metadata": {},
   "outputs": [
    {
     "data": {
      "image/png": "[encoded data removed]",
      "text/latex": [
       "$$\\left \\{ -3 : 1, \\quad 3 : 1\\right \\}$$"
      ],
      "text/plain": [
       "{-3: 1, 3: 1}"
      ]
     },
     "execution_count": 6,
     "metadata": {},
     "output_type": "execute_result"
    }
   ],
   "source": [
    "A.eigenvals()"
   ]
  },
  {
   "cell_type": "markdown",
   "metadata": {},
   "source": [
    "What of the eigenvectors?"
   ]
  },
  {
   "cell_type": "code",
   "execution_count": 13,
   "metadata": {},
   "outputs": [
    {
     "data": {
      "text/latex": [
       "$$\\left [ \\left ( -3, \\quad 1, \\quad \\left [ \\left[\\begin{matrix}-5\\\\1\\end{matrix}\\right]\\right ]\\right ), \\quad \\left ( 3, \\quad 1, \\quad \\left [ \\left[\\begin{matrix}1\\\\1\\end{matrix}\\right]\\right ]\\right )\\right ]$$"
      ],
      "text/plain": [
       "⎡⎛       ⎡⎡-5⎤⎤⎞  ⎛      ⎡⎡1⎤⎤⎞⎤\n",
       "⎢⎜-3, 1, ⎢⎢  ⎥⎥⎟, ⎜3, 1, ⎢⎢ ⎥⎥⎟⎥\n",
       "⎣⎝       ⎣⎣1 ⎦⎦⎠  ⎝      ⎣⎣1⎦⎦⎠⎦"
      ]
     },
     "execution_count": 13,
     "metadata": {},
     "output_type": "execute_result"
    }
   ],
   "source": [
    "A.eigenvects()"
   ]
  },
  {
   "cell_type": "markdown",
   "metadata": {},
   "source": [
    "It appears that $\\mathbf{P}$ is simply our eigenvectors collated into one matrix.\n",
    "\n",
    "So by the assertion at the beginning of this section, the solution must be:\n",
    "\n",
    "$$\n",
    "\\begin{bmatrix}\n",
    "    x_1 \\\\\n",
    "    x_2\\\\\n",
    "\\end{bmatrix}\n",
    "=\n",
    "C_1 e^{\\lambda_1 t} \\mathbf{v}_1 + C_2 e^{\\lambda_2 t} \\mathbf{v}_2\n",
    "$$\n",
    "\n",
    "$$\n",
    "\\begin{bmatrix}\n",
    "    x_1 \\\\\n",
    "    x_2\\\\\n",
    "\\end{bmatrix}\n",
    "=\n",
    "C_1 e^{-3 t} \\begin{bmatrix} -5 \\\\ 1 \\end{bmatrix} + C_2 e^{3 t} \\begin{bmatrix} 1 \\\\ 1 \\end{bmatrix}\n",
    "$$"
   ]
  },
  {
   "cell_type": "markdown",
   "metadata": {},
   "source": [
    "## Question 2\n",
    "\n",
    "What are the solutions to the following systems?\n",
    "\n",
    "(i) \n",
    "\n",
    "$$\n",
    "\\frac{dx}{dt} = x - 8y \n",
    "\\quad ; \\quad\n",
    "\\frac{dy}{dt} = 2x + y\n",
    "$$\n",
    "\n",
    "(ii) \n",
    "\n",
    "$$\n",
    "\\frac{dx}{dt} = x + 2y - 3z\n",
    "\\quad ; \\quad\n",
    "\\frac{dy}{dt} = -5x + y - 4z\n",
    "\\quad ; \\quad\n",
    "\\frac{dz}{dt} = -2y + 4z\n",
    "$$\n",
    "\n",
    "## Answer 2"
   ]
  },
  {
   "cell_type": "code",
   "execution_count": null,
   "metadata": {},
   "outputs": [],
   "source": []
  }
 ],
 "metadata": {
  "kernelspec": {
   "display_name": "Python 3",
   "language": "python",
   "name": "python3"
  },
  "language_info": {
   "codemirror_mode": {
    "name": "ipython",
    "version": 3
   },
   "file_extension": ".py",
   "mimetype": "text/x-python",
   "name": "python",
   "nbconvert_exporter": "python",
   "pygments_lexer": "ipython3",
   "version": "3.7.4"
  }
 },
 "nbformat": 4,
 "nbformat_minor": 2
}
