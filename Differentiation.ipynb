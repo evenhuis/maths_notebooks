{
 "cells": [
  {
   "cell_type": "markdown",
   "metadata": {},
   "source": [
    "# Differentiation"
   ]
  },
  {
   "cell_type": "markdown",
   "metadata": {},
   "source": [
    "Some elementary functions and their derivatives:\n",
    "\n",
    "$$\n",
    "    \\cos (x)                           \\qquad \\frac{d}{dx} \\left( \\cos (x) \\right) = - \\sin(x)\n",
    "    \\\\\n",
    "    \\sin (x)                           \\qquad \\frac{d}{dx} \\left( \\sin (x) \\right) = \\cos (x)\n",
    "    \\\\\n",
    "    \\tan (x)                           \\qquad \\frac{d}{dx} \\left( \\tan (x)  \\right) = \\sec^2 (x)\n",
    "    \\\\\n",
    "    \\ln (x)                            \\qquad \\frac{d}{dx} \\left( \\ln (x)  \\right) = \\frac{1}{x}\n",
    "    \\\\\n",
    "    x^n + x^{n-1} + \\ldots + x + c     \n",
    "    \\qquad \\frac{d}{dx} \\left( x^n + x^{n-1} + \\ldots + x + c \\right) \n",
    "    =  (n)x^{n-1} + (n-1)x^{n-2} + \\ldots + 1 + 0\n",
    "$$\n",
    "\n",
    "Let's validate these with `sympy`."
   ]
  },
  {
   "cell_type": "code",
   "execution_count": null,
   "metadata": {},
   "outputs": [],
   "source": [
    "# Setup\n",
    "from sympy import *\n",
    "from sympy import __version__ as sympy_version\n",
    "print(\"Sympy version is: \\t\" + sympy_version)\n",
    "x = Symbol('x')\n",
    "# from sympy.abc import x     # Prepare the variable x.\n",
    "init_printing()             # Make things print nicely"
   ]
  },
  {
   "cell_type": "code",
   "execution_count": null,
   "metadata": {},
   "outputs": [],
   "source": [
    "y = cos(x)\n",
    "y_prime = diff(y)\n",
    "\n",
    "y_prime"
   ]
  },
  {
   "cell_type": "code",
   "execution_count": null,
   "metadata": {},
   "outputs": [],
   "source": [
    "y = sin(x)\n",
    "y_prime = diff(y)\n",
    "\n",
    "y_prime"
   ]
  },
  {
   "cell_type": "code",
   "execution_count": null,
   "metadata": {},
   "outputs": [],
   "source": [
    "y = tan(x)\n",
    "y_prime = diff(y)\n",
    "\n",
    "y_prime"
   ]
  },
  {
   "cell_type": "code",
   "execution_count": null,
   "metadata": {
    "scrolled": true
   },
   "outputs": [],
   "source": [
    "y = ln(x)\n",
    "y_prime = diff(y)\n",
    "\n",
    "y_prime"
   ]
  },
  {
   "cell_type": "code",
   "execution_count": null,
   "metadata": {},
   "outputs": [],
   "source": [
    "y = x**3 + x**2 + x + 1\n",
    "y_prime = diff(y)\n",
    "\n",
    "y_prime"
   ]
  },
  {
   "cell_type": "markdown",
   "metadata": {},
   "source": [
    "## More complex derivatives\n",
    "\n",
    "Say we have a more difficult function to differentiate, using a symbolic package we can easily obtain an accurate and useful answer to our problem in a few lines of code.\n",
    "\n"
   ]
  },
  {
   "cell_type": "code",
   "execution_count": null,
   "metadata": {},
   "outputs": [],
   "source": [
    "y = cos(3*x)*sin(4*x)*tan(5*x)\n",
    "\n",
    "y"
   ]
  },
  {
   "cell_type": "code",
   "execution_count": null,
   "metadata": {},
   "outputs": [],
   "source": [
    "y_prime = diff(y)\n",
    "\n",
    "y_prime"
   ]
  },
  {
   "cell_type": "markdown",
   "metadata": {},
   "source": [
    "## Perhaps we don't know the coefficients?\n",
    "\n",
    "Still doable!"
   ]
  },
  {
   "cell_type": "code",
   "execution_count": null,
   "metadata": {},
   "outputs": [],
   "source": [
    "from sympy.abc import a,b,c\n",
    "y = cos(a*x)*sin(b*x)*tan(c*x)\n",
    "\n",
    "y"
   ]
  },
  {
   "cell_type": "code",
   "execution_count": null,
   "metadata": {},
   "outputs": [],
   "source": [
    "# Differentiate with respect to x. Optional second argument indicates what to differentiate with\n",
    "y_prime = diff(y, x)            \n",
    "\n",
    "y_prime"
   ]
  },
  {
   "cell_type": "markdown",
   "metadata": {},
   "source": [
    "## Repetitive Derivatives"
   ]
  },
  {
   "cell_type": "markdown",
   "metadata": {},
   "source": [
    "Say we want to differentiate to a certain power, we can specify that with a third argument to `diff()`"
   ]
  },
  {
   "cell_type": "code",
   "execution_count": null,
   "metadata": {},
   "outputs": [],
   "source": [
    "y = cos(a*x)\n",
    "\n",
    "# Here, the third argument indicates how many times to differentiate.\n",
    "# We are taking the 100th derivative.\n",
    "y_prime = diff(y, x, 100)            \n",
    "\n",
    "y_prime"
   ]
  },
  {
   "cell_type": "markdown",
   "metadata": {},
   "source": [
    "Let's take a high-order derivative of a more complicated function."
   ]
  },
  {
   "cell_type": "code",
   "execution_count": null,
   "metadata": {},
   "outputs": [],
   "source": [
    "y = tan(x)*1/x\n",
    "y_prime = diff(y, x, 10)\n",
    "\n",
    "y_prime   # Note that large functions format poorly on github, but nicely when run on locally on your computer (hopefully)."
   ]
  },
  {
   "cell_type": "markdown",
   "metadata": {},
   "source": [
    "Here, computer-based symbolic manipulations show their strength."
   ]
  },
  {
   "cell_type": "code",
   "execution_count": null,
   "metadata": {},
   "outputs": [],
   "source": [
    "#TODO\n",
    "from sympy import init_printing\n",
    "from math import sin\n",
    "\n",
    "init_printing()\n",
    "x = 0.1\n",
    "display(x)\n",
    "display((x**2)*sin(1/x))"
   ]
  },
  {
   "cell_type": "markdown",
   "metadata": {},
   "source": [
    "# -------- Questions --------"
   ]
  },
  {
   "cell_type": "markdown",
   "metadata": {},
   "source": [
    "## Question 1:\n",
    "\n",
    "Calculate the second derivative of:\n",
    "\n",
    "$$\n",
    "\\frac\n",
    "{\\tan (x) + \\sin(x)}\n",
    "{x}\n",
    "$$"
   ]
  },
  {
   "cell_type": "markdown",
   "metadata": {},
   "source": [
    "## Answer 1:\n"
   ]
  },
  {
   "cell_type": "code",
   "execution_count": null,
   "metadata": {},
   "outputs": [],
   "source": []
  },
  {
   "cell_type": "markdown",
   "metadata": {},
   "source": [
    "## Question 2:\n",
    "\n",
    "Consider the function:\n",
    "\n",
    "$$\n",
    "    \\sqrt{x} \\cdot \\sin\\left(x\\right) \n",
    "$$\n",
    "\n",
    "Symbolically plot it in blue(`'b'`)  and its derivative in red (`'r'`) on the same plot over the domain $[0,2\\pi]$\n"
   ]
  },
  {
   "cell_type": "markdown",
   "metadata": {},
   "source": [
    "## Answer 2:"
   ]
  },
  {
   "cell_type": "code",
   "execution_count": null,
   "metadata": {},
   "outputs": [],
   "source": []
  },
  {
   "cell_type": "markdown",
   "metadata": {},
   "source": [
    "## Question 3:\n",
    "\n",
    "\n",
    "If $n$ is the 3rd number in your Student ID number, find the $n$-th derivative of $y = e^x \\cdot \\sin(x)$ "
   ]
  },
  {
   "cell_type": "code",
   "execution_count": null,
   "metadata": {},
   "outputs": [],
   "source": []
  },
  {
   "cell_type": "markdown",
   "metadata": {},
   "source": [
    "## Answer 3:"
   ]
  },
  {
   "cell_type": "code",
   "execution_count": null,
   "metadata": {},
   "outputs": [],
   "source": []
  },
  {
   "cell_type": "markdown",
   "metadata": {},
   "source": [
    "## Question 4:\n",
    "\n",
    "If $f$ is a function of $x$ and $g$ is a function of $x$, find:\n",
    "\n",
    "$$\n",
    "    \\frac{d}{dx} \\left( f\\cdot g \\right) \n",
    "$$\n",
    "\n",
    "\n"
   ]
  },
  {
   "cell_type": "code",
   "execution_count": null,
   "metadata": {},
   "outputs": [],
   "source": []
  },
  {
   "cell_type": "markdown",
   "metadata": {},
   "source": [
    "## Answer 4:"
   ]
  },
  {
   "cell_type": "code",
   "execution_count": null,
   "metadata": {},
   "outputs": [],
   "source": []
  },
  {
   "cell_type": "markdown",
   "metadata": {},
   "source": [
    "## Question 5:\n",
    "\n",
    "### (i)\n",
    "If $f$ is a function of $x$ and $g$ is a function of $x$, find:\n",
    "\n",
    "$$\n",
    "    \\frac{d}{dx} \\left( \\frac{f}{g} \\right) \n",
    "$$\n",
    "\n",
    "### (ii)\n",
    "How does this stack up with your knowledge of the quotient rule? Is the answer equivalent?\n"
   ]
  },
  {
   "cell_type": "markdown",
   "metadata": {},
   "source": [
    "## Answer 5:"
   ]
  },
  {
   "cell_type": "code",
   "execution_count": null,
   "metadata": {},
   "outputs": [],
   "source": []
  },
  {
   "cell_type": "code",
   "execution_count": null,
   "metadata": {},
   "outputs": [],
   "source": []
  }
 ],
 "metadata": {
  "kernelspec": {
   "display_name": "Python 3",
   "language": "python",
   "name": "python3"
  },
  "language_info": {
   "codemirror_mode": {
    "name": "ipython",
    "version": 3
   },
   "file_extension": ".py",
   "mimetype": "text/x-python",
   "name": "python",
   "nbconvert_exporter": "python",
   "pygments_lexer": "ipython3",
   "version": "3.7.3"
  }
 },
 "nbformat": 4,
 "nbformat_minor": 2
}
